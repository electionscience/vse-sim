{
 "cells": [
  {
   "cell_type": "code",
   "execution_count": 2,
   "id": "67627dd4",
   "metadata": {},
   "outputs": [],
   "source": [
    "from vse import *"
   ]
  },
  {
   "cell_type": "code",
   "execution_count": 3,
   "id": "d7596a4a",
   "metadata": {},
   "outputs": [],
   "source": [
    "e = KSModel()(21, 3)"
   ]
  },
  {
   "cell_type": "code",
   "execution_count": 4,
   "id": "fa7d2655",
   "metadata": {},
   "outputs": [
    {
     "data": {
      "text/plain": [
       "[(-0.8383276392889056, -0.6753492906304237, -0.8887994190424836),\n",
       " (-0.6633643759903016, -0.5760178570335917, -0.44576617054657963),\n",
       " (-0.39676254955351975, -1.129902215315954, -1.0503490129725217),\n",
       " (-0.2863211587643865, -1.1560925357377199, -1.0604691011425107),\n",
       " (-0.7751653639027697, -0.5592923158138169, -0.748914154795338),\n",
       " (-0.8842848337144179, -0.33757670306038073, -0.46898881164778805),\n",
       " (-1.5250105148644444, -0.6738133263502639, -0.6922558703312696),\n",
       " (-0.7681639741758344, -0.5701359365196744, -0.5479686513663867),\n",
       " (-0.5015720530003208, -0.7260230404939145, -0.7665311787465368),\n",
       " (-0.6256360999961439, -0.6930238863246416, -0.7642192590782928),\n",
       " (-0.48742512889326595, -0.7313970479226186, -0.7321446531380159),\n",
       " (-1.4563765260064956, -1.5502223373477384, -1.228841544398382),\n",
       " (-1.3556057664815602, -1.0082502689355763, -1.3097756917647807),\n",
       " (-0.6111990809979093, -1.3258929563302277, -1.3364178252112815),\n",
       " (-0.5205978325534538, -0.9391440880689543, -0.923560865877273),\n",
       " (-1.4357331134005296, -0.781828316240508, -1.0204599204448037),\n",
       " (-1.3178481920717813, -0.9170426396794381, -0.4716474592198994),\n",
       " (-0.4222744476669831, -0.8380228811032177, -0.7983282732973287),\n",
       " (-1.8446340840515103, -0.8720802514159317, -1.1172058666619615),\n",
       " (-0.6804905094461581, -0.8403954566234689, -0.8982536944199626),\n",
       " (-0.5686989724515162, -0.7194283910036114, -0.5736628055731082)]"
      ]
     },
     "execution_count": 4,
     "metadata": {},
     "output_type": "execute_result"
    }
   ],
   "source": [
    "e"
   ]
  },
  {
   "cell_type": "code",
   "execution_count": 5,
   "id": "8fb2b3e3",
   "metadata": {},
   "outputs": [
    {
     "data": {
      "text/plain": [
       "[{'method': 'ApprovalPoll',\n",
       "  'backgroundStrat': 'honBallot',\n",
       "  'fgStrat': None,\n",
       "  'numVoters': 21,\n",
       "  'numCandidates': 3,\n",
       "  'magicBestUtil': -0.8390919877119843,\n",
       "  'magicWorstUtil': -0.8554996293939148,\n",
       "  'meanCandidateUtil': -0.848110860141276,\n",
       "  'r0ExpectedUtil': -0.8554968742960292,\n",
       "  'r0WinnerUtil': -0.8554996293939148,\n",
       "  'r1WinnerUtil': -0.8554996293939148,\n",
       "  'probOfWin': 0.9997514157147259,\n",
       "  'r1WinProb': 0.9997514157147259,\n",
       "  'winnerPlaceInR0': None,\n",
       "  'winnerPlaceInR1': None,\n",
       "  'results': [0.47619047619047616, 0.38095238095238093, 0.38095238095238093],\n",
       "  'bgArgs': {},\n",
       "  'fgArgs': None,\n",
       "  'totalUtil': -0.8554996293939148,\n",
       "  'deciderUtilDiffs': None,\n",
       "  'fgTargets': None,\n",
       "  'totalStratUtilDiff': None,\n",
       "  'margStrategicRegret': None,\n",
       "  'avgStrategicRegret': None,\n",
       "  'pivotalUtilDiff': None,\n",
       "  'deciderUtilDiffSum': None,\n",
       "  'deciderMargUtilDiffs': None,\n",
       "  'numWinnersFound': None,\n",
       "  'factionSize': None,\n",
       "  'factionFraction': None,\n",
       "  'fgUtil': None,\n",
       "  'fgUtilDiff': None,\n",
       "  'fgSize': None,\n",
       "  'fgNumHelped': None,\n",
       "  'fgHelpedUtil': None,\n",
       "  'fgHelpedUtilDiff': None,\n",
       "  'fgNumHarmed': None,\n",
       "  'fgHarmedUtil': None,\n",
       "  'fgHarmedUtilDiff': None,\n",
       "  'helpCandElected': None,\n",
       "  'hurtCandElectedR1': None,\n",
       "  'minfgUtil': None,\n",
       "  'minfgUtilDiff': None,\n",
       "  'minfgSize': None,\n",
       "  'minfgNumHelped': None,\n",
       "  'minfgHelpedUtil': None,\n",
       "  'minfgHelpedUtilDiff': None,\n",
       "  'minfgNumHarmed': None,\n",
       "  'minfgHarmedUtil': None,\n",
       "  'minfgHarmedUtilDiff': None,\n",
       "  'minhelpCandElected': None,\n",
       "  'minhurtCandElectedR1': None,\n",
       "  't1fgUtil': None,\n",
       "  't1fgUtilDiff': None,\n",
       "  't1fgSize': None,\n",
       "  't1fgNumHelped': None,\n",
       "  't1fgHelpedUtil': None,\n",
       "  't1fgHelpedUtilDiff': None,\n",
       "  't1fgNumHarmed': None,\n",
       "  't1fgHarmedUtil': None,\n",
       "  't1fgHarmedUtilDiff': None,\n",
       "  't1helpCandElected': None,\n",
       "  't1hurtCandElectedR1': None,\n",
       "  'ofgUtil': None,\n",
       "  'ofgUtilDiff': None,\n",
       "  'ofgSize': None,\n",
       "  'ofgNumHelped': None,\n",
       "  'ofgHelpedUtil': None,\n",
       "  'ofgHelpedUtilDiff': None,\n",
       "  'ofgNumHarmed': None,\n",
       "  'ofgHarmedUtil': None,\n",
       "  'ofgHarmedUtilDiff': None,\n",
       "  'ohelpCandElected': None,\n",
       "  'ohurtCandElectedR1': None,\n",
       "  'electorate': UUID('dc40985b-b214-4285-a721-38d6f6d08380')},\n",
       " {'method': 'IRV',\n",
       "  'backgroundStrat': 'honBallot',\n",
       "  'fgStrat': None,\n",
       "  'numVoters': 21,\n",
       "  'numCandidates': 3,\n",
       "  'magicBestUtil': -0.8390919877119843,\n",
       "  'magicWorstUtil': -0.8554996293939148,\n",
       "  'meanCandidateUtil': -0.848110860141276,\n",
       "  'r0ExpectedUtil': -0.8554968742960292,\n",
       "  'r0WinnerUtil': -0.8554996293939148,\n",
       "  'r1WinnerUtil': -0.8554996293939148,\n",
       "  'probOfWin': 0.9997514157147259,\n",
       "  'r1WinProb': 0.9997514157147259,\n",
       "  'winnerPlaceInR0': 1,\n",
       "  'winnerPlaceInR1': None,\n",
       "  'results': [0.5238095238095238, 0.47619047619047616, 0.3333333333333333],\n",
       "  'bgArgs': {},\n",
       "  'fgArgs': None,\n",
       "  'totalUtil': -0.8554996293939148,\n",
       "  'deciderUtilDiffs': None,\n",
       "  'fgTargets': None,\n",
       "  'totalStratUtilDiff': None,\n",
       "  'margStrategicRegret': None,\n",
       "  'avgStrategicRegret': None,\n",
       "  'pivotalUtilDiff': None,\n",
       "  'deciderUtilDiffSum': None,\n",
       "  'deciderMargUtilDiffs': None,\n",
       "  'numWinnersFound': None,\n",
       "  'factionSize': None,\n",
       "  'factionFraction': None,\n",
       "  'fgUtil': None,\n",
       "  'fgUtilDiff': None,\n",
       "  'fgSize': None,\n",
       "  'fgNumHelped': None,\n",
       "  'fgHelpedUtil': None,\n",
       "  'fgHelpedUtilDiff': None,\n",
       "  'fgNumHarmed': None,\n",
       "  'fgHarmedUtil': None,\n",
       "  'fgHarmedUtilDiff': None,\n",
       "  'helpCandElected': None,\n",
       "  'hurtCandElectedR1': None,\n",
       "  'minfgUtil': None,\n",
       "  'minfgUtilDiff': None,\n",
       "  'minfgSize': None,\n",
       "  'minfgNumHelped': None,\n",
       "  'minfgHelpedUtil': None,\n",
       "  'minfgHelpedUtilDiff': None,\n",
       "  'minfgNumHarmed': None,\n",
       "  'minfgHarmedUtil': None,\n",
       "  'minfgHarmedUtilDiff': None,\n",
       "  'minhelpCandElected': None,\n",
       "  'minhurtCandElectedR1': None,\n",
       "  't1fgUtil': None,\n",
       "  't1fgUtilDiff': None,\n",
       "  't1fgSize': None,\n",
       "  't1fgNumHelped': None,\n",
       "  't1fgHelpedUtil': None,\n",
       "  't1fgHelpedUtilDiff': None,\n",
       "  't1fgNumHarmed': None,\n",
       "  't1fgHarmedUtil': None,\n",
       "  't1fgHarmedUtilDiff': None,\n",
       "  't1helpCandElected': None,\n",
       "  't1hurtCandElectedR1': None,\n",
       "  'ofgUtil': None,\n",
       "  'ofgUtilDiff': None,\n",
       "  'ofgSize': None,\n",
       "  'ofgNumHelped': None,\n",
       "  'ofgHelpedUtil': None,\n",
       "  'ofgHelpedUtilDiff': None,\n",
       "  'ofgNumHarmed': None,\n",
       "  'ofgHarmedUtil': None,\n",
       "  'ofgHarmedUtilDiff': None,\n",
       "  'ohelpCandElected': None,\n",
       "  'ohurtCandElectedR1': None,\n",
       "  'electorate': UUID('dc40985b-b214-4285-a721-38d6f6d08380')},\n",
       " {'method': 'IRV',\n",
       "  'backgroundStrat': 'honBallot',\n",
       "  'fgStrat': 'diehardBallot',\n",
       "  'numVoters': 21,\n",
       "  'numCandidates': 3,\n",
       "  'magicBestUtil': -0.8390919877119843,\n",
       "  'magicWorstUtil': -0.8554996293939148,\n",
       "  'meanCandidateUtil': -0.848110860141276,\n",
       "  'r0ExpectedUtil': -0.8554968742960292,\n",
       "  'r0WinnerUtil': -0.8554996293939148,\n",
       "  'r1WinnerUtil': -0.8554996293939148,\n",
       "  'probOfWin': 0.0001242921426370457,\n",
       "  'r1WinProb': 0.9997514157147259,\n",
       "  'winnerPlaceInR0': 2,\n",
       "  'winnerPlaceInR1': 2,\n",
       "  'results': [0.47619047619047616, 0.5238095238095238, 0.3333333333333333],\n",
       "  'bgArgs': {},\n",
       "  'fgArgs': {'intensity': 3},\n",
       "  'totalUtil': -0.8390919877119843,\n",
       "  'deciderUtilDiffs': None,\n",
       "  'fgTargets': 'select31',\n",
       "  'totalStratUtilDiff': 0.8278021714902255,\n",
       "  'margStrategicRegret': 0.8486031022478066,\n",
       "  'avgStrategicRegret': 1.67197071690509,\n",
       "  'pivotalUtilDiff': 2.4512201694901035,\n",
       "  'deciderUtilDiffSum': 0.19802803765615995,\n",
       "  'deciderMargUtilDiffs': [(0.19802803765615995, 6, 0.08078753598757848)],\n",
       "  'numWinnersFound': 2,\n",
       "  'factionSize': 10,\n",
       "  'factionFraction': 0.7,\n",
       "  'fgUtil': -0.7846259952396921,\n",
       "  'fgUtilDiff': 0.4179926792262725,\n",
       "  'fgSize': 10,\n",
       "  'fgNumHelped': 9,\n",
       "  'fgHelpedUtil': -6.296037615049182,\n",
       "  'fgHelpedUtilDiff': 4.273772603603967,\n",
       "  'fgNumHarmed': 1,\n",
       "  'fgHarmedUtil': -1.5502223373477384,\n",
       "  'fgHarmedUtilDiff': -0.09384581134124281,\n",
       "  'helpCandElected': 0,\n",
       "  'hurtCandElectedR1': 1,\n",
       "  'minfgUtil': -0.8554272623490435,\n",
       "  'minfgUtilDiff': 0.5552206150024864,\n",
       "  'minfgSize': 6,\n",
       "  'minfgNumHelped': 5,\n",
       "  'minfgHelpedUtil': -3.5823412367465224,\n",
       "  'minfgHelpedUtilDiff': 3.4251695013561614,\n",
       "  'minfgNumHarmed': 1,\n",
       "  'minfgHarmedUtil': -1.5502223373477384,\n",
       "  'minfgHarmedUtilDiff': -0.09384581134124281,\n",
       "  'minhelpCandElected': 0,\n",
       "  'minhurtCandElectedR1': 1,\n",
       "  't1fgUtil': None,\n",
       "  't1fgUtilDiff': None,\n",
       "  't1fgSize': None,\n",
       "  't1fgNumHelped': None,\n",
       "  't1fgHelpedUtil': None,\n",
       "  't1fgHelpedUtilDiff': None,\n",
       "  't1fgNumHarmed': None,\n",
       "  't1fgHarmedUtil': None,\n",
       "  't1fgHarmedUtilDiff': None,\n",
       "  't1helpCandElected': None,\n",
       "  't1hurtCandElectedR1': None,\n",
       "  'ofgUtil': None,\n",
       "  'ofgUtilDiff': None,\n",
       "  'ofgSize': None,\n",
       "  'ofgNumHelped': None,\n",
       "  'ofgHelpedUtil': None,\n",
       "  'ofgHelpedUtilDiff': None,\n",
       "  'ofgNumHarmed': None,\n",
       "  'ofgHarmedUtil': None,\n",
       "  'ofgHarmedUtilDiff': None,\n",
       "  'ohelpCandElected': None,\n",
       "  'ohurtCandElectedR1': None,\n",
       "  'electorate': UUID('dc40985b-b214-4285-a721-38d6f6d08380')}]"
      ]
     },
     "execution_count": 5,
     "metadata": {},
     "output_type": "execute_result"
    }
   ],
   "source": [
    "threeRoundResults(\n",
    "    IRV,\n",
    "    e,\n",
    "    IRV.honBallot,\n",
    "    [(IRV.diehardBallot, select31, {\"intensity\": 3})],\n",
    "    pollingError=0.0,\n",
    ")"
   ]
  },
  {
   "cell_type": "code",
   "execution_count": 7,
   "id": "709e6694",
   "metadata": {},
   "outputs": [
    {
     "data": {
      "text/plain": [
       "[0.5238095238095238, 0.47619047619047616, 0.3333333333333333]"
      ]
     },
     "execution_count": 7,
     "metadata": {},
     "output_type": "execute_result"
    }
   ],
   "source": [
    "IRV.results(IRV.honBallot(v) for v in e)"
   ]
  },
  {
   "cell_type": "code",
   "execution_count": 8,
   "id": "d62d711c",
   "metadata": {},
   "outputs": [
    {
     "data": {
      "text/plain": [
       "[0.47619047619047616, 0.3333333333333333, 0.19047619047619047]"
      ]
     },
     "execution_count": 8,
     "metadata": {},
     "output_type": "execute_result"
    }
   ],
   "source": [
    "Plurality.results(Plurality.honBallot(v) for v in e)"
   ]
  },
  {
   "cell_type": "code",
   "execution_count": 11,
   "id": "173df507",
   "metadata": {},
   "outputs": [
    {
     "data": {
      "text/plain": [
       "[0.47619047619047616, 0.5238095238095238, 0.3333333333333333]"
      ]
     },
     "execution_count": 11,
     "metadata": {},
     "output_type": "execute_result"
    }
   ],
   "source": [
    "IRV.results(\n",
    "    IRV.honBallot(v)\n",
    "    if v[2] <= v[0]\n",
    "    else IRV.diehardBallot(v, intensity=3, candToHelp=2, candToHurt=0)\n",
    "    for v in e\n",
    ")"
   ]
  },
  {
   "cell_type": "code",
   "execution_count": 13,
   "id": "d4fb6426",
   "metadata": {},
   "outputs": [
    {
     "name": "stdout",
     "output_type": "stream",
     "text": [
      "[[1, 2, 0], [0, 1, 2], [2, 0, 1], [2, 0, 1], [0, 2, 1], [0, 2, 1], [0, 2, 1], [0, 1, 2], [2, 1, 0], [2, 1, 0], [2, 1, 0], [1, 0, 2], [0, 2, 1], [2, 1, 0], [2, 0, 1], [0, 2, 1], [0, 1, 2], [2, 0, 1], [0, 2, 1], [2, 1, 0], [2, 0, 1]]\n",
      "[[1, 2, 0], [0, 1, 2], [2, 0, 1], [2, 0, 1], [0, 2, 1], [0, 2, 1], [0, 2, 1], [0, 1, 2], [2, 1, 0], [2, 1, 0], [2, 1, 0], [0, 1, 2], [0, 2, 1], [2, 1, 0], [2, 0, 1], [0, 2, 1], [0, 1, 2], [2, 0, 1], [0, 2, 1], [2, 1, 0], [2, 0, 1]]\n",
      "[(-0.8383276392889056, -0.6753492906304237, -0.8887994190424836), (-0.6633643759903016, -0.5760178570335917, -0.44576617054657963), (-0.39676254955351975, -1.129902215315954, -1.0503490129725217), (-0.2863211587643865, -1.1560925357377199, -1.0604691011425107), (-0.7751653639027697, -0.5592923158138169, -0.748914154795338), (-0.8842848337144179, -0.33757670306038073, -0.46898881164778805), (-1.5250105148644444, -0.6738133263502639, -0.6922558703312696), (-0.7681639741758344, -0.5701359365196744, -0.5479686513663867), (-0.5015720530003208, -0.7260230404939145, -0.7665311787465368), (-0.6256360999961439, -0.6930238863246416, -0.7642192590782928), (-0.48742512889326595, -0.7313970479226186, -0.7321446531380159), (-1.4563765260064956, -1.5502223373477384, -1.228841544398382), (-1.3556057664815602, -1.0082502689355763, -1.3097756917647807), (-0.6111990809979093, -1.3258929563302277, -1.3364178252112815), (-0.5205978325534538, -0.9391440880689543, -0.923560865877273), (-1.4357331134005296, -0.781828316240508, -1.0204599204448037), (-1.3178481920717813, -0.9170426396794381, -0.4716474592198994), (-0.4222744476669831, -0.8380228811032177, -0.7983282732973287), (-1.8446340840515103, -0.8720802514159317, -1.1172058666619615), (-0.6804905094461581, -0.8403954566234689, -0.8982536944199626), (-0.5686989724515162, -0.7194283910036114, -0.5736628055731082)]\n"
     ]
    }
   ],
   "source": [
    "print([IRV.honBallot(v) for v in e])\n",
    "print(\n",
    "    [\n",
    "        IRV.honBallot(v)\n",
    "        if v[2] <= v[0]\n",
    "        else IRV.diehardBallot(v, intensity=3, candToHelp=2, candToHurt=0)\n",
    "        for v in e\n",
    "    ]\n",
    ")\n",
    "print(e)"
   ]
  },
  {
   "cell_type": "code",
   "execution_count": 14,
   "id": "ade439dd",
   "metadata": {},
   "outputs": [
    {
     "data": {
      "text/plain": [
       "(-1.4563765260064956, -1.5502223373477384, -1.228841544398382)"
      ]
     },
     "execution_count": 14,
     "metadata": {},
     "output_type": "execute_result"
    }
   ],
   "source": [
    "e[11]"
   ]
  },
  {
   "cell_type": "code",
   "execution_count": 16,
   "id": "d16e892d",
   "metadata": {},
   "outputs": [],
   "source": [
    "badElectorate = [\n",
    "    (-0.8383276392889056, -0.6753492906304237, -0.8887994190424836),\n",
    "    (-0.6633643759903016, -0.5760178570335917, -0.44576617054657963),\n",
    "    (-0.39676254955351975, -1.129902215315954, -1.0503490129725217),\n",
    "    (-0.2863211587643865, -1.1560925357377199, -1.0604691011425107),\n",
    "    (-0.7751653639027697, -0.5592923158138169, -0.748914154795338),\n",
    "    (-0.8842848337144179, -0.33757670306038073, -0.46898881164778805),\n",
    "    (-1.5250105148644444, -0.6738133263502639, -0.6922558703312696),\n",
    "    (-0.7681639741758344, -0.5701359365196744, -0.5479686513663867),\n",
    "    (-0.5015720530003208, -0.7260230404939145, -0.7665311787465368),\n",
    "    (-0.6256360999961439, -0.6930238863246416, -0.7642192590782928),\n",
    "    (-0.48742512889326595, -0.7313970479226186, -0.7321446531380159),\n",
    "    (-1.4563765260064956, -1.5502223373477384, -1.228841544398382),\n",
    "    (-1.3556057664815602, -1.0082502689355763, -1.3097756917647807),\n",
    "    (-0.6111990809979093, -1.3258929563302277, -1.3364178252112815),\n",
    "    (-0.5205978325534538, -0.9391440880689543, -0.923560865877273),\n",
    "    (-1.4357331134005296, -0.781828316240508, -1.0204599204448037),\n",
    "    (-1.3178481920717813, -0.9170426396794381, -0.4716474592198994),\n",
    "    (-0.4222744476669831, -0.8380228811032177, -0.7983282732973287),\n",
    "    (-1.8446340840515103, -0.8720802514159317, -1.1172058666619615),\n",
    "    (-0.6804905094461581, -0.8403954566234689, -0.8982536944199626),\n",
    "    (-0.5686989724515162, -0.7194283910036114, -0.5736628055731082),\n",
    "]\n",
    "pivotalIndex = 11\n",
    "pv = badElectorate[11]"
   ]
  },
  {
   "cell_type": "code",
   "execution_count": 19,
   "id": "22b23b24",
   "metadata": {},
   "outputs": [
    {
     "data": {
      "text/plain": [
       "-0.5128973279201179"
      ]
     },
     "execution_count": 19,
     "metadata": {},
     "output_type": "execute_result"
    }
   ],
   "source": [
    "(pv[1] - pv[0]) / (max(pv) - mean(pv))"
   ]
  },
  {
   "cell_type": "code",
   "execution_count": 20,
   "id": "42ba5512",
   "metadata": {},
   "outputs": [
    {
     "data": {
      "text/plain": [
       "[1.2988790055961161,\n",
       " 0.7533121698433897,\n",
       " -1.5860514567397581,\n",
       " -1.5872519412627861,\n",
       " 1.5971080398710527,\n",
       " 2.4186335948279307,\n",
       " 2.936378675127606,\n",
       " 2.4512201694901035,\n",
       " -1.3758460323251227,\n",
       " -0.9815139634497375,\n",
       " -1.4977052845133059,\n",
       " -0.5128973279201179,\n",
       " 1.6059441107243835,\n",
       " -1.4890359296062274,\n",
       " -1.5284535228086675,\n",
       " 2.1979096745874105,\n",
       " 0.9309542131441471,\n",
       " -1.5751979563420604,\n",
       " 2.3960833887626,\n",
       " -1.2702020655001562,\n",
       " -2.904353597829749]"
      ]
     },
     "execution_count": 20,
     "metadata": {},
     "output_type": "execute_result"
    }
   ],
   "source": [
    "[(v[1] - v[0]) / (max(v) - mean(v)) for v in e]"
   ]
  },
  {
   "cell_type": "code",
   "execution_count": 21,
   "id": "6a6c2bc7",
   "metadata": {},
   "outputs": [
    {
     "ename": "NameError",
     "evalue": "name 'v' is not defined",
     "output_type": "error",
     "traceback": [
      "\u001b[1;31m---------------------------------------------------------------------------\u001b[0m",
      "\u001b[1;31mNameError\u001b[0m                                 Traceback (most recent call last)",
      "\u001b[1;32m~\\AppData\\Local\\Temp/ipykernel_31312/2289972715.py\u001b[0m in \u001b[0;36m<module>\u001b[1;34m\u001b[0m\n\u001b[1;32m----> 1\u001b[1;33m \u001b[0mv\u001b[0m\u001b[1;33m[\u001b[0m\u001b[1;36m7\u001b[0m\u001b[1;33m]\u001b[0m\u001b[1;33m\u001b[0m\u001b[1;33m\u001b[0m\u001b[0m\n\u001b[0m",
      "\u001b[1;31mNameError\u001b[0m: name 'v' is not defined"
     ]
    }
   ],
   "source": []
  },
  {
   "cell_type": "code",
   "execution_count": null,
   "id": "430f2a92",
   "metadata": {},
   "outputs": [],
   "source": []
  }
 ],
 "metadata": {
  "kernelspec": {
   "display_name": "Python 3 (ipykernel)",
   "language": "python",
   "name": "python3"
  },
  "language_info": {
   "codemirror_mode": {
    "name": "ipython",
    "version": 3
   },
   "file_extension": ".py",
   "mimetype": "text/x-python",
   "name": "python",
   "nbconvert_exporter": "python",
   "pygments_lexer": "ipython3",
   "version": "3.9.7"
  }
 },
 "nbformat": 4,
 "nbformat_minor": 5
}
