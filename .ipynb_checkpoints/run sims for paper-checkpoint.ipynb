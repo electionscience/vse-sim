{
 "cells": [
  {
   "cell_type": "code",
   "execution_count": null,
   "id": "74b51e60",
   "metadata": {},
   "outputs": [],
   "source": [
    "from vse import *\n",
    "import random\n",
    "import datetime\n",
    "\n",
    "\n",
    "base_nvot = 101\n",
    "base_ncand = 6\n",
    "base_inner_niter = 1000\n",
    "base_pickiness = 0.7\n",
    "base_pollingError = 0.1\n",
    "base_outer_niter = 4\n",
    "main_outer_niter = 10"
   ]
  },
  {
   "cell_type": "code",
   "execution_count": null,
   "id": "210e9520",
   "metadata": {},
   "outputs": [],
   "source": []
  },
  {
   "cell_type": "code",
   "execution_count": null,
   "id": "ad3c82ec",
   "metadata": {},
   "outputs": [],
   "source": [
    "for i in range(base_outer_niter):\n",
    "    random.seed(i)\n",
    "    basic = CsvBatch(\n",
    "        KSModel(),\n",
    "        [STAR, Plurality, PluralityTop2, Approval, ApprovalTop2, Irv, Minimax],\n",
    "        nvot=base_nvot,\n",
    "        ncand=base_ncand,\n",
    "        niter=base_inner_niter,\n",
    "        pickiness=base_pickiness,\n",
    "        pollingError=base_pollingError,\n",
    "    )\n",
    "    basic.saveFile(\"output/base_scenario\")\n",
    "    print(f\"((Generated {base_inner_niter * (i+1)} {datetime.datetime.now()}))\")"
   ]
  },
  {
   "cell_type": "code",
   "execution_count": null,
   "id": "9fe17e43",
   "metadata": {},
   "outputs": [],
   "source": []
  },
  {
   "cell_type": "code",
   "execution_count": null,
   "id": "ab579039",
   "metadata": {
    "scrolled": true
   },
   "outputs": [],
   "source": [
    "for i in range(base_outer_niter):\n",
    "    random.seed(i)\n",
    "    basic = CsvBatch(\n",
    "        RandomModel(),\n",
    "        [STAR, Plurality, PluralityTop2, Approval, ApprovalTop2, Irv, Minimax],\n",
    "        nvot=base_nvot,\n",
    "        ncand=base_ncand,\n",
    "        niter=base_inner_niter,\n",
    "        pickiness=base_pickiness,\n",
    "        pollingError=base_pollingError,\n",
    "    )\n",
    "    basic.saveFile(\"output/impartial_culture\")\n",
    "    print(f\"((Generated {base_inner_niter * (i+1)} {datetime.datetime.now()}))\")\n",
    "    del basic"
   ]
  },
  {
   "cell_type": "code",
   "execution_count": null,
   "id": "6e1f5bd5",
   "metadata": {},
   "outputs": [],
   "source": [
    "for i in range(base_outer_niter):\n",
    "    random.seed(i)\n",
    "    basic = CsvBatch(\n",
    "        DimModel(ndims=2, dimWeights=[1, 1]),\n",
    "        [STAR, Plurality, PluralityTop2, Approval, ApprovalTop2, Irv, Minimax],\n",
    "        nvot=base_nvot,\n",
    "        ncand=base_ncand,\n",
    "        niter=base_inner_niter,\n",
    "        pickiness=base_pickiness,\n",
    "        pollingError=base_pollingError,\n",
    "    )\n",
    "    basic.saveFile(\"output/2d_model\")\n",
    "    print(f\"((Generated {base_inner_niter * (i+1)} {datetime.datetime.now()}))\")\n",
    "    del basic"
   ]
  },
  {
   "cell_type": "code",
   "execution_count": null,
   "id": "c4c0fe26",
   "metadata": {},
   "outputs": [],
   "source": [
    "for i in range(base_outer_niter):\n",
    "    random.seed(i)\n",
    "    basic = CsvBatch(\n",
    "        DimModel(ndims=3, dimWeights=[1, 1, 1]),\n",
    "        [STAR, Plurality, PluralityTop2, Approval, ApprovalTop2, Irv, Minimax],\n",
    "        nvot=base_nvot,\n",
    "        ncand=base_ncand,\n",
    "        niter=base_inner_niter,\n",
    "        pickiness=base_pickiness,\n",
    "        pollingError=base_pollingError,\n",
    "    )\n",
    "    basic.saveFile(\"output/3d_model\")\n",
    "    print(f\"((Generated {base_inner_niter * (i+1)} {datetime.datetime.now()}))\")\n",
    "    del basic"
   ]
  },
  {
   "cell_type": "code",
   "execution_count": null,
   "id": "75d9e9b4",
   "metadata": {},
   "outputs": [],
   "source": [
    "for i in range(base_outer_niter):\n",
    "    random.seed(i)\n",
    "    basic = CsvBatch(\n",
    "        KSModel(),\n",
    "        [STAR, Plurality, PluralityTop2, Approval, ApprovalTop2, Irv, Minimax],\n",
    "        nvot=base_nvot,\n",
    "        ncand=3,\n",
    "        niter=base_inner_niter,\n",
    "        pickiness=base_pickiness,\n",
    "        pollingError=base_pollingError,\n",
    "    )\n",
    "    basic.saveFile(\"output/3cand\")\n",
    "    print(f\"((Generated {base_inner_niter * (i+1)} {datetime.datetime.now()}))\")\n",
    "    del basic"
   ]
  },
  {
   "cell_type": "code",
   "execution_count": null,
   "id": "a61bbadd",
   "metadata": {},
   "outputs": [],
   "source": [
    "for i in range(base_outer_niter):\n",
    "    random.seed(i)\n",
    "    basic = CsvBatch(\n",
    "        KSModel(),\n",
    "        [STAR, Plurality, PluralityTop2, Approval, ApprovalTop2, Irv, Minimax],\n",
    "        nvot=base_nvot,\n",
    "        ncand=9,\n",
    "        niter=base_inner_niter,\n",
    "        pickiness=base_pickiness,\n",
    "        pollingError=base_pollingError,\n",
    "    )\n",
    "    basic.saveFile(\"output/9cand\")\n",
    "    print(f\"((Generated {base_inner_niter * (i+1)} {datetime.datetime.now()}))\")\n",
    "    del basic"
   ]
  },
  {
   "cell_type": "code",
   "execution_count": null,
   "id": "e5ecf7bd",
   "metadata": {},
   "outputs": [],
   "source": [
    "for i in range(base_outer_niter):\n",
    "    random.seed(i)\n",
    "    basic = CsvBatch(\n",
    "        KSModel(),\n",
    "        [STAR, Plurality, PluralityTop2, Approval, ApprovalTop2, Irv, Minimax],\n",
    "        nvot=base_nvot,\n",
    "        ncand=12,\n",
    "        niter=base_inner_niter,\n",
    "        pickiness=base_pickiness,\n",
    "        pollingError=base_pollingError,\n",
    "    )\n",
    "    basic.saveFile(\"output/12cand\")\n",
    "    print(f\"((Generated {base_inner_niter * (i+1)} {datetime.datetime.now()}))\")\n",
    "    del basic"
   ]
  },
  {
   "cell_type": "code",
   "execution_count": null,
   "id": "65a8c815",
   "metadata": {},
   "outputs": [],
   "source": [
    "for i in range(base_outer_niter):\n",
    "    random.seed(i)\n",
    "    basic = CsvBatch(\n",
    "        KSModel(),\n",
    "        [STAR, Plurality, PluralityTop2, Approval, ApprovalTop2, Irv, Minimax],\n",
    "        nvot=base_nvot,\n",
    "        ncand=base_ncand,\n",
    "        niter=base_inner_niter,\n",
    "        pickiness=0.99,\n",
    "        pollingError=base_pollingError,\n",
    "    )\n",
    "    basic.saveFile(\"output/plurality_picky\")\n",
    "    print(f\"((Generated {base_inner_niter * (i+1)} {datetime.datetime.now()}))\")\n",
    "    del basic"
   ]
  },
  {
   "cell_type": "code",
   "execution_count": null,
   "id": "b3e3b750",
   "metadata": {},
   "outputs": [],
   "source": [
    "for i in range(base_outer_niter):\n",
    "    random.seed(i)\n",
    "    basic = CsvBatch(\n",
    "        KSModel(),\n",
    "        [STAR, Plurality, PluralityTop2, Approval, ApprovalTop2, Irv, Minimax],\n",
    "        nvot=base_nvot,\n",
    "        ncand=base_ncand,\n",
    "        niter=base_inner_niter,\n",
    "        pickiness=base_pickiness,\n",
    "        pollingError=0.0,\n",
    "    )\n",
    "    basic.saveFile(\"output/no_noise\")\n",
    "    print(f\"((Generated {base_inner_niter * (i+1)}))\")\n",
    "    del basic"
   ]
  },
  {
   "cell_type": "code",
   "execution_count": null,
   "id": "97270ba8",
   "metadata": {},
   "outputs": [],
   "source": [
    "%%time\n",
    "for i in range(base_outer_niter):\n",
    "    random.seed(i)\n",
    "    noStrats = CsvBatch(\n",
    "        KSModel(),\n",
    "        [\n",
    "            (STAR, STAR.honBallot, [], {}),\n",
    "            (STAR, STAR.vaBallot, [], {\"pollingUncertainty\": 0.4}),\n",
    "            (Plurality, Plurality.honBallot, [], {}),\n",
    "            (Plurality, Plurality.vaBallot, [], {\"pollingUncertainty\": 0.4}),\n",
    "            (PluralityTop2, PluralityTop2.honBallot, [], {}),\n",
    "            (PluralityTop2, PluralityTop2.vaBallot, [], {\"pollingUncertainty\": 0.4}),\n",
    "            (Approval, Approval.honBallot, [], {}),\n",
    "            (Approval, Approval.vaBallot, [], {\"pollingUncertainty\": 0.4}),\n",
    "            (ApprovalTop2, ApprovalTop2.honBallot, [], {}),\n",
    "            (ApprovalTop2, ApprovalTop2.vaBallot, [], {\"pollingUncertainty\": 0.4}),\n",
    "            (Irv, Irv.honBallot, [], {}),\n",
    "            (Irv, Irv.vaBallot, [], {\"pollingUncertainty\": 0.4}),\n",
    "            (Minimax, Minimax.honBallot, [], {}),\n",
    "            (Minimax, Minimax.vaBallot, [], {\"pollingUncertainty\": 0.4}),\n",
    "        ],\n",
    "        nvot=5001,\n",
    "        ncand=base_ncand,\n",
    "        niter=base_inner_niter,\n",
    "        pickiness=base_pickiness,\n",
    "        pollingError=base_pollingError,\n",
    "    )\n",
    "    noStrats.saveFile(\"output/nostrats\")\n",
    "del noStrats"
   ]
  }
 ],
 "metadata": {
  "kernelspec": {
   "display_name": "Python 3 (ipykernel)",
   "language": "python",
   "name": "python3"
  },
  "language_info": {
   "codemirror_mode": {
    "name": "ipython",
    "version": 3
   },
   "file_extension": ".py",
   "mimetype": "text/x-python",
   "name": "python",
   "nbconvert_exporter": "python",
   "pygments_lexer": "ipython3",
   "version": "3.9.7"
  }
 },
 "nbformat": 4,
 "nbformat_minor": 5
}
