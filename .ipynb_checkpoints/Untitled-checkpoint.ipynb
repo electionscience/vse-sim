{
 "cells": [
  {
   "cell_type": "code",
   "execution_count": 1,
   "metadata": {},
   "outputs": [
    {
     "ename": "ImportError",
     "evalue": "attempted relative import with no known parent package",
     "output_type": "error",
     "traceback": [
      "\u001b[0;31m---------------------------------------------------------------------------\u001b[0m",
      "\u001b[0;31mImportError\u001b[0m                               Traceback (most recent call last)",
      "\u001b[0;32m<ipython-input-1-048c20033fa7>\u001b[0m in \u001b[0;36m<module>\u001b[0;34m\u001b[0m\n\u001b[0;32m----> 1\u001b[0;31m \u001b[0;32mfrom\u001b[0m \u001b[0mvse\u001b[0m \u001b[0;32mimport\u001b[0m \u001b[0mCsvBatch\u001b[0m\u001b[0;34m,\u001b[0m \u001b[0mbaseRuns\u001b[0m\u001b[0;34m,\u001b[0m \u001b[0mMav\u001b[0m\u001b[0;34m,\u001b[0m \u001b[0mmedianRuns\u001b[0m\u001b[0;34m,\u001b[0m \u001b[0mScore\u001b[0m\u001b[0;34m\u001b[0m\u001b[0;34m\u001b[0m\u001b[0m\n\u001b[0m",
      "\u001b[0;32m~/github/vse-sim/vse.py\u001b[0m in \u001b[0;36m<module>\u001b[0;34m\u001b[0m\n\u001b[1;32m      2\u001b[0m \u001b[0;32mfrom\u001b[0m \u001b[0mimp\u001b[0m \u001b[0;32mimport\u001b[0m \u001b[0mreload\u001b[0m\u001b[0;34m\u001b[0m\u001b[0;34m\u001b[0m\u001b[0m\n\u001b[1;32m      3\u001b[0m \u001b[0;34m\u001b[0m\u001b[0m\n\u001b[0;32m----> 4\u001b[0;31m \u001b[0;32mfrom\u001b[0m \u001b[0;34m.\u001b[0m\u001b[0mmydecorators\u001b[0m \u001b[0;32mimport\u001b[0m \u001b[0mautoassign\u001b[0m\u001b[0;34m,\u001b[0m \u001b[0mcached_property\u001b[0m\u001b[0;34m,\u001b[0m \u001b[0msetdefaultattr\u001b[0m\u001b[0;34m,\u001b[0m \u001b[0mtimeit\u001b[0m\u001b[0;34m\u001b[0m\u001b[0;34m\u001b[0m\u001b[0m\n\u001b[0m\u001b[1;32m      5\u001b[0m \u001b[0;32mimport\u001b[0m \u001b[0mrandom\u001b[0m\u001b[0;34m\u001b[0m\u001b[0;34m\u001b[0m\u001b[0m\n\u001b[1;32m      6\u001b[0m \u001b[0;32mfrom\u001b[0m \u001b[0mnumpy\u001b[0m\u001b[0;34m.\u001b[0m\u001b[0mlib\u001b[0m\u001b[0;34m.\u001b[0m\u001b[0mscimath\u001b[0m \u001b[0;32mimport\u001b[0m \u001b[0msqrt\u001b[0m\u001b[0;34m\u001b[0m\u001b[0;34m\u001b[0m\u001b[0m\n",
      "\u001b[0;31mImportError\u001b[0m: attempted relative import with no known parent package"
     ]
    }
   ],
   "source": [
    "import os, sys\n",
    "\n",
    "dir2 = os.path.abspath(\"\")\n",
    "dir1 = os.path.dirname(dir2)\n",
    "if not dir1 in sys.path:\n",
    "    sys.path.append(dir1)\n",
    "\n",
    "from vse import CsvBatch, baseRuns, Mav, medianRuns, Score"
   ]
  },
  {
   "cell_type": "code",
   "execution_count": 2,
   "metadata": {},
   "outputs": [],
   "source": [
    "from voterModels import PolyaModel"
   ]
  },
  {
   "cell_type": "code",
   "execution_count": 3,
   "metadata": {},
   "outputs": [
    {
     "name": "stdout",
     "output_type": "stream",
     "text": [
      "0 [{'eid': UUID('5353eead-d851-4f6c-850d-15a2ca7ed509'), 'emodel': 'PolyaModel', 'ncand': 4, 'nvot': 5, 'best': 0.19511590017868208, 'rand': -0.02035312726213001, 'method': 'Mav', 'chooser': 'stratBallot', 'util': -0.03737806935533672, 'vse': 1.0}, {'eid': UUID('5353eead-d851-4f6c-850d-15a2ca7ed509'), 'emodel': 'PolyaModel', 'ncand': 4, 'nvot': 5, 'best': 0.19511590017868208, 'rand': -0.02035312726213001, 'method': 'Mav', 'chooser': 'Oss.hon_strat.', 'util': -0.03737806935533672, 'vse': -0.07901340761322806, 'tallyName0': 'Oss.hon_strat._', 'tallyVal0': '2', 'tallyName1': 'Oss.hon_strat._gap', 'tallyVal1': '2.771359817934912', 'tallyName2': 'worked', 'tallyVal2': '0'}]\n",
      "1 [{'eid': UUID('3d2e1029-56da-44d8-903d-cb30a8bf8666'), 'emodel': 'PolyaModel', 'ncand': 4, 'nvot': 5, 'best': 1.020003063633122, 'rand': -0.13266364891895116, 'method': 'Mav', 'chooser': 'stratBallot', 'util': 1.020003063633122, 'vse': 1.0}, {'eid': UUID('3d2e1029-56da-44d8-903d-cb30a8bf8666'), 'emodel': 'PolyaModel', 'ncand': 4, 'nvot': 5, 'best': 1.020003063633122, 'rand': -0.13266364891895116, 'method': 'Mav', 'chooser': 'Oss.hon_strat.', 'util': 1.020003063633122, 'vse': 1.0, 'tallyName0': 'Oss.hon_strat._', 'tallyVal0': '1', 'tallyName1': 'Oss.hon_strat._gap', 'tallyVal1': '0.7624205757166133', 'tallyName2': 'worked', 'tallyVal2': '0'}]\n",
      "2 [{'eid': UUID('b194a516-370e-485f-9588-c2df29ff99c1'), 'emodel': 'PolyaModel', 'ncand': 4, 'nvot': 5, 'best': 1.2473988325538747, 'rand': 0.09073798177255273, 'method': 'Mav', 'chooser': 'stratBallot', 'util': 1.2473988325538747, 'vse': 1.0}, {'eid': UUID('b194a516-370e-485f-9588-c2df29ff99c1'), 'emodel': 'PolyaModel', 'ncand': 4, 'nvot': 5, 'best': 1.2473988325538747, 'rand': 0.09073798177255273, 'method': 'Mav', 'chooser': 'Oss.hon_strat.', 'util': 1.2473988325538747, 'vse': 1.0, 'tallyName0': 'worked', 'tallyVal0': '0'}]\n",
      "'__init__' ((<vse.CsvBatch object at 0x7fca4961db50>, <voterModels.PolyaModel object at 0x7fca4961d990>, [[<methods.Score.<locals>.Score0to object at 0x7fca4961dad0>, [<stratFunctions.OssChooser object at 0x7fca495bffd0>, <stratFunctions.ProbChooser object at 0x7fca495bff90>, <stratFunctions.ProbChooser object at 0x7fca495be090>, <stratFunctions.ProbChooser object at 0x7fca495be0d0>]], [<methods.Mav object at 0x7fca4961db10>, [<stratFunctions.OssChooser object at 0x7fca495bfc90>, <stratFunctions.ProbChooser object at 0x7fca495bfd50>, <stratFunctions.ProbChooser object at 0x7fca495bfd90>, <stratFunctions.ProbChooser object at 0x7fca495bfdd0>, <stratFunctions.ProbChooser object at 0x7fca495bfe10>, <stratFunctions.ProbChooser object at 0x7fca495bfe50>, <stratFunctions.LazyChooser object at 0x7fca495bfe90>, <stratFunctions.ProbChooser object at 0x7fca495bff10>]]]), {'nvot': 5, 'ncand': 4, 'niter': 3}) 10.60 sec\n"
     ]
    }
   ],
   "source": [
    "csvs = CsvBatch(\n",
    "    PolyaModel(), [[Score(), baseRuns], [Mav(), medianRuns]], nvot=5, ncand=4, niter=3\n",
    ")"
   ]
  },
  {
   "cell_type": "code",
   "execution_count": 4,
   "metadata": {},
   "outputs": [
    {
     "data": {
      "text/plain": [
       "<vse.CsvBatch at 0x7fca4961db50>"
      ]
     },
     "execution_count": 4,
     "metadata": {},
     "output_type": "execute_result"
    }
   ],
   "source": [
    "csvs"
   ]
  },
  {
   "cell_type": "code",
   "execution_count": 5,
   "metadata": {},
   "outputs": [],
   "source": [
    "csvs.saveFile()"
   ]
  },
  {
   "cell_type": "code",
   "execution_count": null,
   "metadata": {},
   "outputs": [],
   "source": []
  }
 ],
 "metadata": {
  "kernelspec": {
   "display_name": "Python 3",
   "language": "python",
   "name": "python3"
  },
  "language_info": {
   "codemirror_mode": {
    "name": "ipython",
    "version": 3
   },
   "file_extension": ".py",
   "mimetype": "text/x-python",
   "name": "python",
   "nbconvert_exporter": "python",
   "pygments_lexer": "ipython3",
   "version": "3.7.10"
  }
 },
 "nbformat": 4,
 "nbformat_minor": 4
}
