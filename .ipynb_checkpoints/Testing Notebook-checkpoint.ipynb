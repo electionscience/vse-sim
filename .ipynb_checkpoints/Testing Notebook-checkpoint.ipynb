{
 "cells": [
  {
   "cell_type": "code",
   "execution_count": null,
   "id": "74b51e60",
   "metadata": {},
   "outputs": [],
   "source": [
    "from vse import *\n",
    "import random\n",
    "random.seed(42)"
   ]
  },
  {
   "cell_type": "code",
   "execution_count": null,
   "id": "894924bf",
   "metadata": {},
   "outputs": [],
   "source": [
    "niter = 1500\n",
    "nvot = 31"
   ]
  },
  {
   "cell_type": "code",
   "execution_count": null,
   "id": "ad3c82ec",
   "metadata": {},
   "outputs": [],
   "source": [
    "basic = CsvBatch(KSModel(),\n",
    "                 [STAR, Plurality, PluralityTop2,\n",
    "                  Approval, ApprovalTop2, Irv, Minimax],\n",
    "                 nvot=nvot, ncand=6, niter=niter,\n",
    "                 pickiness = 0.7, pollingError = 0.1)\n",
    "basic.saveFile(\"base_noise_0.1_\")"
   ]
  },
  {
   "cell_type": "code",
   "execution_count": null,
   "id": "661516d5",
   "metadata": {},
   "outputs": [],
   "source": [
    "test510 = CsvBatch(KSModel(),\n",
    "                   [(STAR, STAR.honBallot,\n",
    "                     [(STAR.vaBallot, selectRand), (STAR.stratBallot, selectRand),\n",
    "                      (STAR.always510Ballot, selectRand), (STAR.never23Ballot, selectRand)],\n",
    "                     {})],\n",
    "                   nvot=31, ncand=3, niter=5000, pickiness = 0.7, pollingError = 0.1)\n",
    "test510.saveFile(\"test510\")"
   ]
  },
  {
   "cell_type": "code",
   "execution_count": null,
   "id": "743c3703",
   "metadata": {},
   "outputs": [],
   "source": [
    "vse510 = CsvBatch(KSModel(),\n",
    "                   [(STAR, STAR.honBallot,[],{}),\n",
    "                   (STAR, STAR.always510Ballot,[],{}),\n",
    "                   (STAR, STAR.never23Ballot,[],{})],\n",
    "                   nvot=51, ncand=3, niter=5000, pickiness = 0.7, pollingError = 0.1)\n",
    "vse510.saveFile(\"vse510\")"
   ]
  },
  {
   "cell_type": "code",
   "execution_count": null,
   "id": "18224c67",
   "metadata": {},
   "outputs": [],
   "source": [
    "starStrats3 = CsvBatch(KSModel(),\n",
    "                   [(STAR, STAR.honBallot,\n",
    "                     [(STAR.vaBallot, selectRand, {'coeffFunc': oldCoefficients}),\n",
    "                      (STAR.vaBallot, selectRand, {'coeffFunc': getCoefficients}),\n",
    "                      (STAR.vaBallot, selectRand, {'coeffFunc': simpleCoefficients}),\n",
    "                      (STAR.stratBallot, selectRand),\n",
    "                      (STAR.always510Ballot, selectRand), (STAR.never23Ballot, selectRand)],\n",
    "                     {})],\n",
    "                   nvot=31, ncand=3, niter=5000, pickiness = 0.7, pollingError = 0.1)\n",
    "starStrats3.saveFile(\"starStrats3\")"
   ]
  },
  {
   "cell_type": "code",
   "execution_count": null,
   "id": "23250da2",
   "metadata": {},
   "outputs": [],
   "source": [
    "starStrats6 = CsvBatch(KSModel(),\n",
    "                   [(STAR, STAR.honBallot,\n",
    "                     [(STAR.vaBallot, selectRand, {'coeffFunc': oldCoefficients}),\n",
    "                      (STAR.vaBallot, selectRand, {'coeffFunc': getCoefficients}),\n",
    "                      (STAR.vaBallot, selectRand, {'coeffFunc': simpleCoefficients}),\n",
    "                      (STAR.stratBallot, selectRand)],\n",
    "                     {})],\n",
    "                   nvot=31, ncand=6, niter=5000, pickiness = 0.7, pollingError = 0.1)\n",
    "starStrats6.saveFile(\"starStrats3\")"
   ]
  },
  {
   "cell_type": "code",
   "execution_count": null,
   "id": "a64d7948",
   "metadata": {},
   "outputs": [],
   "source": [
    "starvse6 = CsvBatch(KSModel(),\n",
    "                   [(STAR, STAR.honBallot,[],{}),\n",
    "                   (STAR, STAR.vaBallot, [], {'coeffFunc': oldCoefficients}),\n",
    "                   (STAR, STAR.vaBallot, [], {'coeffFunc': getCoefficients}),\n",
    "                   (STAR, STAR.vaBallot, [], {'coeffFunc': simpleCoefficients})],\n",
    "                   nvot=51, ncand=6, niter=5000, pickiness = 0.7, pollingError = 0.1)\n",
    "starvse6.saveFile(\"starvse6\")"
   ]
  },
  {
   "cell_type": "code",
   "execution_count": null,
   "id": "2c6f7145",
   "metadata": {},
   "outputs": [],
   "source": [
    "aTop2 = CsvBatch(KSModel(), [(ApprovalTop2, ApprovalTop2.zeroInfoBallot,\n",
    "                [(ApprovalTop2.vaBallot, selectRand, {'pollingUncertainty':.4}),\n",
    "                 (ApprovalTop2.vaBallot2, selectRand, {'pollingUncertainty':.4}),\n",
    "                 (ApprovalTop2.honBallot, selectRand), (ApprovalTop2.stratBallot, selectRand)], {})],\n",
    "                 nvot=31, ncand=6, niter=5000, pickiness = 0.7, pollingError = 0.1)\n",
    "aTop2.saveFile(\"atop2\")"
   ]
  },
  {
   "cell_type": "code",
   "execution_count": null,
   "id": "ab579039",
   "metadata": {},
   "outputs": [],
   "source": []
  },
  {
   "cell_type": "code",
   "execution_count": null,
   "id": "6e1f5bd5",
   "metadata": {},
   "outputs": [],
   "source": []
  }
 ],
 "metadata": {
  "kernelspec": {
   "display_name": "Python 3 (ipykernel)",
   "language": "python",
   "name": "python3"
  },
  "language_info": {
   "codemirror_mode": {
    "name": "ipython",
    "version": 3
   },
   "file_extension": ".py",
   "mimetype": "text/x-python",
   "name": "python",
   "nbconvert_exporter": "python",
   "pygments_lexer": "ipython3",
   "version": "3.9.7"
  }
 },
 "nbformat": 4,
 "nbformat_minor": 5
}
