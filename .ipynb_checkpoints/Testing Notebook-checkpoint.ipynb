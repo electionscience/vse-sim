{
 "cells": [
  {
   "cell_type": "code",
   "execution_count": null,
   "id": "74b51e60",
   "metadata": {},
   "outputs": [],
   "source": [
    "from vse2 import *\n",
    "import random"
   ]
  },
  {
   "cell_type": "code",
   "execution_count": null,
   "id": "00529a6f",
   "metadata": {},
   "outputs": [],
   "source": [
    "c = CsvBatch(KSModel(), [Plurality, STAR, PluralityTop2, Approval, ApprovalTop2, Irv, Minimax], nvot=21, ncand=6, niter=5, pickiness = 0.7, pollingError = 0.4)"
   ]
  },
  {
   "cell_type": "code",
   "execution_count": null,
   "id": "6c341adb",
   "metadata": {},
   "outputs": [],
   "source": [
    "b = CsvBatches(KSModel(), [Plurality, STAR], nvot=21, ncand=[3,5,10], niter=5, pickiness = 0.7, pollingError = 0.4)"
   ]
  },
  {
   "cell_type": "code",
   "execution_count": null,
   "id": "919fa71a",
   "metadata": {},
   "outputs": [],
   "source": [
    "b.rows[-1]"
   ]
  },
  {
   "cell_type": "code",
   "execution_count": null,
   "id": "a08d4751",
   "metadata": {},
   "outputs": [],
   "source": [
    "c.saveFile(\"minimaxy\")"
   ]
  },
  {
   "cell_type": "code",
   "execution_count": null,
   "id": "fe89af5a",
   "metadata": {},
   "outputs": [],
   "source": [
    "left = [Voter((random.gauss(1,1),random.gauss(0,1),random.gauss(-1,1))) for i in range(100)]\n",
    "center = [Voter((random.gauss(0,1.5),random.gauss(1,1),random.gauss(0,1.5))) for i in range(100)]\n",
    "right = [Voter((random.gauss(-1,1),random.gauss(0,1),random.gauss(1,1))) for i in range(100)]"
   ]
  },
  {
   "cell_type": "code",
   "execution_count": null,
   "id": "9ff5531c",
   "metadata": {},
   "outputs": [],
   "source": [
    "easyLeft = Electorate(left[:40]+center[:30]+right[:30])\n",
    "easyCenter = Electorate(left[:20]+center[:60]+right[:20])\n",
    "centerSqueeze = Electorate(left[:35]+center[:30]+right[:35])"
   ]
  },
  {
   "cell_type": "code",
   "execution_count": null,
   "id": "3d661bcf",
   "metadata": {
    "scrolled": false
   },
   "outputs": [],
   "source": [
    "Plurality.results([Plurality.honBallot(v) for v in centerSqueeze])\n",
    "threeRoundResults(Plurality,centerSqueeze, Plurality.honBallot,\n",
    "                            [( paramStrat(Plurality.compBallot, intensity=3),select21,),\n",
    "                            ( paramStrat(Plurality.compBallot, intensity=3),select31,),\n",
    "                            ( Plurality.lowInfoBallot, select21,)])"
   ]
  },
  {
   "cell_type": "code",
   "execution_count": null,
   "id": "ecd36544",
   "metadata": {},
   "outputs": [],
   "source": [
    "threeRoundResults(Plurality, Electorate([Voter((3,1,0))]*10+[Voter((0,3,2))]*6+[Voter((0,2,3))]*7), \n",
    "                            Plurality.lowInfoBallot,(Plurality.honBallot,select21,))"
   ]
  },
  {
   "cell_type": "code",
   "execution_count": null,
   "id": "827ea007",
   "metadata": {},
   "outputs": [],
   "source": [
    "threeRoundResults(STAR, Electorate([Voter((3,1,0))]*10+[Voter((0,3,2))]*6+[Voter((0,2,3))]*7),\n",
    "                         STAR().lowInfoBallot,(STAR().honBallot, select31,))"
   ]
  },
  {
   "cell_type": "code",
   "execution_count": null,
   "id": "8e522636",
   "metadata": {},
   "outputs": [],
   "source": [
    "threeRoundResults(Plurality, Electorate([Voter((3,1,0))]*10+[Voter((0,3,2))]*6+[Voter((0,2,3))]*7), \n",
    "                            Plurality.honBallot,(Plurality.stratBallot, select21,))"
   ]
  },
  {
   "cell_type": "code",
   "execution_count": null,
   "id": "b4113446",
   "metadata": {},
   "outputs": [],
   "source": [
    "c.rows[74]"
   ]
  },
  {
   "cell_type": "code",
   "execution_count": null,
   "id": "c9dffe23",
   "metadata": {},
   "outputs": [],
   "source": [
    "with None as thing:\n",
    "    print(\"hi\")"
   ]
  },
  {
   "cell_type": "code",
   "execution_count": null,
   "id": "fd27e688",
   "metadata": {},
   "outputs": [],
   "source": [
    "a = [[5]]\n",
    "b = a * 5\n",
    "print(b)\n",
    "a[0][0] = 4\n",
    "b"
   ]
  },
  {
   "cell_type": "code",
   "execution_count": null,
   "id": "72c81f62",
   "metadata": {},
   "outputs": [],
   "source": [
    "import random, time\n",
    "random.seed(time.time())"
   ]
  },
  {
   "cell_type": "code",
   "execution_count": null,
   "id": "72f62213",
   "metadata": {},
   "outputs": [],
   "source": [
    "time.time()"
   ]
  },
  {
   "cell_type": "code",
   "execution_count": null,
   "id": "2844111b",
   "metadata": {},
   "outputs": [],
   "source": [
    "time.time()"
   ]
  },
  {
   "cell_type": "code",
   "execution_count": null,
   "id": "df6e868e",
   "metadata": {},
   "outputs": [],
   "source": [
    "(1,2) + (3,4)"
   ]
  },
  {
   "cell_type": "code",
   "execution_count": null,
   "id": "e3c3cc6c",
   "metadata": {},
   "outputs": [],
   "source": [
    "c = CsvBatch(KSModel(), [Plurality, STAR, PluralityTop2, Approval, ApprovalTop2, Irv, Minimax], nvot=21, ncand=6, niter=5, pickiness = 0.7, pollingError = 0.4)"
   ]
  },
  {
   "cell_type": "code",
   "execution_count": null,
   "id": "e05ad6b7",
   "metadata": {},
   "outputs": [],
   "source": [
    "c.saveFile(\"testfile\")"
   ]
  },
  {
   "cell_type": "code",
   "execution_count": null,
   "id": "5a826143",
   "metadata": {},
   "outputs": [],
   "source": [
    "c.saveFile(\"testfile\", newFile = False)"
   ]
  },
  {
   "cell_type": "code",
   "execution_count": null,
   "id": "661516d5",
   "metadata": {},
   "outputs": [],
   "source": []
  }
 ],
 "metadata": {
  "kernelspec": {
   "display_name": "Python 3",
   "language": "python",
   "name": "python3"
  },
  "language_info": {
   "codemirror_mode": {
    "name": "ipython",
    "version": 3
   },
   "file_extension": ".py",
   "mimetype": "text/x-python",
   "name": "python",
   "nbconvert_exporter": "python",
   "pygments_lexer": "ipython3",
   "version": "3.8.8"
  }
 },
 "nbformat": 4,
 "nbformat_minor": 5
}
