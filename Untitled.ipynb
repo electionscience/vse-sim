{
 "cells": [
  {
   "cell_type": "code",
   "execution_count": null,
   "metadata": {},
   "outputs": [],
   "source": [
    "\n",
    "from vse import CsvBatch, baseRuns, Mav, medianRuns, Score"
   ]
  },
  {
   "cell_type": "code",
   "execution_count": null,
   "metadata": {},
   "outputs": [],
   "source": [
    "from voterModels import PolyaModel, KSModel"
   ]
  },
  {
   "cell_type": "code",
   "execution_count": null,
   "metadata": {},
   "outputs": [],
   "source": [
    "csvs2 = CsvBatch(KSModel(), [[Score(), baseRuns], [Mav(), medianRuns]], nvot=5, ncand=6, niter=1)"
   ]
  },
  {
   "cell_type": "code",
   "execution_count": null,
   "metadata": {},
   "outputs": [],
   "source": [
    "csvs2\n"
   ]
  },
  {
   "cell_type": "code",
   "execution_count": null,
   "metadata": {},
   "outputs": [],
   "source": [
    "csvs2.saveFile()"
   ]
  },
  {
   "cell_type": "code",
   "execution_count": null,
   "metadata": {},
   "outputs": [],
   "source": [
    "# Install a conda package in the current Jupyter kernel\n",
    "import sys\n",
    "!{sys.executable} -m pip install autograd_minimize"
   ]
  },
  {
   "cell_type": "code",
   "execution_count": null,
   "metadata": {},
   "outputs": [],
   "source": [
    "import torch\n",
    "from autograd_minimize import minimize\n",
    "from scipy.optimize import fmin\n",
    "\n",
    "from scipy.stats import beta\n",
    "import numpy as np"
   ]
  },
  {
   "cell_type": "code",
   "execution_count": null,
   "metadata": {},
   "outputs": [],
   "source": [
    "\n",
    "def marginToBetaSize(twosig):\n",
    "    \"\"\"Takes x, and returns a sample size n such that 2*stdev(beta(n/2,n/2))=x\"\"\"\n",
    "    return (1 / (twosig**2)) - 1\n",
    "\n",
    "def multi_beta_probs_of_highest(parms):\n",
    "    \"\"\"Given a list of beta distribution params, returns a quick-and-dirty\n",
    "    approximation of the chance that each respective beta is the max across\n",
    "    all of them.\"\"\"\n",
    "\n",
    "    betas = [beta(*parm) for parm in parms]\n",
    "    def multi_beta_cdf_loss(x):\n",
    "        \"\"\"Given x, return the loss which (when minimized) leads x to be\n",
    "        the median of the max when drawing one sample from each of the betas.\"\"\"\n",
    "\n",
    "        p = 1.\n",
    "        for beta in betas:\n",
    "            p = p * (beta.cdf(x))\n",
    "        return (0.5-p)**2\n",
    "\n",
    "    res = fmin(multi_beta_cdf_loss, np.array([.5]), disp=False)[0]\n",
    "\n",
    "    probs = np.array([1-beta.cdf(res) for beta in betas])\n",
    "    probs = probs / np.sum(probs)\n",
    "    return probs\n",
    "\n",
    "\n",
    "\n",
    "\n",
    "def principledPollsToProbs(polls, uncertainty=.05):\n",
    "    \"\"\"Takes approval-style polling as input i.e. a list of floats in the interval [0,1],\n",
    "    and returns a list of the estimated probabilities of each candidate winning based on\n",
    "    uncertainty. Uncertainty is a float that corresponds to one standard deviation for\n",
    "    a candidate that polls exactly 0.5.\n",
    "\n",
    "    #>>> pollsToProbs([.5,.4,.4],.1)\n",
    "    #[0.5, 0.25, 0.25]\n",
    "    \"\"\"\n",
    "    betaSize =  marginToBetaSize(uncertainty)\n",
    "    parms = [(betaSize*poll, betaSize*(1-poll)) for poll in polls]\n",
    "    return multi_beta_probs_of_highest(parms)\n",
    "\n",
    "\n",
    "b = principledPollsToProbs([.5,.45,.45],.1); b"
   ]
  },
  {
   "cell_type": "code",
   "execution_count": null,
   "metadata": {},
   "outputs": [],
   "source": [
    "res\n"
   ]
  },
  {
   "cell_type": "code",
   "execution_count": 1,
   "metadata": {},
   "outputs": [],
   "source": [
    "from dataClasses import principledPollsToProbs"
   ]
  },
  {
   "cell_type": "code",
   "execution_count": 2,
   "metadata": {},
   "outputs": [],
   "source": [
    "import dataClasses\n"
   ]
  },
  {
   "cell_type": "code",
   "execution_count": 3,
   "metadata": {},
   "outputs": [
    {
     "data": {
      "text/plain": [
       "array([0.92336235, 0.03831882, 0.03831882])"
      ]
     },
     "execution_count": 3,
     "metadata": {},
     "output_type": "execute_result"
    }
   ],
   "source": [
    "a = principledPollsToProbs([.5,.4,.4],.1); a"
   ]
  },
  {
   "cell_type": "code",
   "execution_count": null,
   "metadata": {},
   "outputs": [],
   "source": []
  }
 ],
 "metadata": {
  "kernelspec": {
   "display_name": "Python 3 (ipykernel)",
   "language": "python",
   "name": "python3"
  },
  "language_info": {
   "codemirror_mode": {
    "name": "ipython",
    "version": 3
   },
   "file_extension": ".py",
   "mimetype": "text/x-python",
   "name": "python",
   "nbconvert_exporter": "python",
   "pygments_lexer": "ipython3",
   "version": "3.9.7"
  }
 },
 "nbformat": 4,
 "nbformat_minor": 4
}
