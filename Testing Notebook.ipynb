{
 "cells": [
  {
   "cell_type": "code",
   "execution_count": 1,
   "id": "74b51e60",
   "metadata": {},
   "outputs": [],
   "source": [
    "from vse2 import *\n",
    "import random"
   ]
  },
  {
   "cell_type": "code",
   "execution_count": 2,
   "id": "00529a6f",
   "metadata": {},
   "outputs": [
    {
     "name": "stdout",
     "output_type": "stream",
     "text": [
      "Iteration: 90\n",
      "Iteration: 20\n",
      "Iteration: 110\n",
      "Iteration: 40\n",
      "Iteration: 60\n",
      "Iteration: 80\n",
      "Iteration: 100\n",
      "Iteration: 10\n",
      "Iteration: 120\n",
      "Iteration: 30\n",
      "Iteration: 50\n",
      "Iteration: 70\n",
      "Iteration: 180\n",
      "Iteration: 200\n",
      "Iteration: 130\n",
      "Iteration: 220\n",
      "Iteration: 150\n",
      "Iteration: 240\n",
      "Iteration: 170\n",
      "Iteration: 190\n",
      "Iteration: 210\n",
      "Iteration: 140\n",
      "Iteration: 230\n",
      "Iteration: 160\n",
      "Iteration: 250\n",
      "Iteration: 270\n",
      "Iteration: 360\n",
      "Iteration: 290\n",
      "Iteration: 310\n",
      "Iteration: 260\n",
      "Iteration: 330\n",
      "Iteration: 350\n",
      "Iteration: 280\n",
      "Iteration: 370\n",
      "Iteration: 300\n",
      "Iteration: 320\n",
      "Iteration: 340\n",
      "Iteration: 450\n",
      "Iteration: 380\n",
      "Iteration: 470\n",
      "Iteration: 400\n",
      "Iteration: 490\n",
      "Iteration: 420\n",
      "Iteration: 440\n",
      "Iteration: 460\n",
      "Iteration: 390\n",
      "Iteration: 480\n",
      "Iteration: 410\n",
      "Iteration: 430\n"
     ]
    }
   ],
   "source": [
    "c = CsvBatch(KSModel(), [Plurality, STAR, PluralityTop2, Approval, ApprovalTop2, Irv], nvot=21, ncand=6, niter=500, pickiness = 0.7, pollingError = 0.4)"
   ]
  },
  {
   "cell_type": "code",
   "execution_count": 3,
   "id": "a08d4751",
   "metadata": {},
   "outputs": [],
   "source": [
    "c.saveFile(\"6candPicky\")"
   ]
  },
  {
   "cell_type": "code",
   "execution_count": null,
   "id": "fe89af5a",
   "metadata": {},
   "outputs": [],
   "source": [
    "left = [Voter((random.gauss(1,1),random.gauss(0,1),random.gauss(-1,1))) for i in range(100)]\n",
    "center = [Voter((random.gauss(0,1.5),random.gauss(1,1),random.gauss(0,1.5))) for i in range(100)]\n",
    "right = [Voter((random.gauss(-1,1),random.gauss(0,1),random.gauss(1,1))) for i in range(100)]"
   ]
  },
  {
   "cell_type": "code",
   "execution_count": null,
   "id": "9ff5531c",
   "metadata": {},
   "outputs": [],
   "source": [
    "easyLeft = Electorate(left[:40]+center[:30]+right[:30])\n",
    "easyCenter = Electorate(left[:20]+center[:60]+right[:20])\n",
    "centerSqueeze = Electorate(left[:35]+center[:30]+right[:35])"
   ]
  },
  {
   "cell_type": "code",
   "execution_count": null,
   "id": "3d661bcf",
   "metadata": {},
   "outputs": [],
   "source": [
    "Plurality.results([Plurality.honBallot(v) for v in centerSqueeze])\n",
    "Plurality.threeRoundResults(centerSqueeze, Plurality.honBallot,\n",
    "                            [( paramStrat(Plurality.compBallot, intensity=3),select21,),\n",
    "                            ( paramStrat(Plurality.compBallot, intensity=3),select31,),\n",
    "                            ( Plurality.lowInfoBallot, select21,)])"
   ]
  },
  {
   "cell_type": "code",
   "execution_count": null,
   "id": "ecd36544",
   "metadata": {},
   "outputs": [],
   "source": [
    "Plurality.threeRoundResults(Electorate([Voter((3,1,0))]*10+[Voter((0,3,2))]*6+[Voter((0,2,3))]*7), \n",
    "                            Plurality.lowInfoBallot,(Plurality.honBallot,select21,))"
   ]
  },
  {
   "cell_type": "code",
   "execution_count": null,
   "id": "827ea007",
   "metadata": {},
   "outputs": [],
   "source": [
    "STAR().threeRoundResults(Electorate([Voter((3,1,0))]*10+[Voter((0,3,2))]*6+[Voter((0,2,3))]*7),\n",
    "                         STAR().lowInfoBallot,(STAR().honBallot, select31,))"
   ]
  },
  {
   "cell_type": "code",
   "execution_count": null,
   "id": "8e522636",
   "metadata": {},
   "outputs": [],
   "source": [
    "Plurality.threeRoundResults(Electorate([Voter((3,1,0))]*10+[Voter((0,3,2))]*6+[Voter((0,2,3))]*7), \n",
    "                            Plurality.honBallot,(Plurality.stratBallot, select21,))"
   ]
  },
  {
   "cell_type": "code",
   "execution_count": null,
   "id": "b4113446",
   "metadata": {},
   "outputs": [],
   "source": [
    "c.rows[74]"
   ]
  },
  {
   "cell_type": "code",
   "execution_count": null,
   "id": "c9dffe23",
   "metadata": {},
   "outputs": [],
   "source": [
    "with None as thing:\n",
    "    print(\"hi\")"
   ]
  },
  {
   "cell_type": "code",
   "execution_count": null,
   "id": "fd27e688",
   "metadata": {},
   "outputs": [],
   "source": [
    "a = [[5]]\n",
    "b = a * 5\n",
    "print(b)\n",
    "a[0][0] = 4\n",
    "b"
   ]
  },
  {
   "cell_type": "code",
   "execution_count": null,
   "id": "72c81f62",
   "metadata": {},
   "outputs": [],
   "source": [
    "import random, time\n",
    "random.seed(time.time())"
   ]
  },
  {
   "cell_type": "code",
   "execution_count": null,
   "id": "72f62213",
   "metadata": {},
   "outputs": [],
   "source": [
    "time.time()"
   ]
  },
  {
   "cell_type": "code",
   "execution_count": null,
   "id": "2844111b",
   "metadata": {},
   "outputs": [],
   "source": [
    "time.time()"
   ]
  },
  {
   "cell_type": "code",
   "execution_count": null,
   "id": "df6e868e",
   "metadata": {},
   "outputs": [],
   "source": [
    "(1,2) + (3,4)"
   ]
  },
  {
   "cell_type": "code",
   "execution_count": null,
   "id": "e3c3cc6c",
   "metadata": {},
   "outputs": [],
   "source": []
  }
 ],
 "metadata": {
  "kernelspec": {
   "display_name": "Python 3",
   "language": "python",
   "name": "python3"
  },
  "language_info": {
   "codemirror_mode": {
    "name": "ipython",
    "version": 3
   },
   "file_extension": ".py",
   "mimetype": "text/x-python",
   "name": "python",
   "nbconvert_exporter": "python",
   "pygments_lexer": "ipython3",
   "version": "3.7.10"
  }
 },
 "nbformat": 4,
 "nbformat_minor": 5
}
