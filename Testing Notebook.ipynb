{
 "cells": [
  {
   "cell_type": "code",
   "execution_count": 1,
   "id": "7e635fd2",
   "metadata": {},
   "outputs": [],
   "source": [
    "from methods import *"
   ]
  },
  {
   "cell_type": "code",
   "execution_count": 2,
   "id": "9f7e173d",
   "metadata": {},
   "outputs": [
    {
     "data": {
      "text/plain": [
       "[([0.43478260869565216, 0.2608695652173913, 0.30434782608695654],\n",
       "  1.3043478260869565,\n",
       "  None,\n",
       "  None,\n",
       "  0,\n",
       "  0,\n",
       "  0,\n",
       "  0,\n",
       "  0),\n",
       " ([0.43478260869565216, 0.2608695652173913, 0.30434782608695654],\n",
       "  1.3043478260869565,\n",
       "  None,\n",
       "  None,\n",
       "  0,\n",
       "  0,\n",
       "  0,\n",
       "  0,\n",
       "  0),\n",
       " ([0.43478260869565216, 0.2608695652173913, 0.30434782608695654],\n",
       "  1.3043478260869565,\n",
       "  1.3043478260869565,\n",
       "  0.0,\n",
       "  23,\n",
       "  0,\n",
       "  0,\n",
       "  0,\n",
       "  0)]"
      ]
     },
     "execution_count": 2,
     "metadata": {},
     "output_type": "execute_result"
    }
   ],
   "source": [
    "Plurality.threeRoundResults(Electorate([Voter((3,1,0))]*10+[Voter((0,3,2))]*6+[Voter((0,2,3))]*7), Plurality.lowInfoBallot,(lambda v,e,r:1,Plurality.honBallot))"
   ]
  },
  {
   "cell_type": "code",
   "execution_count": 3,
   "id": "b212007f",
   "metadata": {},
   "outputs": [
    {
     "data": {
      "text/plain": [
       "[([0.43478260869565216, 0.2608695652173913, 0.30434782608695654],\n",
       "  1.3043478260869565,\n",
       "  None,\n",
       "  None,\n",
       "  0,\n",
       "  0,\n",
       "  0,\n",
       "  0,\n",
       "  0),\n",
       " ([2.1739130434782608, 2.9565217391304346, 2.8260869565217392],\n",
       "  1.826086956521739,\n",
       "  None,\n",
       "  None,\n",
       "  0,\n",
       "  0,\n",
       "  0,\n",
       "  0,\n",
       "  0),\n",
       " ([2.1739130434782608, 2.652173913043478, 2.3043478260869565],\n",
       "  1.826086956521739,\n",
       "  1.826086956521739,\n",
       "  0.0,\n",
       "  23,\n",
       "  0,\n",
       "  0,\n",
       "  0,\n",
       "  0)]"
      ]
     },
     "execution_count": 3,
     "metadata": {},
     "output_type": "execute_result"
    }
   ],
   "source": [
    "STAR().threeRoundResults(Electorate([Voter((3,1,0))]*10+[Voter((0,3,2))]*6+[Voter((0,2,3))]*7), STAR().lowInfoBallot,(lambda v,e,r:1,STAR().honBallot))"
   ]
  },
  {
   "cell_type": "code",
   "execution_count": 4,
   "id": "d6c58ff1",
   "metadata": {},
   "outputs": [
    {
     "data": {
      "text/plain": [
       "[([0.43478260869565216, 0.2608695652173913, 0.30434782608695654],\n",
       "  1.3043478260869565,\n",
       "  None,\n",
       "  None,\n",
       "  0,\n",
       "  0,\n",
       "  0,\n",
       "  0,\n",
       "  0),\n",
       " ([0.43478260869565216, 0.2608695652173913, 0.30434782608695654],\n",
       "  1.3043478260869565,\n",
       "  None,\n",
       "  None,\n",
       "  0,\n",
       "  0,\n",
       "  0,\n",
       "  0,\n",
       "  0),\n",
       " ([0.43478260869565216, 0.0, 0.5652173913043478],\n",
       "  1.434782608695652,\n",
       "  1.434782608695652,\n",
       "  0.13043478260869557,\n",
       "  23,\n",
       "  13,\n",
       "  10,\n",
       "  33,\n",
       "  30)]"
      ]
     },
     "execution_count": 4,
     "metadata": {},
     "output_type": "execute_result"
    }
   ],
   "source": [
    "Plurality.threeRoundResults(Electorate([Voter((3,1,0))]*10+[Voter((0,3,2))]*6+[Voter((0,2,3))]*7), Plurality.lowInfoBallot,(lambda v,e,r:1,Plurality.stratBallot))"
   ]
  },
  {
   "cell_type": "code",
   "execution_count": null,
   "id": "9b3d7085",
   "metadata": {},
   "outputs": [],
   "source": []
  }
 ],
 "metadata": {
  "kernelspec": {
   "display_name": "Python 3",
   "language": "python",
   "name": "python3"
  },
  "language_info": {
   "codemirror_mode": {
    "name": "ipython",
    "version": 3
   },
   "file_extension": ".py",
   "mimetype": "text/x-python",
   "name": "python",
   "nbconvert_exporter": "python",
   "pygments_lexer": "ipython3",
   "version": "3.8.8"
  }
 },
 "nbformat": 4,
 "nbformat_minor": 5
}
