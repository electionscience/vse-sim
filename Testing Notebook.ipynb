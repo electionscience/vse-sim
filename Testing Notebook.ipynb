{
 "cells": [
  {
   "cell_type": "code",
   "execution_count": 2,
   "id": "74b51e60",
   "metadata": {},
   "outputs": [],
   "source": [
    "from vse2 import *\n",
    "import random"
   ]
  },
  {
   "cell_type": "code",
   "execution_count": null,
   "id": "fe89af5a",
   "metadata": {},
   "outputs": [],
   "source": [
    "left = [Voter((random.gauss(1,1),random.gauss(0,1),random.gauss(-1,1))) for i in range(100)]\n",
    "center = [Voter((random.gauss(0,1.5),random.gauss(1,1),random.gauss(0,1.5))) for i in range(100)]\n",
    "right = [Voter((random.gauss(-1,1),random.gauss(0,1),random.gauss(1,1))) for i in range(100)]"
   ]
  },
  {
   "cell_type": "code",
   "execution_count": null,
   "id": "9ff5531c",
   "metadata": {},
   "outputs": [],
   "source": [
    "easyLeft = Electorate(left[:40]+center[:30]+right[:30])\n",
    "easyCenter = Electorate(left[:20]+center[:60]+right[:20])\n",
    "centerSqueeze = Electorate(left[:35]+center[:30]+right[:35])"
   ]
  },
  {
   "cell_type": "code",
   "execution_count": null,
   "id": "3d661bcf",
   "metadata": {},
   "outputs": [],
   "source": [
    "Plurality.results([Plurality.honBallot(v) for v in centerSqueeze])\n",
    "Plurality.threeRoundResults(centerSqueeze, Plurality.honBallot,\n",
    "                            [( paramStrat(Plurality.compBallot, intensity=3),select21,),\n",
    "                            ( paramStrat(Plurality.compBallot, intensity=3),select31,),\n",
    "                            ( Plurality.lowInfoBallot, select21,)])"
   ]
  },
  {
   "cell_type": "code",
   "execution_count": null,
   "id": "ecd36544",
   "metadata": {},
   "outputs": [],
   "source": [
    "Plurality.threeRoundResults(Electorate([Voter((3,1,0))]*10+[Voter((0,3,2))]*6+[Voter((0,2,3))]*7), \n",
    "                            Plurality.lowInfoBallot,(Plurality.honBallot,select21,))"
   ]
  },
  {
   "cell_type": "code",
   "execution_count": null,
   "id": "827ea007",
   "metadata": {},
   "outputs": [],
   "source": [
    "STAR().threeRoundResults(Electorate([Voter((3,1,0))]*10+[Voter((0,3,2))]*6+[Voter((0,2,3))]*7),\n",
    "                         STAR().lowInfoBallot,(STAR().honBallot, select31,))"
   ]
  },
  {
   "cell_type": "code",
   "execution_count": null,
   "id": "8e522636",
   "metadata": {},
   "outputs": [],
   "source": [
    "Plurality.threeRoundResults(Electorate([Voter((3,1,0))]*10+[Voter((0,3,2))]*6+[Voter((0,2,3))]*7), \n",
    "                            Plurality.honBallot,(Plurality.stratBallot, select21,))"
   ]
  },
  {
   "cell_type": "code",
   "execution_count": 3,
   "id": "00529a6f",
   "metadata": {},
   "outputs": [
    {
     "name": "stdout",
     "output_type": "stream",
     "text": [
      "Interation:Interation:Interation:Interation:Interation:Interation:      18045090270540360\n",
      "\n",
      "\n",
      "\n",
      "\n",
      "\n",
      "Interation:Interation:Interation:Interation:    720810630\n",
      "900\n",
      "\n",
      "\n",
      "Interation:Interation:  9901080\n",
      "\n",
      "Interation: 1170\n",
      "Interation:Interation:  Interation:1260Interation:1350 \n",
      "\n",
      " Interation:Interation:14401530  \n",
      "\n",
      "17101620\n",
      "\n",
      "Interation: 1800\n",
      "Interation:Interation:  19801890\n",
      "\n",
      "Interation:Interation:Interation:   207021602250\n",
      "\n",
      "\n",
      "Interation: 2340\n",
      "Interation: 2430\n"
     ]
    },
    {
     "ename": "TypeError",
     "evalue": "cannot unpack non-iterable STAR object",
     "output_type": "error",
     "traceback": [
      "\u001b[0;31m---------------------------------------------------------------------------\u001b[0m",
      "\u001b[0;31mRemoteTraceback\u001b[0m                           Traceback (most recent call last)",
      "\u001b[0;31mRemoteTraceback\u001b[0m: \n\"\"\"\nTraceback (most recent call last):\n  File \"/Users/chema/anaconda3/lib/python3.7/multiprocessing/pool.py\", line 121, in worker\n    result = (True, func(*args, **kwds))\n  File \"/Users/chema/anaconda3/lib/python3.7/multiprocessing/pool.py\", line 47, in starmapstar\n    return list(itertools.starmap(args[0], args[1]))\n  File \"/Users/chema/github/vse-sim/vse2.py\", line 76, in oneStepWorker\n    for method, bgStrat, fgs in ms:\nTypeError: cannot unpack non-iterable STAR object\n\"\"\"",
      "\nThe above exception was the direct cause of the following exception:\n",
      "\u001b[0;31mTypeError\u001b[0m                                 Traceback (most recent call last)",
      "\u001b[0;32m<ipython-input-3-807f8147c6f7>\u001b[0m in \u001b[0;36m<module>\u001b[0;34m\u001b[0m\n\u001b[0;32m----> 1\u001b[0;31m \u001b[0mc\u001b[0m \u001b[0;34m=\u001b[0m \u001b[0mCsvBatch\u001b[0m\u001b[0;34m(\u001b[0m\u001b[0mKSModel\u001b[0m\u001b[0;34m(\u001b[0m\u001b[0;34m)\u001b[0m\u001b[0;34m,\u001b[0m \u001b[0;34m[\u001b[0m\u001b[0mPlurality\u001b[0m\u001b[0;34m,\u001b[0m \u001b[0mSTAR\u001b[0m\u001b[0;34m(\u001b[0m\u001b[0;34m)\u001b[0m\u001b[0;34m,\u001b[0m \u001b[0mPluralityTop2\u001b[0m\u001b[0;34m,\u001b[0m \u001b[0mApproval\u001b[0m\u001b[0;34m,\u001b[0m \u001b[0mIrv\u001b[0m\u001b[0;34m]\u001b[0m\u001b[0;34m,\u001b[0m \u001b[0mnvot\u001b[0m\u001b[0;34m=\u001b[0m\u001b[0;36m21\u001b[0m\u001b[0;34m,\u001b[0m \u001b[0mncand\u001b[0m\u001b[0;34m=\u001b[0m\u001b[0;36m5\u001b[0m\u001b[0;34m,\u001b[0m \u001b[0mniter\u001b[0m\u001b[0;34m=\u001b[0m\u001b[0;36m2500\u001b[0m\u001b[0;34m)\u001b[0m\u001b[0;34m\u001b[0m\u001b[0;34m\u001b[0m\u001b[0m\n\u001b[0m",
      "\u001b[0;32m~/github/vse-sim/vse2.py\u001b[0m in \u001b[0;36m__init__\u001b[0;34m(self, model, methodsAndStrats, nvot, ncand, niter, r1Media, r2Media, seed)\u001b[0m\n\u001b[1;32m     44\u001b[0m         \u001b[0margs\u001b[0m \u001b[0;34m=\u001b[0m \u001b[0;34m(\u001b[0m\u001b[0mmodel\u001b[0m\u001b[0;34m,\u001b[0m \u001b[0mnvot\u001b[0m\u001b[0;34m,\u001b[0m \u001b[0mncand\u001b[0m\u001b[0;34m,\u001b[0m \u001b[0mms\u001b[0m\u001b[0;34m,\u001b[0m \u001b[0mr1Media\u001b[0m\u001b[0;34m,\u001b[0m \u001b[0mr2Media\u001b[0m\u001b[0;34m)\u001b[0m\u001b[0;34m\u001b[0m\u001b[0;34m\u001b[0m\u001b[0m\n\u001b[1;32m     45\u001b[0m         \u001b[0;32mwith\u001b[0m \u001b[0mmultiprocessing\u001b[0m\u001b[0;34m.\u001b[0m\u001b[0mPool\u001b[0m\u001b[0;34m(\u001b[0m\u001b[0mprocesses\u001b[0m\u001b[0;34m=\u001b[0m\u001b[0;36m7\u001b[0m\u001b[0;34m)\u001b[0m \u001b[0;32mas\u001b[0m \u001b[0mpool\u001b[0m\u001b[0;34m:\u001b[0m\u001b[0;34m\u001b[0m\u001b[0;34m\u001b[0m\u001b[0m\n\u001b[0;32m---> 46\u001b[0;31m             \u001b[0mresults\u001b[0m \u001b[0;34m=\u001b[0m \u001b[0mpool\u001b[0m\u001b[0;34m.\u001b[0m\u001b[0mstarmap\u001b[0m\u001b[0;34m(\u001b[0m\u001b[0moneStepWorker\u001b[0m\u001b[0;34m,\u001b[0m \u001b[0;34m[\u001b[0m\u001b[0margs\u001b[0m \u001b[0;34m+\u001b[0m \u001b[0;34m(\u001b[0m\u001b[0mseed\u001b[0m\u001b[0;34m,\u001b[0m \u001b[0mi\u001b[0m\u001b[0;34m)\u001b[0m \u001b[0;32mfor\u001b[0m \u001b[0mi\u001b[0m \u001b[0;32min\u001b[0m \u001b[0mrange\u001b[0m\u001b[0;34m(\u001b[0m\u001b[0mniter\u001b[0m\u001b[0;34m)\u001b[0m\u001b[0;34m]\u001b[0m\u001b[0;34m)\u001b[0m\u001b[0;34m\u001b[0m\u001b[0;34m\u001b[0m\u001b[0m\n\u001b[0m\u001b[1;32m     47\u001b[0m             \u001b[0;32mfor\u001b[0m \u001b[0mresult\u001b[0m \u001b[0;32min\u001b[0m \u001b[0mresults\u001b[0m\u001b[0;34m:\u001b[0m\u001b[0;34m\u001b[0m\u001b[0;34m\u001b[0m\u001b[0m\n\u001b[1;32m     48\u001b[0m                 \u001b[0mself\u001b[0m\u001b[0;34m.\u001b[0m\u001b[0mrows\u001b[0m\u001b[0;34m.\u001b[0m\u001b[0mextend\u001b[0m\u001b[0;34m(\u001b[0m\u001b[0mresult\u001b[0m\u001b[0;34m)\u001b[0m\u001b[0;34m\u001b[0m\u001b[0;34m\u001b[0m\u001b[0m\n",
      "\u001b[0;32m~/anaconda3/lib/python3.7/multiprocessing/pool.py\u001b[0m in \u001b[0;36mstarmap\u001b[0;34m(self, func, iterable, chunksize)\u001b[0m\n\u001b[1;32m    274\u001b[0m         \u001b[0;31m`\u001b[0m\u001b[0mfunc\u001b[0m\u001b[0;31m`\u001b[0m \u001b[0;32mand\u001b[0m \u001b[0;34m(\u001b[0m\u001b[0ma\u001b[0m\u001b[0;34m,\u001b[0m \u001b[0mb\u001b[0m\u001b[0;34m)\u001b[0m \u001b[0mbecomes\u001b[0m \u001b[0mfunc\u001b[0m\u001b[0;34m(\u001b[0m\u001b[0ma\u001b[0m\u001b[0;34m,\u001b[0m \u001b[0mb\u001b[0m\u001b[0;34m)\u001b[0m\u001b[0;34m.\u001b[0m\u001b[0;34m\u001b[0m\u001b[0;34m\u001b[0m\u001b[0m\n\u001b[1;32m    275\u001b[0m         '''\n\u001b[0;32m--> 276\u001b[0;31m         \u001b[0;32mreturn\u001b[0m \u001b[0mself\u001b[0m\u001b[0;34m.\u001b[0m\u001b[0m_map_async\u001b[0m\u001b[0;34m(\u001b[0m\u001b[0mfunc\u001b[0m\u001b[0;34m,\u001b[0m \u001b[0miterable\u001b[0m\u001b[0;34m,\u001b[0m \u001b[0mstarmapstar\u001b[0m\u001b[0;34m,\u001b[0m \u001b[0mchunksize\u001b[0m\u001b[0;34m)\u001b[0m\u001b[0;34m.\u001b[0m\u001b[0mget\u001b[0m\u001b[0;34m(\u001b[0m\u001b[0;34m)\u001b[0m\u001b[0;34m\u001b[0m\u001b[0;34m\u001b[0m\u001b[0m\n\u001b[0m\u001b[1;32m    277\u001b[0m \u001b[0;34m\u001b[0m\u001b[0m\n\u001b[1;32m    278\u001b[0m     def starmap_async(self, func, iterable, chunksize=None, callback=None,\n",
      "\u001b[0;32m~/anaconda3/lib/python3.7/multiprocessing/pool.py\u001b[0m in \u001b[0;36mget\u001b[0;34m(self, timeout)\u001b[0m\n\u001b[1;32m    655\u001b[0m             \u001b[0;32mreturn\u001b[0m \u001b[0mself\u001b[0m\u001b[0;34m.\u001b[0m\u001b[0m_value\u001b[0m\u001b[0;34m\u001b[0m\u001b[0;34m\u001b[0m\u001b[0m\n\u001b[1;32m    656\u001b[0m         \u001b[0;32melse\u001b[0m\u001b[0;34m:\u001b[0m\u001b[0;34m\u001b[0m\u001b[0;34m\u001b[0m\u001b[0m\n\u001b[0;32m--> 657\u001b[0;31m             \u001b[0;32mraise\u001b[0m \u001b[0mself\u001b[0m\u001b[0;34m.\u001b[0m\u001b[0m_value\u001b[0m\u001b[0;34m\u001b[0m\u001b[0;34m\u001b[0m\u001b[0m\n\u001b[0m\u001b[1;32m    658\u001b[0m \u001b[0;34m\u001b[0m\u001b[0m\n\u001b[1;32m    659\u001b[0m     \u001b[0;32mdef\u001b[0m \u001b[0m_set\u001b[0m\u001b[0;34m(\u001b[0m\u001b[0mself\u001b[0m\u001b[0;34m,\u001b[0m \u001b[0mi\u001b[0m\u001b[0;34m,\u001b[0m \u001b[0mobj\u001b[0m\u001b[0;34m)\u001b[0m\u001b[0;34m:\u001b[0m\u001b[0;34m\u001b[0m\u001b[0;34m\u001b[0m\u001b[0m\n",
      "\u001b[0;31mTypeError\u001b[0m: cannot unpack non-iterable STAR object"
     ]
    }
   ],
   "source": [
    "c = CsvBatch(KSModel(), [Plurality, STAR, PluralityTop2, Approval, Irv], nvot=21, ncand=5, niter=2500)"
   ]
  },
  {
   "cell_type": "code",
   "execution_count": null,
   "id": "b4113446",
   "metadata": {},
   "outputs": [],
   "source": [
    "c.rows[74]"
   ]
  },
  {
   "cell_type": "code",
   "execution_count": null,
   "id": "a08d4751",
   "metadata": {},
   "outputs": [],
   "source": [
    "c.saveFile()"
   ]
  },
  {
   "cell_type": "code",
   "execution_count": null,
   "id": "c9dffe23",
   "metadata": {},
   "outputs": [],
   "source": [
    "with None as thing:\n",
    "    print(\"hi\")"
   ]
  },
  {
   "cell_type": "code",
   "execution_count": null,
   "id": "fd27e688",
   "metadata": {},
   "outputs": [],
   "source": [
    "a = [[5]]\n",
    "b = a * 5\n",
    "print(b)\n",
    "a[0][0] = 4\n",
    "b"
   ]
  },
  {
   "cell_type": "code",
   "execution_count": null,
   "id": "72c81f62",
   "metadata": {},
   "outputs": [],
   "source": [
    "import random, time\n",
    "random.seed(time.time())"
   ]
  },
  {
   "cell_type": "code",
   "execution_count": null,
   "id": "72f62213",
   "metadata": {},
   "outputs": [],
   "source": [
    "time.time()"
   ]
  },
  {
   "cell_type": "code",
   "execution_count": null,
   "id": "2844111b",
   "metadata": {},
   "outputs": [],
   "source": [
    "time.time()"
   ]
  },
  {
   "cell_type": "code",
   "execution_count": null,
   "id": "df6e868e",
   "metadata": {},
   "outputs": [],
   "source": [
    "(1,2) + (3,4)"
   ]
  },
  {
   "cell_type": "code",
   "execution_count": null,
   "id": "e3c3cc6c",
   "metadata": {},
   "outputs": [],
   "source": []
  }
 ],
 "metadata": {
  "kernelspec": {
   "display_name": "Python 3",
   "language": "python",
   "name": "python3"
  },
  "language_info": {
   "codemirror_mode": {
    "name": "ipython",
    "version": 3
   },
   "file_extension": ".py",
   "mimetype": "text/x-python",
   "name": "python",
   "nbconvert_exporter": "python",
   "pygments_lexer": "ipython3",
   "version": "3.7.10"
  }
 },
 "nbformat": 4,
 "nbformat_minor": 5
}
