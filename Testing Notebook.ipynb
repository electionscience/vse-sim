{
 "cells": [
  {
   "cell_type": "code",
   "execution_count": 1,
   "id": "74b51e60",
   "metadata": {},
   "outputs": [],
   "source": [
    "from vse import *\n",
    "import random"
   ]
  },
  {
   "cell_type": "code",
   "execution_count": null,
   "id": "00529a6f",
   "metadata": {},
   "outputs": [],
   "source": [
    "c = CsvBatch(KSModel(), [Plurality, STAR, PluralityTop2, Approval, ApprovalTop2, Irv, Minimax], nvot=21, ncand=6, niter=5, pickiness = 0.7, pollingError = 0.4)"
   ]
  },
  {
   "cell_type": "code",
   "execution_count": 2,
   "id": "6c341adb",
   "metadata": {},
   "outputs": [],
   "source": [
    "b = CsvBatches(KSModel(), [Plurality, STAR], nvot=21, ncand=[3,5,10], niter=5, pickiness = 0.7, pollingError = 0.4)"
   ]
  },
  {
   "cell_type": "code",
   "execution_count": 3,
   "id": "919fa71a",
   "metadata": {},
   "outputs": [
    {
     "data": {
      "text/plain": [
       "{'method': 'STAR',\n",
       " 'backgroundStrat': 'lowInfoBallot',\n",
       " 'fgStrat': 'compBallot',\n",
       " 'numVoters': 21,\n",
       " 'numCandidates': 10,\n",
       " 'magicBestUtil': -0.6679053368754833,\n",
       " 'magicWorstUtil': -1.9822883036418601,\n",
       " 'meanCandidateUtil': -1.0981185927233106,\n",
       " 'r0ExpectedUtil': -0.6837983011522063,\n",
       " 'r0WinnerUtil': -0.6798898402417917,\n",
       " 'r1WinnerUtil': -0.7084075080345195,\n",
       " 'probOfWin': 0.5046483109263894,\n",
       " 'r1WinProb': 0.10747466922016506,\n",
       " 'winnerPlaceInR0': 1,\n",
       " 'winnerPlaceInR1': 2,\n",
       " 'results': [0.09523809523809523,\n",
       "  0.02857142857142857,\n",
       "  0.18095238095238095,\n",
       "  0.019047619047619046,\n",
       "  0.10476190476190476,\n",
       "  0.10476190476190476,\n",
       "  0.42857142857142855,\n",
       "  0.819047619047619,\n",
       "  0.06666666666666667,\n",
       "  0.047619047619047616],\n",
       " 'bgArgs': {'pollingUncertainty': 0.4},\n",
       " 'fgArgs': {'intensity': 3},\n",
       " 'totalUtil': -0.6798898402417917,\n",
       " 'deciderUtilDiffs': None,\n",
       " 'fgTargets': 'select012',\n",
       " 'totalStratUtilDiff': -0.0757180573580496,\n",
       " 'margStrategicRegret': -1.4933979205686208,\n",
       " 'avgStrategicRegret': -1.4933979205686203,\n",
       " 'fgUtil': -0.7254907235973621,\n",
       " 'fgUtilDiff': -0.14933979205686207,\n",
       " 'fgSize': 10,\n",
       " 'fgNumHelped': 1,\n",
       " 'fgHelpedUtil': -0.6568174556230062,\n",
       " 'fgHelpedUtilDiff': 0.02806258100658976,\n",
       " 'fgNumHarmed': 9,\n",
       " 'fgHarmedUtil': -6.598089780350615,\n",
       " 'fgHarmedUtilDiff': -1.5214605015752105,\n",
       " 'minfgUtil': 0,\n",
       " 'minfgUtilDiff': 0,\n",
       " 'minfgSize': 0,\n",
       " 'minfgNumHelped': 0,\n",
       " 'minfgHelpedUtil': 0,\n",
       " 'minfgHelpedUtilDiff': 0,\n",
       " 'minfgNumHarmed': 0,\n",
       " 'minfgHarmedUtil': 0,\n",
       " 'minfgHarmedUtilDiff': 0,\n",
       " 't1fgUtil': None,\n",
       " 't1fgUtilDiff': None,\n",
       " 't1fgSize': None,\n",
       " 't1fgNumHelped': None,\n",
       " 't1fgHelpedUtil': None,\n",
       " 't1fgHelpedUtilDiff': None,\n",
       " 't1fgNumHarmed': None,\n",
       " 't1fgHarmedUtil': None,\n",
       " 't1fgHarmedUtilDiff': None,\n",
       " 'numWinnersFound': 2,\n",
       " 'electorate': UUID('afd48526-33b9-4863-a687-03cc07bef534'),\n",
       " 'deciderMargUtilDiffs': [(0.0, 0)],\n",
       " 'seed': 1628297384.1548421,\n",
       " 'pickiness': 0.7,\n",
       " 'pollingError': 0.4,\n",
       " 'voterModel': 'KSModel_1_1_1_1_1_6_3'}"
      ]
     },
     "execution_count": 3,
     "metadata": {},
     "output_type": "execute_result"
    }
   ],
   "source": [
    "b.rows[-2]"
   ]
  },
  {
   "cell_type": "code",
   "execution_count": null,
   "id": "a08d4751",
   "metadata": {},
   "outputs": [],
   "source": [
    "c.saveFile(\"minimaxy\")"
   ]
  },
  {
   "cell_type": "code",
   "execution_count": null,
   "id": "fe89af5a",
   "metadata": {},
   "outputs": [],
   "source": [
    "left = [Voter((random.gauss(1,1),random.gauss(0,1),random.gauss(-1,1))) for i in range(100)]\n",
    "center = [Voter((random.gauss(0,1.5),random.gauss(1,1),random.gauss(0,1.5))) for i in range(100)]\n",
    "right = [Voter((random.gauss(-1,1),random.gauss(0,1),random.gauss(1,1))) for i in range(100)]"
   ]
  },
  {
   "cell_type": "code",
   "execution_count": null,
   "id": "9ff5531c",
   "metadata": {},
   "outputs": [],
   "source": [
    "easyLeft = Electorate(left[:40]+center[:30]+right[:30])\n",
    "easyCenter = Electorate(left[:20]+center[:60]+right[:20])\n",
    "centerSqueeze = Electorate(left[:35]+center[:30]+right[:35])"
   ]
  },
  {
   "cell_type": "code",
   "execution_count": null,
   "id": "3d661bcf",
   "metadata": {
    "scrolled": false
   },
   "outputs": [],
   "source": [
    "Plurality.results([Plurality.honBallot(v) for v in centerSqueeze])\n",
    "threeRoundResults(Plurality,centerSqueeze, Plurality.honBallot,\n",
    "                            [( paramStrat(Plurality.compBallot, intensity=3),select21,),\n",
    "                            ( paramStrat(Plurality.compBallot, intensity=3),select31,),\n",
    "                            ( Plurality.lowInfoBallot, select21,)])"
   ]
  },
  {
   "cell_type": "code",
   "execution_count": null,
   "id": "ecd36544",
   "metadata": {},
   "outputs": [],
   "source": [
    "threeRoundResults(Plurality, Electorate([Voter((3,1,0))]*10+[Voter((0,3,2))]*6+[Voter((0,2,3))]*7), \n",
    "                            Plurality.lowInfoBallot,(Plurality.honBallot,select21,))"
   ]
  },
  {
   "cell_type": "code",
   "execution_count": null,
   "id": "827ea007",
   "metadata": {},
   "outputs": [],
   "source": [
    "threeRoundResults(STAR, Electorate([Voter((3,1,0))]*10+[Voter((0,3,2))]*6+[Voter((0,2,3))]*7),\n",
    "                         STAR().lowInfoBallot,(STAR().honBallot, select31,))"
   ]
  },
  {
   "cell_type": "code",
   "execution_count": null,
   "id": "8e522636",
   "metadata": {},
   "outputs": [],
   "source": [
    "threeRoundResults(Plurality, Electorate([Voter((3,1,0))]*10+[Voter((0,3,2))]*6+[Voter((0,2,3))]*7), \n",
    "                            Plurality.honBallot,(Plurality.stratBallot, select21,))"
   ]
  },
  {
   "cell_type": "code",
   "execution_count": null,
   "id": "b4113446",
   "metadata": {},
   "outputs": [],
   "source": [
    "c.rows[74]"
   ]
  },
  {
   "cell_type": "code",
   "execution_count": null,
   "id": "c9dffe23",
   "metadata": {},
   "outputs": [],
   "source": [
    "with None as thing:\n",
    "    print(\"hi\")"
   ]
  },
  {
   "cell_type": "code",
   "execution_count": null,
   "id": "fd27e688",
   "metadata": {},
   "outputs": [],
   "source": [
    "a = [[5]]\n",
    "b = a * 5\n",
    "print(b)\n",
    "a[0][0] = 4\n",
    "b"
   ]
  },
  {
   "cell_type": "code",
   "execution_count": null,
   "id": "72c81f62",
   "metadata": {},
   "outputs": [],
   "source": [
    "import random, time\n",
    "random.seed(time.time())"
   ]
  },
  {
   "cell_type": "code",
   "execution_count": null,
   "id": "72f62213",
   "metadata": {},
   "outputs": [],
   "source": [
    "time.time()"
   ]
  },
  {
   "cell_type": "code",
   "execution_count": null,
   "id": "2844111b",
   "metadata": {},
   "outputs": [],
   "source": [
    "time.time()"
   ]
  },
  {
   "cell_type": "code",
   "execution_count": null,
   "id": "df6e868e",
   "metadata": {},
   "outputs": [],
   "source": [
    "(1,2) + (3,4)"
   ]
  },
  {
   "cell_type": "code",
   "execution_count": null,
   "id": "e3c3cc6c",
   "metadata": {},
   "outputs": [],
   "source": [
    "c = CsvBatch(KSModel(), [Plurality, STAR, PluralityTop2, Approval, ApprovalTop2, Irv, Minimax], nvot=21, ncand=6, niter=5, pickiness = 0.7, pollingError = 0.4)"
   ]
  },
  {
   "cell_type": "code",
   "execution_count": null,
   "id": "e05ad6b7",
   "metadata": {},
   "outputs": [],
   "source": [
    "c.saveFile(\"testfile\")"
   ]
  },
  {
   "cell_type": "code",
   "execution_count": null,
   "id": "5a826143",
   "metadata": {},
   "outputs": [],
   "source": [
    "c.saveFile(\"testfile\", newFile = False)"
   ]
  },
  {
   "cell_type": "code",
   "execution_count": null,
   "id": "661516d5",
   "metadata": {},
   "outputs": [],
   "source": []
  }
 ],
 "metadata": {
  "kernelspec": {
   "display_name": "Python 3",
   "language": "python",
   "name": "python3"
  },
  "language_info": {
   "codemirror_mode": {
    "name": "ipython",
    "version": 3
   },
   "file_extension": ".py",
   "mimetype": "text/x-python",
   "name": "python",
   "nbconvert_exporter": "python",
   "pygments_lexer": "ipython3",
   "version": "3.8.8"
  }
 },
 "nbformat": 4,
 "nbformat_minor": 5
}
