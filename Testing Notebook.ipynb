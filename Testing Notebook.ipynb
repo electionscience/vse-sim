{
 "cells": [
  {
   "cell_type": "code",
   "execution_count": 1,
   "id": "74b51e60",
   "metadata": {},
   "outputs": [],
   "source": [
    "from vse import *\n",
    "import random"
   ]
  },
  {
   "cell_type": "code",
   "execution_count": 2,
   "id": "ad3c82ec",
   "metadata": {},
   "outputs": [],
   "source": [
    "basic = CsvBatch(KSModel(),\n",
    "                 [STAR, Plurality, PluralityTop2,\n",
    "                  Approval, ApprovalTop2, Irv, Minimax],\n",
    "                 nvot=51, ncand=6, niter=500,\n",
    "                 pickiness = 0.7, pollingError = 0.)\n",
    "basic.saveFile(\"bullettest\")"
   ]
  },
  {
   "cell_type": "code",
   "execution_count": null,
   "id": "0698f53a",
   "metadata": {
    "scrolled": false
   },
   "outputs": [],
   "source": [
    "starvse3 = CsvBatch(KSModel(),\n",
    "                   [(STAR, STAR.honBallot,[],{}),\n",
    "                   (STAR, STAR.always510Ballot,[],{}),\n",
    "                   (STAR, STAR.never23Ballot,[],{}),\n",
    "                   (STAR, STAR.vaBallot, [], {'coeffFunc': oldCoefficients}),\n",
    "                   (STAR, STAR.vaBallot, [], {'coeffFunc': getCoefficients}),\n",
    "                   (STAR, STAR.vaBallot, [], {'coeffFunc': simpleCoefficients})],\n",
    "                   nvot=51, ncand=3, niter=250, pickiness = 0.7, pollingError = 0.1)\n",
    "starvse3.saveFile(\"starvse3\")"
   ]
  },
  {
   "cell_type": "code",
   "execution_count": null,
   "id": "00529a6f",
   "metadata": {},
   "outputs": [],
   "source": [
    "c = CsvBatch(KSModel(), [Plurality, STAR, PluralityTop2, Approval, ApprovalTop2, Irv, Minimax], nvot=51, ncand=8, niter=10, pickiness = 0.7, pollingError = 0.4)"
   ]
  },
  {
   "cell_type": "code",
   "execution_count": null,
   "id": "47a2e022",
   "metadata": {},
   "outputs": [],
   "source": [
    "c.rows[0]"
   ]
  },
  {
   "cell_type": "code",
   "execution_count": null,
   "id": "a08d4751",
   "metadata": {},
   "outputs": [],
   "source": [
    "c.saveFile(\"biggestdat\")"
   ]
  },
  {
   "cell_type": "code",
   "execution_count": null,
   "id": "9de3ea43",
   "metadata": {},
   "outputs": [],
   "source": [
    "cs = CsvBatches(KSModel(),\n",
    "             [Plurality, STAR, PluralityTop2, Approval,\n",
    "              ApprovalTop2, Irv, Minimax],\n",
    "             nvot=51, ncand=[3,5,7,9], niter=10,\n",
    "             pickiness = 0.7, pollingError = 0.4)"
   ]
  },
  {
   "cell_type": "code",
   "execution_count": null,
   "id": "3b7d0bac",
   "metadata": {},
   "outputs": [],
   "source": [
    "cs.rows[1]"
   ]
  },
  {
   "cell_type": "code",
   "execution_count": null,
   "id": "fe89af5a",
   "metadata": {},
   "outputs": [],
   "source": [
    "left = [Voter((random.gauss(1,1),random.gauss(0,1),random.gauss(-1,1))) for i in range(100)]\n",
    "center = [Voter((random.gauss(0,1.5),random.gauss(1,1),random.gauss(0,1.5))) for i in range(100)]\n",
    "right = [Voter((random.gauss(-1,1),random.gauss(0,1),random.gauss(1,1))) for i in range(100)]"
   ]
  },
  {
   "cell_type": "code",
   "execution_count": null,
   "id": "9ff5531c",
   "metadata": {},
   "outputs": [],
   "source": [
    "easyLeft = Electorate(left[:40]+center[:30]+right[:30])\n",
    "easyCenter = Electorate(left[:20]+center[:60]+right[:20])\n",
    "centerSqueeze = Electorate(left[:35]+center[:30]+right[:35])"
   ]
  },
  {
   "cell_type": "code",
   "execution_count": null,
   "id": "3d661bcf",
   "metadata": {
    "scrolled": false
   },
   "outputs": [],
   "source": [
    "threeRoundResults(Plurality,centerSqueeze, Plurality.honBallot,\n",
    "                            [( paramStrat(Plurality.compBallot, intensity=3),select21,),\n",
    "                            ( paramStrat(Plurality.compBallot, intensity=3),select31,),\n",
    "                            ( Plurality.vaBallot, select21,)])"
   ]
  },
  {
   "cell_type": "code",
   "execution_count": null,
   "id": "ecd36544",
   "metadata": {},
   "outputs": [],
   "source": [
    "threeRoundResults(Plurality, Electorate([Voter((3,1,0))]*10+[Voter((0,3,2))]*6+[Voter((0,2,3))]*7), \n",
    "                            Plurality.vaBallot,(Plurality.honBallot,select21,))"
   ]
  },
  {
   "cell_type": "code",
   "execution_count": null,
   "id": "827ea007",
   "metadata": {},
   "outputs": [],
   "source": [
    "threeRoundResults(STAR, Electorate([Voter((3,1,0))]*10+[Voter((0,3,2))]*6+[Voter((0,2,3))]*7),\n",
    "                         STAR().vaBallot,(STAR().honBallot, select31,))"
   ]
  },
  {
   "cell_type": "code",
   "execution_count": null,
   "id": "8e522636",
   "metadata": {},
   "outputs": [],
   "source": [
    "threeRoundResults(Plurality, Electorate([Voter((3,1,0))]*10+[Voter((0,3,2))]*6+[Voter((0,2,3))]*7), \n",
    "                            Plurality.honBallot,(Plurality.stratBallot, select21,))"
   ]
  },
  {
   "cell_type": "code",
   "execution_count": null,
   "id": "b4113446",
   "metadata": {},
   "outputs": [],
   "source": [
    "c.rows[74]"
   ]
  },
  {
   "cell_type": "code",
   "execution_count": null,
   "id": "c9dffe23",
   "metadata": {},
   "outputs": [],
   "source": [
    "with None as thing:\n",
    "    print(\"hi\")"
   ]
  },
  {
   "cell_type": "code",
   "execution_count": null,
   "id": "fd27e688",
   "metadata": {},
   "outputs": [],
   "source": [
    "a = [[5]]\n",
    "b = a * 5\n",
    "print(b)\n",
    "a[0][0] = 4\n",
    "b"
   ]
  },
  {
   "cell_type": "code",
   "execution_count": null,
   "id": "72c81f62",
   "metadata": {},
   "outputs": [],
   "source": [
    "import random, time\n",
    "random.seed(time.time())"
   ]
  },
  {
   "cell_type": "code",
   "execution_count": null,
   "id": "72f62213",
   "metadata": {},
   "outputs": [],
   "source": [
    "time.time()"
   ]
  },
  {
   "cell_type": "code",
   "execution_count": null,
   "id": "2844111b",
   "metadata": {},
   "outputs": [],
   "source": [
    "time.time()"
   ]
  },
  {
   "cell_type": "code",
   "execution_count": null,
   "id": "df6e868e",
   "metadata": {},
   "outputs": [],
   "source": [
    "(1,2) + (3,4)"
   ]
  },
  {
   "cell_type": "code",
   "execution_count": null,
   "id": "e3c3cc6c",
   "metadata": {},
   "outputs": [],
   "source": [
    "c = CsvBatch(KSModel(), [Plurality, STAR, PluralityTop2, Approval, ApprovalTop2, Irv, Minimax], nvot=21, ncand=6, niter=5, pickiness = 0.7, pollingError = 0.4)"
   ]
  },
  {
   "cell_type": "code",
   "execution_count": null,
   "id": "e05ad6b7",
   "metadata": {},
   "outputs": [],
   "source": [
    "c.saveFile(\"testfile\")"
   ]
  },
  {
   "cell_type": "code",
   "execution_count": null,
   "id": "5a826143",
   "metadata": {},
   "outputs": [],
   "source": [
    "c.saveFile(\"testfile\", newFile = False)"
   ]
  },
  {
   "cell_type": "code",
   "execution_count": null,
   "id": "661516d5",
   "metadata": {},
   "outputs": [],
   "source": [
    "test510 = CsvBatch(KSModel(),\n",
    "                   [(STAR, STAR.honBallot,\n",
    "                     [(STAR.vaBallot, selectRand), (STAR.stratBallot, selectRand),\n",
    "                      (STAR.always510Ballot, selectRand), (STAR.never23Ballot, selectRand)],\n",
    "                     {})],\n",
    "                   nvot=31, ncand=3, niter=5000, pickiness = 0.7, pollingError = 0.1)\n",
    "test510.saveFile(\"test510\")"
   ]
  },
  {
   "cell_type": "code",
   "execution_count": null,
   "id": "743c3703",
   "metadata": {},
   "outputs": [],
   "source": [
    "vse510 = CsvBatch(KSModel(),\n",
    "                   [(STAR, STAR.honBallot,[],{}),\n",
    "                   (STAR, STAR.always510Ballot,[],{}),\n",
    "                   (STAR, STAR.never23Ballot,[],{})],\n",
    "                   nvot=51, ncand=3, niter=5000, pickiness = 0.7, pollingError = 0.1)\n",
    "vse510.saveFile(\"vse510\")"
   ]
  },
  {
   "cell_type": "code",
   "execution_count": null,
   "id": "18224c67",
   "metadata": {},
   "outputs": [],
   "source": [
    "starStrats3 = CsvBatch(KSModel(),\n",
    "                   [(STAR, STAR.honBallot,\n",
    "                     [(STAR.vaBallot, selectRand, {'coeffFunc': oldCoefficients}),\n",
    "                      (STAR.vaBallot, selectRand, {'coeffFunc': getCoefficients}),\n",
    "                      (STAR.vaBallot, selectRand, {'coeffFunc': simpleCoefficients}),\n",
    "                      (STAR.stratBallot, selectRand),\n",
    "                      (STAR.always510Ballot, selectRand), (STAR.never23Ballot, selectRand)],\n",
    "                     {})],\n",
    "                   nvot=31, ncand=3, niter=5000, pickiness = 0.7, pollingError = 0.1)\n",
    "starStrats3.saveFile(\"starStrats3\")"
   ]
  },
  {
   "cell_type": "code",
   "execution_count": null,
   "id": "23250da2",
   "metadata": {},
   "outputs": [],
   "source": [
    "starStrats6 = CsvBatch(KSModel(),\n",
    "                   [(STAR, STAR.honBallot,\n",
    "                     [(STAR.vaBallot, selectRand, {'coeffFunc': oldCoefficients}),\n",
    "                      (STAR.vaBallot, selectRand, {'coeffFunc': getCoefficients}),\n",
    "                      (STAR.vaBallot, selectRand, {'coeffFunc': simpleCoefficients}),\n",
    "                      (STAR.stratBallot, selectRand)],\n",
    "                     {})],\n",
    "                   nvot=31, ncand=6, niter=5000, pickiness = 0.7, pollingError = 0.1)\n",
    "starStrats6.saveFile(\"starStrats3\")"
   ]
  },
  {
   "cell_type": "code",
   "execution_count": null,
   "id": "a64d7948",
   "metadata": {},
   "outputs": [],
   "source": [
    "starvse6 = CsvBatch(KSModel(),\n",
    "                   [(STAR, STAR.honBallot,[],{}),\n",
    "                   (STAR, STAR.vaBallot, [], {'coeffFunc': oldCoefficients}),\n",
    "                   (STAR, STAR.vaBallot, [], {'coeffFunc': getCoefficients}),\n",
    "                   (STAR, STAR.vaBallot, [], {'coeffFunc': simpleCoefficients})],\n",
    "                   nvot=51, ncand=6, niter=5000, pickiness = 0.7, pollingError = 0.1)\n",
    "starvse6.saveFile(\"starvse6\")"
   ]
  },
  {
   "cell_type": "code",
   "execution_count": null,
   "id": "2c6f7145",
   "metadata": {},
   "outputs": [],
   "source": [
    "aTop2 = CsvBatch(KSModel(), [(ApprovalTop2, ApprovalTop2.zeroInfoBallot,\n",
    "                [(ApprovalTop2.vaBallot, selectRand, {'pollingUncertainty':.4}),\n",
    "                 (ApprovalTop2.vaBallot2, selectRand, {'pollingUncertainty':.4}),\n",
    "                 (ApprovalTop2.honBallot, selectRand), (ApprovalTop2.stratBallot, selectRand)], {})],\n",
    "                 nvot=31, ncand=6, niter=5000, pickiness = 0.7, pollingError = 0.1)\n",
    "aTop2.saveFile(\"atop2\")"
   ]
  },
  {
   "cell_type": "code",
   "execution_count": null,
   "id": "ab579039",
   "metadata": {},
   "outputs": [],
   "source": []
  },
  {
   "cell_type": "code",
   "execution_count": null,
   "id": "6e1f5bd5",
   "metadata": {},
   "outputs": [],
   "source": []
  }
 ],
 "metadata": {
  "kernelspec": {
   "display_name": "Python 3 (ipykernel)",
   "language": "python",
   "name": "python3"
  },
  "language_info": {
   "codemirror_mode": {
    "name": "ipython",
    "version": 3
   },
   "file_extension": ".py",
   "mimetype": "text/x-python",
   "name": "python",
   "nbconvert_exporter": "python",
   "pygments_lexer": "ipython3",
   "version": "3.9.7"
  }
 },
 "nbformat": 4,
 "nbformat_minor": 5
}
