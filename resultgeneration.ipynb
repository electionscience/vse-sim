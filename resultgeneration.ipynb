{
 "cells": [
  {
   "cell_type": "code",
   "execution_count": 1,
   "id": "bb0ccf1a",
   "metadata": {},
   "outputs": [],
   "source": [
    "# Install a pip package in the current Jupyter kernel\n",
    "import sys"
   ]
  },
  {
   "cell_type": "code",
   "execution_count": 2,
   "id": "64021853",
   "metadata": {},
   "outputs": [],
   "source": [
    "from vse import *\n",
    "import random"
   ]
  },
  {
   "cell_type": "code",
   "execution_count": 4,
   "id": "59d53e0c",
   "metadata": {},
   "outputs": [
    {
     "name": "stdout",
     "output_type": "stream",
     "text": [
      "Iteration: 300\n",
      "Iteration: 350\n",
      "Iteration: 400\n",
      "Iteration: 1050\n",
      "Iteration: 1100\n",
      "Iteration: 2050\n",
      "Iteration: 2100\n",
      "Iteration: 3050\n",
      "Iteration: 3100\n",
      "Iteration: 600\n",
      "Iteration: 650\n",
      "Iteration: 700\n",
      "Iteration: 1150\n",
      "Iteration: 1200\n",
      "Iteration: 1250\n",
      "Iteration: 2150\n",
      "Iteration: 2200\n",
      "Iteration: 2250\n",
      "Iteration: 3150\n",
      "Iteration: 3200\n",
      "Iteration: 3250\n",
      "Iteration: 150\n",
      "Iteration: 200\n",
      "Iteration: 250\n",
      "Iteration: 1300\n",
      "Iteration: 1350\n",
      "Iteration: 1400\n",
      "Iteration: 2300\n",
      "Iteration: 2350\n",
      "Iteration: 2400\n",
      "Iteration: 3300\n",
      "Iteration: 3350\n",
      "Iteration: 3400\n",
      "Iteration: 50\n",
      "Iteration: 100\n",
      "Iteration: 1450\n",
      "Iteration: 1500\n",
      "Iteration: 1550\n",
      "Iteration: 2450\n",
      "Iteration: 2500\n",
      "Iteration: 2550\n",
      "Iteration: 3450\n",
      "Iteration: 3500\n",
      "Iteration: 3550\n",
      "Iteration: 450\n",
      "Iteration: 500\n",
      "Iteration: 550\n",
      "Iteration: 1750\n",
      "Iteration: 1800\n",
      "Iteration: 1850\n",
      "Iteration: 2750\n",
      "Iteration: 2800\n",
      "Iteration: 2850\n",
      "Iteration: 3600\n",
      "Iteration: 3650\n",
      "Iteration: 3700\n",
      "Iteration: 900\n",
      "Iteration: 950\n",
      "Iteration: 1000\n",
      "Iteration: 1600\n",
      "Iteration: 1650\n",
      "Iteration: 1700\n",
      "Iteration: 2600\n",
      "Iteration: 2650\n",
      "Iteration: 2700\n",
      "Iteration: 3750\n",
      "Iteration: 3800\n",
      "Iteration: 3850\n",
      "Iteration: 750\n",
      "Iteration: 800\n",
      "Iteration: 850\n",
      "Iteration: 1900\n",
      "Iteration: 1950\n",
      "Iteration: 2000\n",
      "Iteration: 2900\n",
      "Iteration: 2950\n",
      "Iteration: 3000\n",
      "Iteration: 3900\n",
      "Iteration: 3950\n",
      "CPU times: user 4.79 s, sys: 753 ms, total: 5.54 s\n",
      "Wall time: 10min 36s\n"
     ]
    }
   ],
   "source": [
    "%%time\n",
    "random.seed(1729)\n",
    "noStrats = CsvBatch(KSModel(),\n",
    "                 [(STAR, STAR.honBallot, [], {}), (STAR, STAR.vaBallot, [], {'pollingUncertainty':0.4}),\n",
    "                  (Plurality, Plurality.honBallot, [], {}), (Plurality, Plurality.vaBallot, [], {'pollingUncertainty':0.4}),\n",
    "                  (PluralityTop2, PluralityTop2.honBallot, [], {}), (PluralityTop2, PluralityTop2.vaBallot, [], {'pollingUncertainty':0.4}),\n",
    "                  (Approval, Approval.honBallot, [], {}), (Approval, Approval.vaBallot, [], {'pollingUncertainty':0.4}),\n",
    "                  (ApprovalTop2, ApprovalTop2.honBallot, [], {}), (ApprovalTop2, ApprovalTop2.vaBallot, [], {'pollingUncertainty':0.4}),\n",
    "                  (Irv, Irv.honBallot, [], {}), (Irv, Irv.vaBallot, [], {'pollingUncertainty':0.4}),\n",
    "                  (Minimax, Minimax.honBallot, [], {}), (Minimax, Minimax.vaBallot, [], {'pollingUncertainty':0.4})],\n",
    "                 nvot=1001, ncand=6, niter=4000,\n",
    "                 pickiness = 0.7, pollingError = 0.1)\n",
    "noStrats.saveFile(\"nostrats\")"
   ]
  },
  {
   "cell_type": "code",
   "execution_count": null,
   "id": "57c4148f",
   "metadata": {},
   "outputs": [],
   "source": [
    "basic = CsvBatch(KSModel(),\n",
    "                 [STAR, Plurality, PluralityTop2,\n",
    "                  Approval, ApprovalTop2, Irv, Minimax],\n",
    "                 nvot=1001, ncand=6, niter=1000,\n",
    "                 pickiness = 0.7, pollingError = 0.4)\n",
    "basic.saveFile(\"bullets\")"
   ]
  },
  {
   "cell_type": "code",
   "execution_count": null,
   "id": "4956ed04",
   "metadata": {},
   "outputs": [],
   "source": [
    "basic = CsvBatch(RandomModel(),\n",
    "                 [STAR, Plurality, PluralityTop2,\n",
    "                  Approval, ApprovalTop2, Irv, Minimax],\n",
    "                 nvot=51, ncand=6, niter=1000,\n",
    "                 pickiness = 0.7, pollingError = 0.4)\n",
    "basic.saveFile(\"9random\")"
   ]
  },
  {
   "cell_type": "code",
   "execution_count": null,
   "id": "cea6e582",
   "metadata": {},
   "outputs": [],
   "source": [
    "\n",
    "basic = CsvBatch(DimModel(2),\n",
    "                 [STAR, Plurality, PluralityTop2,\n",
    "                  Approval, ApprovalTop2, Irv, Minimax],\n",
    "                 nvot=51, ncand=6, niter=1000,\n",
    "                 pickiness = 0.7, pollingError = 0.4)\n",
    "basic.saveFile(\"2d\")\n",
    "basic = CsvBatch(DimModel(3),\n",
    "                 [STAR, Plurality, PluralityTop2,\n",
    "                  Approval, ApprovalTop2, Irv, Minimax],\n",
    "                 nvot=51, ncand=6, niter=1000,\n",
    "                 pickiness = 0.7, pollingError = 0.4)\n",
    "basic.saveFile(\"3d\")"
   ]
  },
  {
   "cell_type": "code",
   "execution_count": null,
   "id": "a42fbe2d",
   "metadata": {},
   "outputs": [],
   "source": [
    "\n",
    "basic = CsvBatch(KSModel(),\n",
    "                 [STAR, Plurality, PluralityTop2,\n",
    "                  Approval, ApprovalTop2, Irv, Minimax],\n",
    "                 nvot=51, ncand=3, niter=1000,\n",
    "                 pickiness = 0.7, pollingError = 0.4)\n",
    "basic.saveFile(\"3cand\")\n",
    "basic = CsvBatch(KSModel(),\n",
    "                 [STAR, Plurality, PluralityTop2,\n",
    "                  Approval, ApprovalTop2, Irv, Minimax],\n",
    "                 nvot=51, ncand=8, niter=1000,\n",
    "                 pickiness = 0.7, pollingError = 0.4)\n",
    "basic.saveFile(\"8cand\")\n",
    "basic = CsvBatch(KSModel(),\n",
    "                 [STAR, Plurality, PluralityTop2,\n",
    "                  Approval, ApprovalTop2, Irv, Minimax],\n",
    "                 nvot=51, ncand=6, niter=1000,\n",
    "                 pickiness = 0.0, pollingError = 0.4)\n",
    "basic.saveFile(\"0picky\")\n",
    "basic = CsvBatch(KSModel(),\n",
    "                 [STAR, Plurality, PluralityTop2,\n",
    "                  Approval, ApprovalTop2, Irv, Minimax],\n",
    "                 nvot=51, ncand=3, niter=1000,\n",
    "                 pickiness = 0.7, pollingError = 0.1)\n",
    "basic.saveFile(\"01MOE\")"
   ]
  },
  {
   "cell_type": "code",
   "execution_count": null,
   "id": "90cc36d9",
   "metadata": {},
   "outputs": [],
   "source": [
    "manyMethods = CsvBatch(KSModel(),\n",
    "             [Plurality, PluralityTop2, Approval, ApprovalTop2,\n",
    "              STAR, Score, Borda, Irv,\n",
    "              Minimax, Rp, Schulze, Raynaud, SmithIRV],\n",
    "             nvot=51, ncand=5, niter=3000, pickiness = 0.7, pollingError = 0.15)\n",
    "manyMethods.saveFile(\"manymethods\")"
   ]
  },
  {
   "cell_type": "code",
   "execution_count": null,
   "id": "ef0bee3f",
   "metadata": {},
   "outputs": [],
   "source": [
    "STARinputs = []\n",
    "STARfgs = []\n",
    "for targetFunc in [select21, select31, selectRand, select012]:\n",
    "    STARfgs.extend([(STAR.diehardBallot, targetFunc, {'intensity':i}) for i in STAR.diehardLevels]\n",
    "               + [(STAR.compBallot, targetFunc, {'intensity':i}) for i in STAR.compLevels])\n",
    "    STARfgs.append((STAR.vaBallot, targetFunc, {'info':'e'}))\n",
    "    STARfgs.append((STAR.vaBallot, targetFunc, {'info':'p'}))\n",
    "    STARfgs.append((STAR.bulletBallot, targetFunc))\n",
    "for bg in [STAR.honBallot, STAR.vaBallot, STAR.bulletBallot]:\n",
    "    STARinputs.append((STAR, bg, STARfgs, {'pollingUncertainty':0.4}))\n",
    "    \n"
   ]
  },
  {
   "cell_type": "code",
   "execution_count": null,
   "id": "5b60bc4f",
   "metadata": {},
   "outputs": [],
   "source": [
    "bulletSTAR = CsvBatch(KSModel(),\n",
    "                 STARinputs,\n",
    "                 nvot=31, ncand=6, niter=500,\n",
    "                 pickiness = 0.7, pollingError = 0.15)\n",
    "bulletSTAR.saveFile('bulletSTAR')"
   ]
  },
  {
   "cell_type": "code",
   "execution_count": null,
   "id": "8553576e",
   "metadata": {},
   "outputs": [],
   "source": [
    "STARinputs2 = []\n",
    "STARfgs2 = []\n",
    "for scoreWeight in [0.02*N for N in range(20)]:\n",
    "    STARfgs2.append((STAR.vaBallot, selectRand, {'info':'e', 'scoreImportance': scoreWeight, 'pollingUncertainty': .3}))\n",
    "for bg in [STAR.honBallot, STAR.vaBallot]:\n",
    "    STARinputs2.append((STAR, bg, STARfgs2, {'pollingUncertainty':0.3}))"
   ]
  },
  {
   "cell_type": "code",
   "execution_count": null,
   "id": "0f0219dd",
   "metadata": {},
   "outputs": [],
   "source": [
    "starCalib = CsvBatch(KSModel(),\n",
    "                 STARinputs2,\n",
    "                 nvot=21, ncand=6, niter=10000,\n",
    "                 pickiness = 0.7, pollingError = 0.15)\n",
    "starCalib.saveFile('STARcalib')"
   ]
  },
  {
   "cell_type": "code",
   "execution_count": null,
   "id": "8ec43dda",
   "metadata": {},
   "outputs": [],
   "source": [
    "STARinputs3 = []\n",
    "STARfgs3 = []\n",
    "for uncertainty in [0.02*N for N in range(3, 25)]:\n",
    "    STARfgs3.append((STAR.vaBallot, selectRand, {'info':'e', 'scoreImportance': 0.3, 'pollingUncertainty': uncertainty}))\n",
    "for bg in [STAR.honBallot, STAR.vaBallot]:\n",
    "    STARinputs3.append((STAR, bg, STARfgs3, {'pollingUncertainty':0.3}))"
   ]
  },
  {
   "cell_type": "code",
   "execution_count": null,
   "id": "66de16d2",
   "metadata": {},
   "outputs": [],
   "source": [
    "starCalib2 = CsvBatch(KSModel(),\n",
    "                 STARinputs3,\n",
    "                 nvot=21, ncand=6, niter=10000,\n",
    "                 pickiness = 0.7, pollingError = 0.15)\n",
    "starCalib2.saveFile('STARcalibU')"
   ]
  },
  {
   "cell_type": "code",
   "execution_count": null,
   "id": "a31bd2a8",
   "metadata": {},
   "outputs": [],
   "source": [
    "starCalib.rows[5]"
   ]
  },
  {
   "cell_type": "code",
   "execution_count": null,
   "id": "e157e15e",
   "metadata": {},
   "outputs": [],
   "source": [
    "star0ifgs = [(STAR.zeroInfoBallot, selectRand, {'exponent':1 + i/10, 'bottomSD': j})for i in range(10) for j in [2,1.5,1,.5,0]]"
   ]
  },
  {
   "cell_type": "code",
   "execution_count": null,
   "id": "48d84405",
   "metadata": {},
   "outputs": [],
   "source": [
    "star0i = CsvBatch(KSModel(),\n",
    "                 [(STAR, STAR.honBallot, star0ifgs, {})],\n",
    "                 nvot=21, ncand=6, niter=50000,\n",
    "                 pickiness = 0.7, pollingError = 0.15)\n",
    "star0i.saveFile('STAR0i')"
   ]
  },
  {
   "cell_type": "code",
   "execution_count": null,
   "id": "789a7ee0",
   "metadata": {},
   "outputs": [],
   "source": [
    "starBG = CsvBatch(KSModel(),\n",
    "                 [(STAR, STAR.honBallot, [], {}), (STAR, STAR.vaBallot, [], {}), (STAR, STAR.zeroInfoBallot, [], {})],\n",
    "                 nvot=21, ncand=6, niter=5000,\n",
    "                 pickiness = 0.7, pollingError = 0.15)\n",
    "starBG.saveFile('STARbg')"
   ]
  },
  {
   "cell_type": "code",
   "execution_count": null,
   "id": "8cb59dda",
   "metadata": {},
   "outputs": [],
   "source": [
    "deciderStrat = CsvBatch(KSModel(),\n",
    "                 [STAR, Plurality, PluralityTop2,\n",
    "                  Approval, ApprovalTop2, Irv, Minimax],\n",
    "                 nvot=51, ncand=6, niter=1000,\n",
    "                 pickiness = 0.7, pollingError = 0.4)\n",
    "deciderStrat.saveFile(\"dstrat\")"
   ]
  },
  {
   "cell_type": "code",
   "execution_count": null,
   "id": "037af90a",
   "metadata": {},
   "outputs": [],
   "source": [
    "deciderStrat.rows[15]"
   ]
  },
  {
   "cell_type": "code",
   "execution_count": null,
   "id": "a1fd8da9",
   "metadata": {
    "scrolled": true
   },
   "outputs": [],
   "source": [
    "ms = [STAR, Score, Approval, ApprovalTop2, Irv, Minimax]\n",
    "bulletResults = CsvBatch(KSModel(),\n",
    "                         [(method, hybridStrat, [],\n",
    "                           {'stratTuples': ((method.bulletBallot, i/10), (method.honBallot, 1-i/10))})\n",
    "                          for method in ms for i in range(11)] +\n",
    "                         [(method, hybridStrat, [],\n",
    "                           {'stratTuples': ((method.bulletBallot, i/10), (method.vaBallot, 1-i/10)),\n",
    "                            'pollingUncertainty':0.4}) for method in ms for i in range(11)],\n",
    "                 nvot=51, ncand=6, niter=2000,\n",
    "                 pickiness = 0.7, pollingError = 0.15)"
   ]
  },
  {
   "cell_type": "code",
   "execution_count": null,
   "id": "5dffce7c",
   "metadata": {},
   "outputs": [],
   "source": [
    "bulletResults.saveFile(\"bulletresults\")"
   ]
  },
  {
   "cell_type": "code",
   "execution_count": null,
   "id": "e2019d1a",
   "metadata": {},
   "outputs": [],
   "source": [
    "pollingError = CsvBatch(KSModel(),\n",
    "                 [STAR, Plurality, PluralityTop2,\n",
    "                  Approval, ApprovalTop2, Irv, Minimax, Borda],\n",
    "                 nvot=51, ncand=6, niter=1000,\n",
    "                 pickiness = 0.7, pollingError = 0.2)\n",
    "pollingError.saveFile(\"pollingerror\")"
   ]
  },
  {
   "cell_type": "code",
   "execution_count": null,
   "id": "877b0632",
   "metadata": {},
   "outputs": [],
   "source": [
    "pollingError.rows[1000]"
   ]
  },
  {
   "cell_type": "code",
   "execution_count": null,
   "id": "b290fb6f",
   "metadata": {},
   "outputs": [],
   "source": [
    "abstentions = CsvBatch(KSModel(),\n",
    "             [Plurality, Approval, ApprovalTop2,\n",
    "              STAR, Score, Borda, Irv, Minimax],\n",
    "             nvot=51, ncand=6, niter=500, pickiness = 0.7, pollingError = 0.15)\n",
    "abstentions.saveFile(\"abstentions\")"
   ]
  },
  {
   "cell_type": "code",
   "execution_count": null,
   "id": "7eefe6a0",
   "metadata": {},
   "outputs": [],
   "source": [
    "condorcetResults = CsvBatch(KSModel(),\n",
    "             [Irv, Minimax, Rp, Schulze, Raynaud, SmithIRV, Sass],\n",
    "             nvot=51, ncand=7, niter=2000, pickiness = 0.7, pollingError = 0.15)\n",
    "condorcetResults.saveFile(\"condorcet\")"
   ]
  },
  {
   "cell_type": "code",
   "execution_count": null,
   "id": "77beb6ff",
   "metadata": {},
   "outputs": [],
   "source": [
    "condorcetGoodPolls = CsvBatch(KSModel(),\n",
    "             [Irv, Minimax, Rp, Schulze, Raynaud, SmithIRV, Sass],\n",
    "             nvot=51, ncand=7, niter=2000, pickiness = 0.2, pollingError = 0.05)\n",
    "condorcetGoodPolls.saveFile(\"condorcetlowerror\")"
   ]
  },
  {
   "cell_type": "code",
   "execution_count": null,
   "id": "4e5b0e07",
   "metadata": {},
   "outputs": [],
   "source": [
    "honInputs = [(m, m.honBallot, [], {}) for m in\n",
    "             [Plurality, PluralityTop2, Approval, ApprovalTop2,\n",
    "              STAR, Score, Borda, Irv,\n",
    "              Minimax, Rp, Schulze, Raynaud, SmithIRV, SmithScore, RankedRobin,\n",
    "              ITRV, SmithITRV]]\n",
    "honOnly = CsvBatch(KSModel(), honInputs, nvot=51, ncand=7, niter=30000)\n",
    "honOnly.saveFile(\"honest\")"
   ]
  },
  {
   "cell_type": "code",
   "execution_count": null,
   "id": "82530d5b",
   "metadata": {
    "scrolled": true
   },
   "outputs": [],
   "source": [
    "len(honOnly.rows)"
   ]
  },
  {
   "cell_type": "code",
   "execution_count": null,
   "id": "868a7aef",
   "metadata": {},
   "outputs": [],
   "source": [
    "bulletInputs = [(m, m.realisticBullets, [], {}) for m in\n",
    "             [Plurality, PluralityTop2, Approval, ApprovalTop2,\n",
    "              STAR, Irv, Minimax]]\n",
    "realBullets = CsvBatch(KSModel(), bulletInputs, nvot=51, ncand=6, niter=30000)\n",
    "realBullets.saveFile(\"realbullets\")"
   ]
  },
  {
   "cell_type": "code",
   "execution_count": 5,
   "id": "fa98caaf",
   "metadata": {},
   "outputs": [],
   "source": [
    "honInputs = [(m, m.honBallot, [], {}) for m in\n",
    "             [Plurality, PluralityTop2, Approval, ApprovalTop2,\n",
    "              STAR, Score, Irv,\n",
    "              Minimax, RankedRobin]]\n",
    "candidateNumbers = CsvBatches(KSModel(), honInputs, 1001, list(range(2, 21)), 5000)\n",
    "candidateNumbers.saveFile(\"candnumber\")"
   ]
  },
  {
   "cell_type": "code",
   "execution_count": null,
   "id": "22bfc073",
   "metadata": {},
   "outputs": [],
   "source": []
  }
 ],
 "metadata": {
  "kernelspec": {
   "display_name": "Python 3 (ipykernel)",
   "language": "python",
   "name": "python3"
  },
  "language_info": {
   "codemirror_mode": {
    "name": "ipython",
    "version": 3
   },
   "file_extension": ".py",
   "mimetype": "text/x-python",
   "name": "python",
   "nbconvert_exporter": "python",
   "pygments_lexer": "ipython3",
   "version": "3.9.7"
  }
 },
 "nbformat": 4,
 "nbformat_minor": 5
}
