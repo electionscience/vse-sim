{
 "cells": [
  {
   "cell_type": "code",
   "execution_count": 1,
   "id": "64021853",
   "metadata": {},
   "outputs": [],
   "source": [
    "from vse import *"
   ]
  },
  {
   "cell_type": "code",
   "execution_count": null,
   "id": "57c4148f",
   "metadata": {},
   "outputs": [],
   "source": [
    "basic = CsvBatch(KSModel(),\n",
    "                 [STAR, Plurality, PluralityTop2,\n",
    "                  Approval, ApprovalTop2, Irv, Minimax],\n",
    "                 nvot=1001, ncand=6, niter=1000,\n",
    "                 pickiness = 0.7, pollingError = 0.4)\n",
    "basic.saveFile(\"bullets\")"
   ]
  },
  {
   "cell_type": "code",
   "execution_count": null,
   "id": "4956ed04",
   "metadata": {},
   "outputs": [],
   "source": [
    "basic = CsvBatch(RandomModel(),\n",
    "                 [STAR, Plurality, PluralityTop2,\n",
    "                  Approval, ApprovalTop2, Irv, Minimax],\n",
    "                 nvot=51, ncand=6, niter=1000,\n",
    "                 pickiness = 0.7, pollingError = 0.4)\n",
    "basic.saveFile(\"9random\")"
   ]
  },
  {
   "cell_type": "code",
   "execution_count": null,
   "id": "cea6e582",
   "metadata": {},
   "outputs": [],
   "source": [
    "\n",
    "basic = CsvBatch(DimModel(2),\n",
    "                 [STAR, Plurality, PluralityTop2,\n",
    "                  Approval, ApprovalTop2, Irv, Minimax],\n",
    "                 nvot=51, ncand=6, niter=1000,\n",
    "                 pickiness = 0.7, pollingError = 0.4)\n",
    "basic.saveFile(\"2d\")\n",
    "basic = CsvBatch(DimModel(3),\n",
    "                 [STAR, Plurality, PluralityTop2,\n",
    "                  Approval, ApprovalTop2, Irv, Minimax],\n",
    "                 nvot=51, ncand=6, niter=1000,\n",
    "                 pickiness = 0.7, pollingError = 0.4)\n",
    "basic.saveFile(\"3d\")"
   ]
  },
  {
   "cell_type": "code",
   "execution_count": null,
   "id": "a42fbe2d",
   "metadata": {},
   "outputs": [],
   "source": [
    "\n",
    "basic = CsvBatch(KSModel(),\n",
    "                 [STAR, Plurality, PluralityTop2,\n",
    "                  Approval, ApprovalTop2, Irv, Minimax],\n",
    "                 nvot=51, ncand=3, niter=1000,\n",
    "                 pickiness = 0.7, pollingError = 0.4)\n",
    "basic.saveFile(\"3cand\")\n",
    "basic = CsvBatch(KSModel(),\n",
    "                 [STAR, Plurality, PluralityTop2,\n",
    "                  Approval, ApprovalTop2, Irv, Minimax],\n",
    "                 nvot=51, ncand=8, niter=1000,\n",
    "                 pickiness = 0.7, pollingError = 0.4)\n",
    "basic.saveFile(\"8cand\")\n",
    "basic = CsvBatch(KSModel(),\n",
    "                 [STAR, Plurality, PluralityTop2,\n",
    "                  Approval, ApprovalTop2, Irv, Minimax],\n",
    "                 nvot=51, ncand=6, niter=1000,\n",
    "                 pickiness = 0.0, pollingError = 0.4)\n",
    "basic.saveFile(\"0picky\")\n",
    "basic = CsvBatch(KSModel(),\n",
    "                 [STAR, Plurality, PluralityTop2,\n",
    "                  Approval, ApprovalTop2, Irv, Minimax],\n",
    "                 nvot=51, ncand=3, niter=1000,\n",
    "                 pickiness = 0.7, pollingError = 0.1)\n",
    "basic.saveFile(\"01MOE\")"
   ]
  },
  {
   "cell_type": "code",
   "execution_count": null,
   "id": "90cc36d9",
   "metadata": {},
   "outputs": [],
   "source": [
    "manyMethods = CsvBatch(KSModel(),\n",
    "             [Plurality, PluralityTop2, Approval, ApprovalTop2,\n",
    "              STAR, Score, Borda, Irv,\n",
    "              Minimax, Rp, Schulze, Raynaud, SmithIRV],\n",
    "             nvot=51, ncand=5, niter=3000, pickiness = 0.7, pollingError = 0.15)\n",
    "manyMethods.saveFile(\"manymethods\")"
   ]
  },
  {
   "cell_type": "code",
   "execution_count": null,
   "id": "ef0bee3f",
   "metadata": {},
   "outputs": [],
   "source": [
    "STARinputs = []\n",
    "STARfgs = []\n",
    "for targetFunc in [select21, select31, selectRand, select012]:\n",
    "    STARfgs.extend([(STAR.diehardBallot, targetFunc, {'intensity':i}) for i in STAR.diehardLevels]\n",
    "               + [(STAR.compBallot, targetFunc, {'intensity':i}) for i in STAR.compLevels])\n",
    "    STARfgs.append((STAR.vaBallot, targetFunc, {'info':'e'}))\n",
    "    STARfgs.append((STAR.vaBallot, targetFunc, {'info':'p'}))\n",
    "    STARfgs.append((STAR.bulletBallot, targetFunc))\n",
    "for bg in [STAR.honBallot, STAR.vaBallot, STAR.bulletBallot]:\n",
    "    STARinputs.append((STAR, bg, STARfgs, {'pollingUncertainty':0.4}))\n",
    "    \n"
   ]
  },
  {
   "cell_type": "code",
   "execution_count": null,
   "id": "5b60bc4f",
   "metadata": {},
   "outputs": [],
   "source": [
    "bulletSTAR = CsvBatch(KSModel(),\n",
    "                 STARinputs,\n",
    "                 nvot=31, ncand=6, niter=500,\n",
    "                 pickiness = 0.7, pollingError = 0.15)\n",
    "bulletSTAR.saveFile('bulletSTAR')"
   ]
  },
  {
   "cell_type": "code",
   "execution_count": null,
   "id": "8553576e",
   "metadata": {},
   "outputs": [],
   "source": [
    "STARinputs2 = []\n",
    "STARfgs2 = []\n",
    "for scoreWeight in [0.01 + 0.02*N for N in range(20)]:\n",
    "    STARfgs2.append((STAR.vaBallot, selectRand, {'info':'e', 'scoreImportance': scoreWeight}))\n",
    "for bg in [STAR.honBallot, STAR.vaBallot]:\n",
    "    STARinputs2.append((STAR, bg, STARfgs2, {'pollingUncertainty':0.4}))"
   ]
  },
  {
   "cell_type": "code",
   "execution_count": null,
   "id": "0f0219dd",
   "metadata": {},
   "outputs": [],
   "source": [
    "starCalib = CsvBatch(KSModel(),\n",
    "                 STARinputs2,\n",
    "                 nvot=21, ncand=6, niter=5000,\n",
    "                 pickiness = 0.7, pollingError = 0.15)\n",
    "starCalib.saveFile('STARcalib')"
   ]
  },
  {
   "cell_type": "code",
   "execution_count": null,
   "id": "a31bd2a8",
   "metadata": {},
   "outputs": [],
   "source": [
    "starCalib.rows[5]"
   ]
  },
  {
   "cell_type": "code",
   "execution_count": null,
   "id": "8cb59dda",
   "metadata": {},
   "outputs": [],
   "source": [
    "deciderStrat = CsvBatch(KSModel(),\n",
    "                 [STAR, Plurality, PluralityTop2,\n",
    "                  Approval, ApprovalTop2, Irv, Minimax],\n",
    "                 nvot=51, ncand=6, niter=1000,\n",
    "                 pickiness = 0.7, pollingError = 0.4)\n",
    "deciderStrat.saveFile(\"dstrat\")"
   ]
  },
  {
   "cell_type": "code",
   "execution_count": null,
   "id": "037af90a",
   "metadata": {},
   "outputs": [],
   "source": [
    "deciderStrat.rows[15]"
   ]
  },
  {
   "cell_type": "code",
   "execution_count": null,
   "id": "a1fd8da9",
   "metadata": {
    "scrolled": true
   },
   "outputs": [],
   "source": [
    "ms = [STAR, Score, Approval, ApprovalTop2, Irv, Minimax]\n",
    "bulletResults = CsvBatch(KSModel(),\n",
    "                         [(method, hybridStrat, [],\n",
    "                           {'stratTuples': ((method.bulletBallot, i/10), (method.honBallot, 1-i/10))})\n",
    "                          for method in ms for i in range(11)] +\n",
    "                         [(method, hybridStrat, [],\n",
    "                           {'stratTuples': ((method.bulletBallot, i/10), (method.vaBallot, 1-i/10)),\n",
    "                            'pollingUncertainty':0.4}) for method in ms for i in range(11)],\n",
    "                 nvot=51, ncand=6, niter=2000,\n",
    "                 pickiness = 0.7, pollingError = 0.15)"
   ]
  },
  {
   "cell_type": "code",
   "execution_count": null,
   "id": "5dffce7c",
   "metadata": {},
   "outputs": [],
   "source": [
    "bulletResults.saveFile(\"bulletresults\")"
   ]
  },
  {
   "cell_type": "code",
   "execution_count": null,
   "id": "e2019d1a",
   "metadata": {},
   "outputs": [],
   "source": [
    "pollingError = CsvBatch(KSModel(),\n",
    "                 [STAR, Plurality, PluralityTop2,\n",
    "                  Approval, ApprovalTop2, Irv, Minimax, Borda],\n",
    "                 nvot=51, ncand=6, niter=1000,\n",
    "                 pickiness = 0.7, pollingError = 0.2)\n",
    "pollingError.saveFile(\"pollingerror\")"
   ]
  },
  {
   "cell_type": "code",
   "execution_count": null,
   "id": "877b0632",
   "metadata": {},
   "outputs": [],
   "source": [
    "pollingError.rows[1000]"
   ]
  },
  {
   "cell_type": "code",
   "execution_count": 3,
   "id": "b290fb6f",
   "metadata": {},
   "outputs": [],
   "source": [
    "abstentions = CsvBatch(KSModel(),\n",
    "             [Plurality, Approval, ApprovalTop2,\n",
    "              STAR, Score, Borda, Irv, Minimax],\n",
    "             nvot=51, ncand=6, niter=500, pickiness = 0.7, pollingError = 0.15)\n",
    "abstentions.saveFile(\"abstentions\")"
   ]
  },
  {
   "cell_type": "code",
   "execution_count": 2,
   "id": "7eefe6a0",
   "metadata": {},
   "outputs": [],
   "source": [
    "condorcetResults = CsvBatch(KSModel(),\n",
    "             [Irv, Minimax, Rp, Schulze, Raynaud, SmithIRV, Sass],\n",
    "             nvot=51, ncand=7, niter=2000, pickiness = 0.7, pollingError = 0.15)\n",
    "condorcetResults.saveFile(\"condorcet\")"
   ]
  },
  {
   "cell_type": "code",
   "execution_count": 3,
   "id": "77beb6ff",
   "metadata": {},
   "outputs": [],
   "source": [
    "condorcetGoodPolls = CsvBatch(KSModel(),\n",
    "             [Irv, Minimax, Rp, Schulze, Raynaud, SmithIRV, Sass],\n",
    "             nvot=51, ncand=7, niter=2000, pickiness = 0.2, pollingError = 0.05)\n",
    "condorcetGoodPolls.saveFile(\"condorcetlowerror\")"
   ]
  },
  {
   "cell_type": "code",
   "execution_count": 10,
   "id": "4e5b0e07",
   "metadata": {},
   "outputs": [],
   "source": [
    "honInputs = [(m, m.honBallot, [], {}) for m in\n",
    "             [Plurality, PluralityTop2, Approval, ApprovalTop2,\n",
    "              STAR, Score, Borda, Irv,\n",
    "              Minimax, Rp, Schulze, Raynaud, SmithIRV, SmithScore, RankedRobin,\n",
    "              ITRV, SmithITRV]]\n",
    "honOnly = CsvBatch(KSModel(), honInputs, nvot=51, ncand=7, niter=30000)\n",
    "honOnly.saveFile(\"honest\")"
   ]
  },
  {
   "cell_type": "code",
   "execution_count": 9,
   "id": "82530d5b",
   "metadata": {
    "scrolled": true
   },
   "outputs": [
    {
     "data": {
      "text/plain": [
       "36000"
      ]
     },
     "execution_count": 9,
     "metadata": {},
     "output_type": "execute_result"
    }
   ],
   "source": [
    "len(honOnly.rows)"
   ]
  },
  {
   "cell_type": "code",
   "execution_count": null,
   "id": "868a7aef",
   "metadata": {},
   "outputs": [],
   "source": []
  }
 ],
 "metadata": {
  "kernelspec": {
   "display_name": "Python 3",
   "language": "python",
   "name": "python3"
  },
  "language_info": {
   "codemirror_mode": {
    "name": "ipython",
    "version": 3
   },
   "file_extension": ".py",
   "mimetype": "text/x-python",
   "name": "python",
   "nbconvert_exporter": "python",
   "pygments_lexer": "ipython3",
   "version": "3.8.8"
  }
 },
 "nbformat": 4,
 "nbformat_minor": 5
}
