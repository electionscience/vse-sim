{
 "cells": [
  {
   "cell_type": "code",
   "execution_count": 1,
   "id": "64021853",
   "metadata": {},
   "outputs": [],
   "source": [
    "from vse import *"
   ]
  },
  {
   "cell_type": "code",
   "execution_count": null,
   "id": "57c4148f",
   "metadata": {},
   "outputs": [],
   "source": [
    "basic = CsvBatch(KSModel(),\n",
    "                 [STAR, Plurality, PluralityTop2,\n",
    "                  Approval, ApprovalTop2, Irv, Minimax],\n",
    "                 nvot=1001, ncand=6, niter=1000,\n",
    "                 pickiness = 0.7, pollingError = 0.4)\n",
    "basic.saveFile(\"bullets\")"
   ]
  },
  {
   "cell_type": "code",
   "execution_count": null,
   "id": "4956ed04",
   "metadata": {},
   "outputs": [],
   "source": [
    "basic = CsvBatch(RandomModel(),\n",
    "                 [STAR, Plurality, PluralityTop2,\n",
    "                  Approval, ApprovalTop2, Irv, Minimax],\n",
    "                 nvot=51, ncand=6, niter=1000,\n",
    "                 pickiness = 0.7, pollingError = 0.4)\n",
    "basic.saveFile(\"9random\")"
   ]
  },
  {
   "cell_type": "code",
   "execution_count": null,
   "id": "cea6e582",
   "metadata": {},
   "outputs": [],
   "source": [
    "\n",
    "basic = CsvBatch(DimModel(2),\n",
    "                 [STAR, Plurality, PluralityTop2,\n",
    "                  Approval, ApprovalTop2, Irv, Minimax],\n",
    "                 nvot=51, ncand=6, niter=1000,\n",
    "                 pickiness = 0.7, pollingError = 0.4)\n",
    "basic.saveFile(\"2d\")\n",
    "basic = CsvBatch(DimModel(3),\n",
    "                 [STAR, Plurality, PluralityTop2,\n",
    "                  Approval, ApprovalTop2, Irv, Minimax],\n",
    "                 nvot=51, ncand=6, niter=1000,\n",
    "                 pickiness = 0.7, pollingError = 0.4)\n",
    "basic.saveFile(\"3d\")"
   ]
  },
  {
   "cell_type": "code",
   "execution_count": null,
   "id": "a42fbe2d",
   "metadata": {},
   "outputs": [],
   "source": [
    "\n",
    "basic = CsvBatch(KSModel(),\n",
    "                 [STAR, Plurality, PluralityTop2,\n",
    "                  Approval, ApprovalTop2, Irv, Minimax],\n",
    "                 nvot=51, ncand=3, niter=1000,\n",
    "                 pickiness = 0.7, pollingError = 0.4)\n",
    "basic.saveFile(\"3cand\")\n",
    "basic = CsvBatch(KSModel(),\n",
    "                 [STAR, Plurality, PluralityTop2,\n",
    "                  Approval, ApprovalTop2, Irv, Minimax],\n",
    "                 nvot=51, ncand=8, niter=1000,\n",
    "                 pickiness = 0.7, pollingError = 0.4)\n",
    "basic.saveFile(\"8cand\")\n",
    "basic = CsvBatch(KSModel(),\n",
    "                 [STAR, Plurality, PluralityTop2,\n",
    "                  Approval, ApprovalTop2, Irv, Minimax],\n",
    "                 nvot=51, ncand=6, niter=1000,\n",
    "                 pickiness = 0.0, pollingError = 0.4)\n",
    "basic.saveFile(\"0picky\")\n",
    "basic = CsvBatch(KSModel(),\n",
    "                 [STAR, Plurality, PluralityTop2,\n",
    "                  Approval, ApprovalTop2, Irv, Minimax],\n",
    "                 nvot=51, ncand=3, niter=1000,\n",
    "                 pickiness = 0.7, pollingError = 0.1)\n",
    "basic.saveFile(\"01MOE\")"
   ]
  },
  {
   "cell_type": "code",
   "execution_count": null,
   "id": "90cc36d9",
   "metadata": {},
   "outputs": [],
   "source": [
    "manyMethods = CsvBatch(KSModel(),\n",
    "             [Plurality, STAR, Score, Borda, PluralityTop2,\n",
    "              Approval, ApprovalTop2, Irv, Minimax, Rp, Schulze],\n",
    "             nvot=21, ncand=6, niter=500, pickiness = 0.7, pollingError = 0.4)"
   ]
  },
  {
   "cell_type": "code",
   "execution_count": null,
   "id": "ef0bee3f",
   "metadata": {},
   "outputs": [],
   "source": [
    "STARinputs = []\n",
    "STARfgs = []\n",
    "for targetFunc in [select21, select31, selectRand, select012]:\n",
    "    STARfgs.extend([(STAR.diehardBallot, targetFunc, {'intensity':i}) for i in STAR.diehardLevels]\n",
    "               + [(STAR.compBallot, targetFunc, {'intensity':i}) for i in STAR.compLevels])\n",
    "    STARfgs.append((STAR.vaBallot, targetFunc, {'info':'e'}))\n",
    "    STARfgs.append((STAR.vaBallot, targetFunc, {'info':'p'}))\n",
    "    STARfgs.append((STAR.bulletBallot, targetFunc))\n",
    "for bg in [STAR.honBallot, STAR.vaBallot, STAR.bulletBallot]:\n",
    "    STARinputs.append((STAR, bg, STARfgs, {'pollingUncertainty':0.4}))\n",
    "    \n"
   ]
  },
  {
   "cell_type": "code",
   "execution_count": null,
   "id": "5b60bc4f",
   "metadata": {},
   "outputs": [],
   "source": [
    "bulletSTAR = CsvBatch(KSModel(),\n",
    "                 STARinputs,\n",
    "                 nvot=21, ncand=6, niter=500,\n",
    "                 pickiness = 0.7, pollingError = 0.4)"
   ]
  },
  {
   "cell_type": "code",
   "execution_count": null,
   "id": "8553576e",
   "metadata": {},
   "outputs": [],
   "source": [
    "STARinputs2 = []\n",
    "STARfgs2 = []\n",
    "for scoreWeight in [0.01 + 0.02*N for N in range(20)]:\n",
    "    STARfgs2.append((STAR.vaBallot, selectRand, {'info':'e', 'scoreImportance': scoreWeight}))\n",
    "for bg in [STAR.honBallot, STAR.vaBallot]:\n",
    "    STARinputs2.append((STAR, bg, STARfgs2, {'pollingUncertainty':0.4}))"
   ]
  },
  {
   "cell_type": "code",
   "execution_count": null,
   "id": "0f0219dd",
   "metadata": {},
   "outputs": [],
   "source": [
    "starCalib = CsvBatch(KSModel(),\n",
    "                 STARinputs2,\n",
    "                 nvot=21, ncand=6, niter=50,\n",
    "                 pickiness = 0.7, pollingError = 0.4)"
   ]
  },
  {
   "cell_type": "code",
   "execution_count": null,
   "id": "a31bd2a8",
   "metadata": {},
   "outputs": [],
   "source": [
    "starCalib.rows[5]"
   ]
  },
  {
   "cell_type": "code",
   "execution_count": null,
   "id": "8cb59dda",
   "metadata": {},
   "outputs": [],
   "source": [
    "deciderStrat = CsvBatch(KSModel(),\n",
    "                 [STAR, Plurality, PluralityTop2,\n",
    "                  Approval, ApprovalTop2, Irv, Minimax],\n",
    "                 nvot=51, ncand=6, niter=1000,\n",
    "                 pickiness = 0.7, pollingError = 0.4)\n",
    "deciderStrat.saveFile(\"dstrat\")"
   ]
  },
  {
   "cell_type": "code",
   "execution_count": null,
   "id": "037af90a",
   "metadata": {},
   "outputs": [],
   "source": [
    "deciderStrat.rows[15]"
   ]
  },
  {
   "cell_type": "code",
   "execution_count": null,
   "id": "a1fd8da9",
   "metadata": {
    "scrolled": true
   },
   "outputs": [],
   "source": [
    "ms = [STAR, Score, Approval, ApprovalTop2]\n",
    "bulletResults = CsvBatch(KSModel(),\n",
    "                         [(method, hybridStrat, [],\n",
    "                           {'stratTuples': ((method.bulletBallot, i/10), (method.honBallot, 1-i/10))})\n",
    "                          for method in ms for i in range(11)] +\n",
    "                         [(method, hybridStrat, [],\n",
    "                           {'stratTuples': ((method.bulletBallot, i/10), (method.vaBallot, 1-i/10)),\n",
    "                            'pollingUncertainty':0.4}) for method in ms for i in range(11)],\n",
    "                 nvot=51, ncand=6, niter=1000,\n",
    "                 pickiness = 0.7, pollingError = 0.2)"
   ]
  },
  {
   "cell_type": "code",
   "execution_count": null,
   "id": "5dffce7c",
   "metadata": {},
   "outputs": [],
   "source": [
    "bulletResults.rows[133]"
   ]
  },
  {
   "cell_type": "code",
   "execution_count": 5,
   "id": "e2019d1a",
   "metadata": {},
   "outputs": [],
   "source": [
    "pollingError = CsvBatch(KSModel(),\n",
    "                 [STAR, Plurality, PluralityTop2,\n",
    "                  Approval, ApprovalTop2, Irv, Minimax, Borda],\n",
    "                 nvot=51, ncand=6, niter=1000,\n",
    "                 pickiness = 0.7, pollingError = 0.2)\n",
    "pollingError.saveFile(\"pollingerror\")"
   ]
  },
  {
   "cell_type": "code",
   "execution_count": 6,
   "id": "877b0632",
   "metadata": {},
   "outputs": [
    {
     "data": {
      "text/plain": [
       "{'method': 'Plurality',\n",
       " 'backgroundStrat': 'honBallot',\n",
       " 'fgStrat': 'vaBallot',\n",
       " 'numVoters': 51,\n",
       " 'numCandidates': 6,\n",
       " 'magicBestUtil': -0.6825346041043915,\n",
       " 'magicWorstUtil': -0.8258085858017858,\n",
       " 'meanCandidateUtil': -0.7621885597260468,\n",
       " 'r0ExpectedUtil': -0.7868843306562555,\n",
       " 'r0WinnerUtil': -0.7793623956982847,\n",
       " 'r1WinnerUtil': -0.7793623956982847,\n",
       " 'probOfWin': 0.5722102942186574,\n",
       " 'r1WinProb': 0.5722102942186574,\n",
       " 'winnerPlaceInR0': 1,\n",
       " 'winnerPlaceInR1': 1,\n",
       " 'results': [0.0392156862745098,\n",
       "  0.35294117647058826,\n",
       "  0.11764705882352941,\n",
       "  0.13725490196078433,\n",
       "  0.09803921568627451,\n",
       "  0.2549019607843137],\n",
       " 'bgArgs': {},\n",
       " 'fgArgs': {'info': 'p'},\n",
       " 'totalUtil': -0.7793623956982847,\n",
       " 'deciderUtilDiffs': None,\n",
       " 'fgTargets': 'selectRand',\n",
       " 'totalStratUtilDiff': 0,\n",
       " 'margStrategicRegret': 0,\n",
       " 'avgStrategicRegret': 0,\n",
       " 'firstDeciderUtilDiff': 0,\n",
       " 'deciderUtilDiffSum': 0,\n",
       " 'deciderMargUtilDiffs': [],\n",
       " 'numWinnersFound': 1,\n",
       " 'fgUtil': -0.5536252548628782,\n",
       " 'fgUtilDiff': 0.0,\n",
       " 'fgSize': 29,\n",
       " 'fgNumHelped': 0,\n",
       " 'fgHelpedUtil': 0,\n",
       " 'fgHelpedUtilDiff': 0,\n",
       " 'fgNumHarmed': 0,\n",
       " 'fgHarmedUtil': 0,\n",
       " 'fgHarmedUtilDiff': 0,\n",
       " 'minfgUtil': None,\n",
       " 'minfgUtilDiff': None,\n",
       " 'minfgSize': None,\n",
       " 'minfgNumHelped': None,\n",
       " 'minfgHelpedUtil': None,\n",
       " 'minfgHelpedUtilDiff': None,\n",
       " 'minfgNumHarmed': None,\n",
       " 'minfgHarmedUtil': None,\n",
       " 'minfgHarmedUtilDiff': None,\n",
       " 't1fgUtil': None,\n",
       " 't1fgUtilDiff': None,\n",
       " 't1fgSize': None,\n",
       " 't1fgNumHelped': None,\n",
       " 't1fgHelpedUtil': None,\n",
       " 't1fgHelpedUtilDiff': None,\n",
       " 't1fgNumHarmed': None,\n",
       " 't1fgHarmedUtil': None,\n",
       " 't1fgHarmedUtilDiff': None,\n",
       " 'ofgUtil': None,\n",
       " 'ofgUtilDiff': None,\n",
       " 'ofgSize': None,\n",
       " 'ofgNumHelped': None,\n",
       " 'ofgHelpedUtil': None,\n",
       " 'ofgHelpedUtilDiff': None,\n",
       " 'ofgNumHarmed': None,\n",
       " 'ofgHarmedUtil': None,\n",
       " 'ofgHarmedUtilDiff': None,\n",
       " 'electorate': UUID('5d71496f-a098-4274-920d-7218868f9016'),\n",
       " 'seed': 1630339240.0847561,\n",
       " 'pickiness': 0.7,\n",
       " 'pollingError': 0.2,\n",
       " 'scenarioType': 'spoiler',\n",
       " 'voterModel': 'KSModel_1_1_1_1_1_6_3'}"
      ]
     },
     "execution_count": 6,
     "metadata": {},
     "output_type": "execute_result"
    }
   ],
   "source": [
    "pollingError.rows[1000]"
   ]
  },
  {
   "cell_type": "code",
   "execution_count": null,
   "id": "b290fb6f",
   "metadata": {},
   "outputs": [],
   "source": []
  }
 ],
 "metadata": {
  "kernelspec": {
   "display_name": "Python 3",
   "language": "python",
   "name": "python3"
  },
  "language_info": {
   "codemirror_mode": {
    "name": "ipython",
    "version": 3
   },
   "file_extension": ".py",
   "mimetype": "text/x-python",
   "name": "python",
   "nbconvert_exporter": "python",
   "pygments_lexer": "ipython3",
   "version": "3.8.8"
  }
 },
 "nbformat": 4,
 "nbformat_minor": 5
}
