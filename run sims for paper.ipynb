{
 "cells": [
  {
   "cell_type": "code",
   "execution_count": 8,
   "id": "74b51e60",
   "metadata": {},
   "outputs": [],
   "source": [
    "from vse import *\n",
    "import random\n",
    "import datetime\n",
    "\n",
    "\n",
    "base_nvot = 101\n",
    "base_ncand = 6\n",
    "base_inner_niter = 200\n",
    "base_pickiness = 0.7\n",
    "base_pollingError = 0.1\n",
    "base_outer_niter = 20\n",
    "main_outer_niter = 50"
   ]
  },
  {
   "cell_type": "code",
   "execution_count": null,
   "id": "210e9520",
   "metadata": {},
   "outputs": [],
   "source": []
  },
  {
   "cell_type": "code",
   "execution_count": null,
   "id": "ad3c82ec",
   "metadata": {},
   "outputs": [],
   "source": [
    "for i in range(main_outer_niter):\n",
    "    random.seed(i)\n",
    "    basic = CsvBatch(KSModel(),\n",
    "                 [STAR, Plurality, PluralityTop2,\n",
    "                  Approval, ApprovalTop2, Irv, Minimax],\n",
    "                 nvot=base_nvot, ncand=base_ncand, niter=base_inner_niter,\n",
    "                 pickiness = base_pickiness, pollingError = base_pollingError)\n",
    "    basic.saveFile(\"output/base_scenario\")\n",
    "    print(f\"((Generated {base_inner_niter * (i+1)} {datetime.datetime.now()}))\")"
   ]
  },
  {
   "cell_type": "code",
   "execution_count": null,
   "id": "9fe17e43",
   "metadata": {},
   "outputs": [],
   "source": []
  },
  {
   "cell_type": "code",
   "execution_count": null,
   "id": "ab579039",
   "metadata": {
    "scrolled": true
   },
   "outputs": [],
   "source": [
    "for i in range(base_outer_niter):\n",
    "    random.seed(i)\n",
    "    basic = CsvBatch(RandomModel(),\n",
    "                 [STAR, Plurality, PluralityTop2,\n",
    "                  Approval, ApprovalTop2, Irv, Minimax],\n",
    "                 nvot=base_nvot, ncand=base_ncand, niter=base_inner_niter,\n",
    "                 pickiness = base_pickiness, pollingError = base_pollingError)\n",
    "    basic.saveFile(\"output/impartial_culture\")\n",
    "    print(f\"((Generated {base_inner_niter * (i+1)} {datetime.datetime.now()}))\")\n",
    "    del basic"
   ]
  },
  {
   "cell_type": "code",
   "execution_count": null,
   "id": "6e1f5bd5",
   "metadata": {},
   "outputs": [],
   "source": [
    "for i in range(base_outer_niter):\n",
    "    random.seed(i)\n",
    "    basic = CsvBatch(DimModel(ndims = 2, dimWeights=[1,1]),\n",
    "                 [STAR, Plurality, PluralityTop2,\n",
    "                  Approval, ApprovalTop2, Irv, Minimax],\n",
    "                 nvot=base_nvot, ncand=base_ncand, niter=base_inner_niter,\n",
    "                 pickiness = base_pickiness, pollingError = base_pollingError)\n",
    "    basic.saveFile(\"output/2d_model\")\n",
    "    print(f\"((Generated {base_inner_niter * (i+1)} {datetime.datetime.now()}))\")\n",
    "    del basic"
   ]
  },
  {
   "cell_type": "code",
   "execution_count": null,
   "id": "c4c0fe26",
   "metadata": {},
   "outputs": [],
   "source": [
    "for i in range(base_outer_niter):\n",
    "    random.seed(i)\n",
    "    basic = CsvBatch(DimModel(ndims = 3, dimWeights=[1,1,1]),\n",
    "                 [STAR, Plurality, PluralityTop2,\n",
    "                  Approval, ApprovalTop2, Irv, Minimax],\n",
    "                 nvot=base_nvot, ncand=base_ncand, niter=base_inner_niter,\n",
    "                 pickiness = base_pickiness, pollingError = base_pollingError)\n",
    "    basic.saveFile(\"output/3d_model\")\n",
    "    print(f\"((Generated {base_inner_niter * (i+1)} {datetime.datetime.now()}))\")\n",
    "    del basic"
   ]
  },
  {
   "cell_type": "code",
   "execution_count": null,
   "id": "75d9e9b4",
   "metadata": {},
   "outputs": [],
   "source": [
    "for i in range(base_outer_niter):\n",
    "    random.seed(i)\n",
    "    basic = CsvBatch(KSModel(),\n",
    "                 [STAR, Plurality, PluralityTop2,\n",
    "                  Approval, ApprovalTop2, Irv, Minimax],\n",
    "                 nvot=base_nvot, ncand=3, niter=base_inner_niter,\n",
    "                 pickiness = base_pickiness, pollingError = base_pollingError)\n",
    "    basic.saveFile(\"output/3cand\")\n",
    "    print(f\"((Generated {base_inner_niter * (i+1)} {datetime.datetime.now()}))\")\n",
    "    del basic"
   ]
  },
  {
   "cell_type": "code",
   "execution_count": null,
   "id": "a61bbadd",
   "metadata": {},
   "outputs": [],
   "source": [
    "for i in range(base_outer_niter):\n",
    "    random.seed(i)\n",
    "    basic = CsvBatch(KSModel(),\n",
    "                 [STAR, Plurality, PluralityTop2,\n",
    "                  Approval, ApprovalTop2, Irv, Minimax],\n",
    "                 nvot=base_nvot, ncand=9, niter=base_inner_niter,\n",
    "                 pickiness = base_pickiness, pollingError = base_pollingError)\n",
    "    basic.saveFile(\"output/9cand\")\n",
    "    print(f\"((Generated {base_inner_niter * (i+1)} {datetime.datetime.now()}))\")\n",
    "    del basic"
   ]
  },
  {
   "cell_type": "code",
   "execution_count": null,
   "id": "abcf0f64",
   "metadata": {},
   "outputs": [],
   "source": [
    "for i in range(base_outer_niter):\n",
    "    random.seed(i)\n",
    "    basic = CsvBatch(KSModel(),\n",
    "                 [STAR, Plurality, PluralityTop2,\n",
    "                  Approval, ApprovalTop2, Irv, Minimax],\n",
    "                 nvot=base_nvot, ncand=12, niter=base_inner_niter,\n",
    "                 pickiness = base_pickiness, pollingError = base_pollingError)\n",
    "    basic.saveFile(\"output/12cand\")\n",
    "    print(f\"((Generated {base_inner_niter * (i+1)} {datetime.datetime.now()}))\")\n",
    "    del basic"
   ]
  },
  {
   "cell_type": "code",
   "execution_count": 2,
   "id": "65a8c815",
   "metadata": {},
   "outputs": [
    {
     "name": "stdout",
     "output_type": "stream",
     "text": [
      "Iteration: 50\n",
      "Iteration: 150\n",
      "Iteration: 100\n",
      "((Generated 200 2022-12-20 21:16:46.999315))\n",
      "Iteration: 100\n",
      "Iteration: 50\n",
      "Iteration: 150\n",
      "((Generated 400 2022-12-20 21:18:11.665096))\n",
      "Iteration: 50\n",
      "((Generated 600 2022-12-20 21:19:32.762593))\n",
      "Iteration: 100\n",
      "Iteration: 150\n",
      "Iteration: 50\n",
      "((Generated 800 2022-12-20 21:20:56.687507))\n",
      "Iteration: 100\n",
      "((Generated 1000 2022-12-20 21:22:27.779802))\n",
      "Iteration: 100\n",
      "Iteration: 50\n",
      "Iteration: 150\n",
      "((Generated 1200 2022-12-20 21:23:53.600560))\n",
      "Iteration: 50\n",
      "Iteration: 150\n",
      "Iteration: 100\n",
      "((Generated 1400 2022-12-20 21:25:16.411952))\n",
      "Iteration: 150\n",
      "Iteration: 100\n",
      "Iteration: 50\n",
      "((Generated 1600 2022-12-20 21:26:38.183564))\n",
      "Iteration: 150\n",
      "Iteration: 100\n",
      "Iteration: 50\n",
      "((Generated 1800 2022-12-20 21:27:58.673004))\n",
      "Iteration: 50\n",
      "Iteration: 100\n",
      "Iteration: 150\n",
      "((Generated 2000 2022-12-20 21:29:17.491845))\n",
      "Iteration: 50\n",
      "((Generated 2200 2022-12-20 21:30:38.699351))\n",
      "Iteration: 100\n",
      "Iteration: 150\n",
      "Iteration: 50\n",
      "((Generated 2400 2022-12-20 21:31:59.594445))\n",
      "Iteration: 50\n",
      "Iteration: 100\n",
      "Iteration: 150\n",
      "((Generated 2600 2022-12-20 21:33:20.504796))\n",
      "Iteration: 100\n",
      "Iteration: 150\n",
      "((Generated 2800 2022-12-20 21:34:39.180752))\n",
      "Iteration: 50\n",
      "Iteration: 100\n",
      "Iteration: 150\n",
      "((Generated 3000 2022-12-20 21:36:01.802639))\n",
      "Iteration: 100\n",
      "Iteration: 50\n",
      "Iteration: 150\n",
      "((Generated 3200 2022-12-20 21:37:21.801832))\n",
      "Iteration: 50\n",
      "Iteration: 100\n",
      "Iteration: 150\n",
      "((Generated 3400 2022-12-20 21:38:41.968259))\n",
      "Iteration: 50\n",
      "Iteration: 150\n",
      "Iteration: 100\n",
      "((Generated 3600 2022-12-20 21:40:02.480055))\n",
      "Iteration: 100\n",
      "Iteration: 150\n",
      "Iteration: 50\n",
      "((Generated 3800 2022-12-20 21:41:22.720532))\n",
      "Iteration: 150\n",
      "Iteration: 50\n",
      "Iteration: 100\n",
      "((Generated 4000 2022-12-20 21:42:42.839839))\n"
     ]
    }
   ],
   "source": [
    "for i in range(base_outer_niter):\n",
    "    random.seed(i)\n",
    "    basic = CsvBatch(KSModel(),\n",
    "                 [STAR, Plurality, PluralityTop2,\n",
    "                  Approval, ApprovalTop2, Irv, Minimax],\n",
    "                 nvot=base_nvot, ncand=base_ncand, niter=base_inner_niter,\n",
    "                 pickiness = .99, pollingError = base_pollingError)\n",
    "    basic.saveFile(\"output/plurality_picky\")\n",
    "    print(f\"((Generated {base_inner_niter * (i+1)} {datetime.datetime.now()}))\")\n",
    "    del basic"
   ]
  },
  {
   "cell_type": "code",
   "execution_count": 3,
   "id": "b3e3b750",
   "metadata": {},
   "outputs": [
    {
     "name": "stdout",
     "output_type": "stream",
     "text": [
      "Iteration: 100\n",
      "Iteration: 150\n",
      "Iteration: 50\n",
      "((Generated 200))\n",
      "Iteration: 100\n",
      "Iteration: 50\n",
      "Iteration: 150\n",
      "((Generated 400))\n"
     ]
    },
    {
     "name": "stderr",
     "output_type": "stream",
     "text": [
      "/Users/chema/github/vse-sim/dataClasses.py:421: RuntimeWarning: invalid value encountered in true_divide\n",
      "  probs = probs / np.sum(probs)\n",
      "/Users/chema/github/vse-sim/dataClasses.py:421: RuntimeWarning: invalid value encountered in true_divide\n",
      "  probs = probs / np.sum(probs)\n"
     ]
    },
    {
     "name": "stdout",
     "output_type": "stream",
     "text": [
      "Iteration: 150\n",
      "Iteration: 100\n",
      "Iteration: 50\n",
      "((Generated 600))\n"
     ]
    },
    {
     "name": "stderr",
     "output_type": "stream",
     "text": [
      "/Users/chema/github/vse-sim/dataClasses.py:421: RuntimeWarning: invalid value encountered in true_divide\n",
      "  probs = probs / np.sum(probs)\n"
     ]
    },
    {
     "name": "stdout",
     "output_type": "stream",
     "text": [
      "Iteration: 150\n",
      "Iteration: 50\n",
      "Iteration: 100\n",
      "((Generated 800))\n",
      "Iteration: 100\n",
      "Iteration: 50\n",
      "Iteration: 150\n",
      "((Generated 1000))\n",
      "Iteration: 150\n",
      "Iteration: 100\n",
      "Iteration: 50\n",
      "((Generated 1200))\n",
      "Iteration: 50\n",
      "Iteration: 150\n",
      "Iteration: 100\n",
      "((Generated 1400))\n",
      "Iteration: 150\n",
      "Iteration: 100\n",
      "Iteration: 50\n",
      "((Generated 1600))\n",
      "Iteration: 100\n",
      "Iteration: 150\n",
      "Iteration: 50\n",
      "((Generated 1800))\n",
      "Iteration: 50\n",
      "Iteration: 150\n",
      "Iteration: 100\n",
      "((Generated 2000))\n",
      "Iteration: 50\n",
      "Iteration: 100\n",
      "Iteration: 150\n",
      "((Generated 2200))\n"
     ]
    },
    {
     "name": "stderr",
     "output_type": "stream",
     "text": [
      "/Users/chema/github/vse-sim/dataClasses.py:421: RuntimeWarning: invalid value encountered in true_divide\n",
      "  probs = probs / np.sum(probs)\n"
     ]
    },
    {
     "name": "stdout",
     "output_type": "stream",
     "text": [
      "Iteration: 100\n",
      "Iteration: 50\n",
      "Iteration: 150\n",
      "((Generated 2400))\n"
     ]
    },
    {
     "name": "stderr",
     "output_type": "stream",
     "text": [
      "/Users/chema/github/vse-sim/dataClasses.py:421: RuntimeWarning: invalid value encountered in true_divide\n",
      "  probs = probs / np.sum(probs)\n"
     ]
    },
    {
     "name": "stdout",
     "output_type": "stream",
     "text": [
      "Iteration: 50\n",
      "Iteration: 150\n",
      "Iteration: 100\n",
      "((Generated 2600))\n"
     ]
    },
    {
     "name": "stderr",
     "output_type": "stream",
     "text": [
      "/Users/chema/github/vse-sim/dataClasses.py:421: RuntimeWarning: invalid value encountered in true_divide\n",
      "  probs = probs / np.sum(probs)\n",
      "/Users/chema/github/vse-sim/dataClasses.py:421: RuntimeWarning: invalid value encountered in true_divide\n",
      "  probs = probs / np.sum(probs)\n"
     ]
    },
    {
     "name": "stdout",
     "output_type": "stream",
     "text": [
      "Iteration: 150\n",
      "Iteration: 50\n",
      "Iteration: 100\n",
      "((Generated 2800))\n",
      "Iteration: 100\n",
      "Iteration: 50\n",
      "Iteration: 150\n",
      "((Generated 3000))\n",
      "Iteration: 100\n",
      "Iteration: 150\n",
      "Iteration: 50\n",
      "((Generated 3200))\n",
      "Iteration: 50\n",
      "Iteration: 150\n",
      "Iteration: 100\n",
      "((Generated 3400))\n"
     ]
    },
    {
     "name": "stderr",
     "output_type": "stream",
     "text": [
      "/Users/chema/github/vse-sim/dataClasses.py:421: RuntimeWarning: invalid value encountered in true_divide\n",
      "  probs = probs / np.sum(probs)\n",
      "/Users/chema/github/vse-sim/dataClasses.py:421: RuntimeWarning: invalid value encountered in true_divide\n",
      "  probs = probs / np.sum(probs)\n"
     ]
    },
    {
     "name": "stdout",
     "output_type": "stream",
     "text": [
      "Iteration: 150\n",
      "Iteration: 100\n",
      "Iteration: 50\n",
      "((Generated 3600))\n",
      "Iteration: 50\n",
      "Iteration: 150\n",
      "Iteration: 100\n",
      "((Generated 3800))\n",
      "Iteration: 100\n",
      "Iteration: 150\n",
      "Iteration: 50\n",
      "((Generated 4000))\n"
     ]
    }
   ],
   "source": [
    "for i in range(base_outer_niter):\n",
    "    random.seed(i)\n",
    "    basic = CsvBatch(KSModel(),\n",
    "                 [STAR, Plurality, PluralityTop2,\n",
    "                  Approval, ApprovalTop2, Irv, Minimax],\n",
    "                 nvot=base_nvot, ncand=base_ncand, niter=base_inner_niter,\n",
    "                 pickiness = base_pickiness, pollingError = 0.0)\n",
    "    basic.saveFile(\"output/no_noise\")\n",
    "    print(f\"((Generated {base_inner_niter * (i+1)}))\")\n",
    "    del basic"
   ]
  },
  {
   "cell_type": "code",
   "execution_count": 4,
   "id": "97270ba8",
   "metadata": {},
   "outputs": [
    {
     "name": "stdout",
     "output_type": "stream",
     "text": [
      "Iteration: 50\n",
      "Iteration: 100\n",
      "Iteration: 150\n",
      "((Generated 4200))\n",
      "Iteration: 50\n",
      "Iteration: 150\n",
      "Iteration: 100\n",
      "((Generated 4400))\n",
      "Iteration: 50\n",
      "Iteration: 100\n",
      "Iteration: 150\n",
      "((Generated 4600))\n",
      "Iteration: 50\n",
      "Iteration: 150\n",
      "Iteration: 100\n",
      "((Generated 4800))\n",
      "Iteration: 100\n",
      "Iteration: 50\n",
      "Iteration: 150\n",
      "((Generated 5000))\n",
      "Iteration: 150\n",
      "Iteration: 50\n",
      "Iteration: 100\n",
      "((Generated 5200))\n",
      "((Generated 5400))\n",
      "Iteration: 100\n",
      "Iteration: 150\n",
      "Iteration: 50\n",
      "((Generated 5600))\n",
      "Iteration: 100\n",
      "Iteration: 150\n",
      "Iteration: 50\n",
      "((Generated 5800))\n",
      "Iteration: 50\n",
      "Iteration: 150\n",
      "Iteration: 100\n",
      "((Generated 6000))\n",
      "Iteration: 100\n",
      "Iteration: 50\n",
      "Iteration: 150\n",
      "((Generated 6200))\n",
      "Iteration: 150\n",
      "Iteration: 50\n",
      "Iteration: 100\n",
      "((Generated 6400))\n",
      "Iteration: 100\n",
      "Iteration: 150\n",
      "Iteration: 50\n",
      "((Generated 6600))\n",
      "Iteration: 50\n",
      "Iteration: 100\n",
      "Iteration: 150\n",
      "((Generated 6800))\n",
      "Iteration: 150\n",
      "Iteration: 50\n",
      "Iteration: 100\n",
      "((Generated 7000))\n",
      "Iteration: 100\n",
      "Iteration: 50\n",
      "Iteration: 150\n",
      "((Generated 7200))\n",
      "Iteration: 50\n",
      "Iteration: 150\n",
      "Iteration: 100\n",
      "((Generated 7400))\n",
      "Iteration: 100\n",
      "Iteration: 50\n",
      "Iteration: 150\n",
      "((Generated 7600))\n",
      "Iteration: 50\n",
      "Iteration: 100\n",
      "Iteration: 150\n",
      "((Generated 7800))\n",
      "Iteration: 50\n",
      "Iteration: 100\n",
      "Iteration: 150\n",
      "((Generated 8000))\n",
      "Iteration: 100\n",
      "Iteration: 150\n",
      "Iteration: 50\n",
      "((Generated 8200))\n",
      "Iteration: 50\n",
      "Iteration: 100\n",
      "Iteration: 150\n",
      "((Generated 8400))\n",
      "Iteration: 50\n",
      "Iteration: 100\n",
      "Iteration: 150\n",
      "((Generated 8600))\n",
      "Iteration: 100\n",
      "Iteration: 50\n",
      "Iteration: 150\n",
      "((Generated 8800))\n",
      "Iteration: 50\n",
      "Iteration: 100\n",
      "Iteration: 150\n",
      "((Generated 9000))\n",
      "Iteration: 150\n",
      "Iteration: 100\n",
      "Iteration: 50\n",
      "((Generated 9200))\n",
      "Iteration: 150\n",
      "Iteration: 100\n",
      "Iteration: 50\n",
      "((Generated 9400))\n",
      "Iteration: 100\n",
      "Iteration: 150\n",
      "Iteration: 50\n",
      "((Generated 9600))\n",
      "Iteration: 100\n",
      "Iteration: 50\n",
      "Iteration: 150\n",
      "((Generated 9800))\n",
      "Iteration: 50\n",
      "Iteration: 100\n",
      "Iteration: 150\n",
      "((Generated 10000))\n",
      "CPU times: user 7.35 s, sys: 2.49 s, total: 9.84 s\n",
      "Wall time: 1h 21min 53s\n"
     ]
    }
   ],
   "source": [
    "%%time\n",
    "for i in range(base_outer_niter,main_outer_niter):\n",
    "    random.seed(i)\n",
    "    noStrats = CsvBatch(KSModel(),\n",
    "                 [(STAR, STAR.honBallot, [], {}), (STAR, STAR.vaBallot, [], {'pollingUncertainty':0.4}),\n",
    "                  (Plurality, Plurality.honBallot, [], {}), (Plurality, Plurality.vaBallot, [], {'pollingUncertainty':0.4}),\n",
    "                  (PluralityTop2, PluralityTop2.honBallot, [], {}), (PluralityTop2, PluralityTop2.vaBallot, [], {'pollingUncertainty':0.4}),\n",
    "                  (Approval, Approval.honBallot, [], {}), (Approval, Approval.vaBallot, [], {'pollingUncertainty':0.4}),\n",
    "                  (ApprovalTop2, ApprovalTop2.honBallot, [], {}), (ApprovalTop2, ApprovalTop2.vaBallot, [], {'pollingUncertainty':0.4}),\n",
    "                  (Irv, Irv.honBallot, [], {}), (Irv, Irv.vaBallot, [], {'pollingUncertainty':0.4}),\n",
    "                  (Minimax, Minimax.honBallot, [], {}), (Minimax, Minimax.vaBallot, [], {'pollingUncertainty':0.4})],\n",
    "                 nvot=5001, ncand=base_ncand, niter=base_inner_niter,\n",
    "                 pickiness = base_pickiness, pollingError = base_pollingError)\n",
    "    noStrats.saveFile(\"output/nostrats\")\n",
    "    print(f\"((Generated {base_inner_niter * (i+1)}))\")\n",
    "del noStrats"
   ]
  },
  {
   "cell_type": "code",
   "execution_count": 5,
   "id": "8ace3b38",
   "metadata": {},
   "outputs": [
    {
     "data": {
      "text/plain": [
       "0"
      ]
     },
     "execution_count": 5,
     "metadata": {},
     "output_type": "execute_result"
    }
   ],
   "source": [
    "import gc\n",
    "gc.collect()\n"
   ]
  },
  {
   "cell_type": "code",
   "execution_count": 16,
   "id": "0959656d",
   "metadata": {},
   "outputs": [
    {
     "data": {
      "text/plain": [
       "[0.29291748003978524, 0.29291748003978524, 0.4141650399204296]"
      ]
     },
     "execution_count": 16,
     "metadata": {},
     "output_type": "execute_result"
    }
   ],
   "source": [
    "def tieFor2EstimateO(probs):\n",
    "    \"\"\"Estimates the probability of each candidate being in a tie for second place,\n",
    "    normalized such that they sum to 1.\n",
    "    >>> tieFor2Estimate((.49,.49,.02))\n",
    "    [0.29762918476626044, 0.29762918476626044, 0.404741630467479]\n",
    "    >>> tieFor2Estimate((.4999999999,.4999999999,.0000000002))\n",
    "    [0.2928932188619805, 0.2928932188619805, 0.41421356227603895]\n",
    "    >>> tieFor2Estimate((.99,.005,.005))\n",
    "    [0.4129948110638391, 0.2935025944680804, 0.2935025944680804]\n",
    "    \"\"\"\n",
    "    EXP = 2\n",
    "    np_probs = np.array(probs)\n",
    "    np.seterr(divide = 'ignore')\n",
    "    logprobs = np.log(np_probs)\n",
    "    logconv = np.log(1 - np_probs)\n",
    "    np.seterr(divide = 'warn')\n",
    "    logprobs[logprobs == -np.inf] = -1e9\n",
    "    logconv[logconv == -np.inf] = -1e9\n",
    "    unnormalized_log = np.array([logprobs[i] + logconv[i]\n",
    "            + (logsumexp(np.array([\n",
    "                    [(logprobs[j] + logprobs[k])*EXP for k, z in enumerate(probs) if i != k != j]\n",
    "                for j, y in enumerate(probs) if i != j]))\n",
    "            - logsumexp(np.array([logprobs[j]*EXP for j, y in enumerate(probs) if i != j])))/EXP\n",
    "        for i, x in enumerate(probs)])\n",
    "    unnormalized = np.exp(unnormalized_log - np.max(unnormalized_log))\n",
    "    normFactor = sum(unnormalized)\n",
    "    return [float(u/normFactor) for u in unnormalized]\n",
    "\n",
    "def tieFor2EstimateQ(probs):\n",
    "    \"\"\"Estimates the probability of each candidate being in a tie for second place,\n",
    "    normalized such that they sum to 1.\n",
    "    >>> tieFor2Estimate((.49,.49,.02))\n",
    "    [0.29762918476626044, 0.29762918476626044, 0.404741630467479]\n",
    "    >>> tieFor2Estimate((.4999999999,.4999999999,.0000000002))\n",
    "    [0.2928932188619805, 0.2928932188619805, 0.41421356227603895]\n",
    "    >>> tieFor2Estimate((.99,.005,.005))\n",
    "    [0.4129948110638391, 0.2935025944680804, 0.2935025944680804]\n",
    "    \"\"\"\n",
    "    EXP = 2\n",
    "    np_probs = np.array(probs)\n",
    "    np.seterr(divide = 'ignore')\n",
    "    logprobs = np.log(np_probs)\n",
    "    logconv = np.log(1 - np_probs)\n",
    "    np.seterr(divide = 'warn')\n",
    "    logprobs[logprobs == -np.inf] = -1e9\n",
    "    logconv[logconv == -np.inf] = -1e9\n",
    "    unnormalized_log = np.array([logprobs[i] + logconv[i]\n",
    "            + (logsumexp(np.array([\n",
    "                    [(logprobs[j] + logprobs[k] - logsumexp(np.delete(logprobs,i)))*EXP \n",
    "                        for k, z in enumerate(probs) if i != k != j]\n",
    "                for j, y in enumerate(probs) if i != j]))\n",
    "            )/EXP\n",
    "        for i, x in enumerate(probs)])\n",
    "    unnormalized = np.exp(unnormalized_log - np.max(unnormalized_log))\n",
    "    normFactor = sum(unnormalized)\n",
    "    return [float(u/normFactor) for u in unnormalized]\n",
    "\n",
    "tieFor2EstimateO([.4999,.4999,.000000000000000002] )"
   ]
  },
  {
   "cell_type": "code",
   "execution_count": null,
   "id": "d7868cc6",
   "metadata": {},
   "outputs": [],
   "source": []
  }
 ],
 "metadata": {
  "kernelspec": {
   "display_name": "Python 3 (ipykernel)",
   "language": "python",
   "name": "python3"
  },
  "language_info": {
   "codemirror_mode": {
    "name": "ipython",
    "version": 3
   },
   "file_extension": ".py",
   "mimetype": "text/x-python",
   "name": "python",
   "nbconvert_exporter": "python",
   "pygments_lexer": "ipython3",
   "version": "3.9.7"
  }
 },
 "nbformat": 4,
 "nbformat_minor": 5
}
