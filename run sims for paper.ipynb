{
 "cells": [
  {
   "cell_type": "code",
   "execution_count": 1,
   "id": "74b51e60",
   "metadata": {},
   "outputs": [],
   "source": [
    "from vse import *\n",
    "import random\n",
    "import datetime\n",
    "\n",
    "\n",
    "base_nvot = 101\n",
    "base_ncand = 6\n",
    "base_inner_niter = 200\n",
    "base_pickiness = 0.7\n",
    "base_pollingError = 0.1\n",
    "base_outer_niter = 20\n",
    "main_outer_niter = 50"
   ]
  },
  {
   "cell_type": "code",
   "execution_count": null,
   "id": "210e9520",
   "metadata": {},
   "outputs": [],
   "source": []
  },
  {
   "cell_type": "code",
   "execution_count": 3,
   "id": "ad3c82ec",
   "metadata": {},
   "outputs": [
    {
     "name": "stderr",
     "output_type": "stream",
     "text": [
      "/Users/chema/github/vse-sim/dataClasses.py:510: RuntimeWarning: divide by zero encountered in log\n",
      "  logprobs = np.log(np_probs)\n",
      "/Users/chema/github/vse-sim/dataClasses.py:517: RuntimeWarning: invalid value encountered in subtract\n",
      "  unnormalized = np.exp(unnormalized_log - np.max(unnormalized_log))\n",
      "/Users/chema/github/vse-sim/dataClasses.py:510: RuntimeWarning: divide by zero encountered in log\n",
      "  logprobs = np.log(np_probs)\n",
      "/Users/chema/github/vse-sim/dataClasses.py:510: RuntimeWarning: divide by zero encountered in log\n",
      "  logprobs = np.log(np_probs)\n",
      "/Users/chema/github/vse-sim/dataClasses.py:510: RuntimeWarning: divide by zero encountered in log\n",
      "  logprobs = np.log(np_probs)\n",
      "/Users/chema/github/vse-sim/dataClasses.py:510: RuntimeWarning: divide by zero encountered in log\n",
      "  logprobs = np.log(np_probs)\n",
      "/Users/chema/github/vse-sim/dataClasses.py:510: RuntimeWarning: divide by zero encountered in log\n",
      "  logprobs = np.log(np_probs)\n",
      "/Users/chema/github/vse-sim/dataClasses.py:510: RuntimeWarning: divide by zero encountered in log\n",
      "  logprobs = np.log(np_probs)\n",
      "/Users/chema/github/vse-sim/dataClasses.py:511: RuntimeWarning: divide by zero encountered in log\n",
      "  unnormalized_log = np.array([logprobs[i] + np.log((1-x))\n",
      "/Users/chema/github/vse-sim/dataClasses.py:512: RuntimeWarning: invalid value encountered in double_scalars\n",
      "  + (logsumexp(np.array([\n",
      "/Users/chema/github/vse-sim/dataClasses.py:517: RuntimeWarning: invalid value encountered in subtract\n",
      "  unnormalized = np.exp(unnormalized_log - np.max(unnormalized_log))\n",
      "/Users/chema/github/vse-sim/dataClasses.py:511: RuntimeWarning: divide by zero encountered in log\n",
      "  unnormalized_log = np.array([logprobs[i] + np.log((1-x))\n",
      "/Users/chema/github/vse-sim/dataClasses.py:512: RuntimeWarning: invalid value encountered in double_scalars\n",
      "  + (logsumexp(np.array([\n",
      "/Users/chema/github/vse-sim/dataClasses.py:517: RuntimeWarning: invalid value encountered in subtract\n",
      "  unnormalized = np.exp(unnormalized_log - np.max(unnormalized_log))\n",
      "/Users/chema/github/vse-sim/dataClasses.py:517: RuntimeWarning: invalid value encountered in subtract\n",
      "  unnormalized = np.exp(unnormalized_log - np.max(unnormalized_log))\n",
      "/Users/chema/github/vse-sim/dataClasses.py:511: RuntimeWarning: divide by zero encountered in log\n",
      "  unnormalized_log = np.array([logprobs[i] + np.log((1-x))\n",
      "/Users/chema/github/vse-sim/dataClasses.py:512: RuntimeWarning: invalid value encountered in double_scalars\n",
      "  + (logsumexp(np.array([\n",
      "Process SpawnPoolWorker-5:\n",
      "Process SpawnPoolWorker-2:\n",
      "Process SpawnPoolWorker-6:\n",
      "Process SpawnPoolWorker-7:\n",
      "Process SpawnPoolWorker-4:\n"
     ]
    },
    {
     "ename": "KeyboardInterrupt",
     "evalue": "",
     "output_type": "error",
     "traceback": [
      "\u001b[0;31m---------------------------------------------------------------------------\u001b[0m",
      "\u001b[0;31mKeyboardInterrupt\u001b[0m                         Traceback (most recent call last)",
      "Input \u001b[0;32mIn [3]\u001b[0m, in \u001b[0;36m<cell line: 1>\u001b[0;34m()\u001b[0m\n\u001b[1;32m      1\u001b[0m \u001b[38;5;28;01mfor\u001b[39;00m i \u001b[38;5;129;01min\u001b[39;00m \u001b[38;5;28mrange\u001b[39m(main_outer_niter):\n\u001b[1;32m      2\u001b[0m     random\u001b[38;5;241m.\u001b[39mseed(i)\n\u001b[0;32m----> 3\u001b[0m     basic \u001b[38;5;241m=\u001b[39m \u001b[43mCsvBatch\u001b[49m\u001b[43m(\u001b[49m\u001b[43mKSModel\u001b[49m\u001b[43m(\u001b[49m\u001b[43m)\u001b[49m\u001b[43m,\u001b[49m\n\u001b[1;32m      4\u001b[0m \u001b[43m                 \u001b[49m\u001b[43m[\u001b[49m\u001b[43mSTAR\u001b[49m\u001b[43m,\u001b[49m\u001b[43m \u001b[49m\u001b[43mPlurality\u001b[49m\u001b[43m,\u001b[49m\u001b[43m \u001b[49m\u001b[43mPluralityTop2\u001b[49m\u001b[43m,\u001b[49m\n\u001b[1;32m      5\u001b[0m \u001b[43m                  \u001b[49m\u001b[43mApproval\u001b[49m\u001b[43m,\u001b[49m\u001b[43m \u001b[49m\u001b[43mApprovalTop2\u001b[49m\u001b[43m,\u001b[49m\u001b[43m \u001b[49m\u001b[43mIrv\u001b[49m\u001b[43m,\u001b[49m\u001b[43m \u001b[49m\u001b[43mMinimax\u001b[49m\u001b[43m]\u001b[49m\u001b[43m,\u001b[49m\n\u001b[1;32m      6\u001b[0m \u001b[43m                 \u001b[49m\u001b[43mnvot\u001b[49m\u001b[38;5;241;43m=\u001b[39;49m\u001b[43mbase_nvot\u001b[49m\u001b[43m,\u001b[49m\u001b[43m \u001b[49m\u001b[43mncand\u001b[49m\u001b[38;5;241;43m=\u001b[39;49m\u001b[43mbase_ncand\u001b[49m\u001b[43m,\u001b[49m\u001b[43m \u001b[49m\u001b[43mniter\u001b[49m\u001b[38;5;241;43m=\u001b[39;49m\u001b[43mbase_inner_niter\u001b[49m\u001b[43m,\u001b[49m\n\u001b[1;32m      7\u001b[0m \u001b[43m                 \u001b[49m\u001b[43mpickiness\u001b[49m\u001b[43m \u001b[49m\u001b[38;5;241;43m=\u001b[39;49m\u001b[43m \u001b[49m\u001b[43mbase_pickiness\u001b[49m\u001b[43m,\u001b[49m\u001b[43m \u001b[49m\u001b[43mpollingError\u001b[49m\u001b[43m \u001b[49m\u001b[38;5;241;43m=\u001b[39;49m\u001b[43m \u001b[49m\u001b[43mbase_pollingError\u001b[49m\u001b[43m)\u001b[49m\n\u001b[1;32m      8\u001b[0m     basic\u001b[38;5;241m.\u001b[39msaveFile(\u001b[38;5;124m\"\u001b[39m\u001b[38;5;124moutput/base_scenario\u001b[39m\u001b[38;5;124m\"\u001b[39m)\n\u001b[1;32m      9\u001b[0m     \u001b[38;5;28mprint\u001b[39m(\u001b[38;5;124mf\u001b[39m\u001b[38;5;124m\"\u001b[39m\u001b[38;5;124m((Generated \u001b[39m\u001b[38;5;132;01m{\u001b[39;00mbase_inner_niter \u001b[38;5;241m*\u001b[39m (i\u001b[38;5;241m+\u001b[39m\u001b[38;5;241m1\u001b[39m)\u001b[38;5;132;01m}\u001b[39;00m\u001b[38;5;124m \u001b[39m\u001b[38;5;132;01m{\u001b[39;00mdatetime\u001b[38;5;241m.\u001b[39mdatetime\u001b[38;5;241m.\u001b[39mnow()\u001b[38;5;132;01m}\u001b[39;00m\u001b[38;5;124m))\u001b[39m\u001b[38;5;124m\"\u001b[39m)\n",
      "File \u001b[0;32m~/github/vse-sim/vse.py:212\u001b[0m, in \u001b[0;36mCsvBatch.__init__\u001b[0;34m(self, model, methodsAndStrats, nvot, ncand, niter, r1Media, r2Media, seed, pickiness, pollingError)\u001b[0m\n\u001b[1;32m    210\u001b[0m args \u001b[38;5;241m=\u001b[39m (model, nvot, ncand, ms, pickiness, pollingError, r1Media, r2Media)\n\u001b[1;32m    211\u001b[0m \u001b[38;5;28;01mwith\u001b[39;00m multiprocessing\u001b[38;5;241m.\u001b[39mPool(processes\u001b[38;5;241m=\u001b[39m\u001b[38;5;241m7\u001b[39m) \u001b[38;5;28;01mas\u001b[39;00m pool:\n\u001b[0;32m--> 212\u001b[0m     results \u001b[38;5;241m=\u001b[39m \u001b[43mpool\u001b[49m\u001b[38;5;241;43m.\u001b[39;49m\u001b[43mstarmap\u001b[49m\u001b[43m(\u001b[49m\u001b[43moneStepWorker\u001b[49m\u001b[43m,\u001b[49m\u001b[43m \u001b[49m\u001b[43m[\u001b[49m\u001b[43margs\u001b[49m\u001b[43m \u001b[49m\u001b[38;5;241;43m+\u001b[39;49m\u001b[43m \u001b[49m\u001b[43m(\u001b[49m\u001b[43mseed\u001b[49m\u001b[43m,\u001b[49m\u001b[43m \u001b[49m\u001b[43mi\u001b[49m\u001b[43m)\u001b[49m\u001b[43m \u001b[49m\u001b[38;5;28;43;01mfor\u001b[39;49;00m\u001b[43m \u001b[49m\u001b[43mi\u001b[49m\u001b[43m \u001b[49m\u001b[38;5;129;43;01min\u001b[39;49;00m\u001b[43m \u001b[49m\u001b[38;5;28;43mrange\u001b[39;49m\u001b[43m(\u001b[49m\u001b[43mniter\u001b[49m\u001b[43m)\u001b[49m\u001b[43m]\u001b[49m\u001b[43m)\u001b[49m\n\u001b[1;32m    213\u001b[0m     \u001b[38;5;28;01mfor\u001b[39;00m result \u001b[38;5;129;01min\u001b[39;00m results:\n\u001b[1;32m    214\u001b[0m         \u001b[38;5;28mself\u001b[39m\u001b[38;5;241m.\u001b[39mrows\u001b[38;5;241m.\u001b[39mextend(result)\n",
      "File \u001b[0;32m/usr/local/Cellar/python@3.9/3.9.7/Frameworks/Python.framework/Versions/3.9/lib/python3.9/multiprocessing/pool.py:372\u001b[0m, in \u001b[0;36mPool.starmap\u001b[0;34m(self, func, iterable, chunksize)\u001b[0m\n\u001b[1;32m    366\u001b[0m \u001b[38;5;28;01mdef\u001b[39;00m \u001b[38;5;21mstarmap\u001b[39m(\u001b[38;5;28mself\u001b[39m, func, iterable, chunksize\u001b[38;5;241m=\u001b[39m\u001b[38;5;28;01mNone\u001b[39;00m):\n\u001b[1;32m    367\u001b[0m     \u001b[38;5;124;03m'''\u001b[39;00m\n\u001b[1;32m    368\u001b[0m \u001b[38;5;124;03m    Like `map()` method but the elements of the `iterable` are expected to\u001b[39;00m\n\u001b[1;32m    369\u001b[0m \u001b[38;5;124;03m    be iterables as well and will be unpacked as arguments. Hence\u001b[39;00m\n\u001b[1;32m    370\u001b[0m \u001b[38;5;124;03m    `func` and (a, b) becomes func(a, b).\u001b[39;00m\n\u001b[1;32m    371\u001b[0m \u001b[38;5;124;03m    '''\u001b[39;00m\n\u001b[0;32m--> 372\u001b[0m     \u001b[38;5;28;01mreturn\u001b[39;00m \u001b[38;5;28;43mself\u001b[39;49m\u001b[38;5;241;43m.\u001b[39;49m\u001b[43m_map_async\u001b[49m\u001b[43m(\u001b[49m\u001b[43mfunc\u001b[49m\u001b[43m,\u001b[49m\u001b[43m \u001b[49m\u001b[43miterable\u001b[49m\u001b[43m,\u001b[49m\u001b[43m \u001b[49m\u001b[43mstarmapstar\u001b[49m\u001b[43m,\u001b[49m\u001b[43m \u001b[49m\u001b[43mchunksize\u001b[49m\u001b[43m)\u001b[49m\u001b[38;5;241;43m.\u001b[39;49m\u001b[43mget\u001b[49m\u001b[43m(\u001b[49m\u001b[43m)\u001b[49m\n",
      "File \u001b[0;32m/usr/local/Cellar/python@3.9/3.9.7/Frameworks/Python.framework/Versions/3.9/lib/python3.9/multiprocessing/pool.py:765\u001b[0m, in \u001b[0;36mApplyResult.get\u001b[0;34m(self, timeout)\u001b[0m\n\u001b[1;32m    764\u001b[0m \u001b[38;5;28;01mdef\u001b[39;00m \u001b[38;5;21mget\u001b[39m(\u001b[38;5;28mself\u001b[39m, timeout\u001b[38;5;241m=\u001b[39m\u001b[38;5;28;01mNone\u001b[39;00m):\n\u001b[0;32m--> 765\u001b[0m     \u001b[38;5;28;43mself\u001b[39;49m\u001b[38;5;241;43m.\u001b[39;49m\u001b[43mwait\u001b[49m\u001b[43m(\u001b[49m\u001b[43mtimeout\u001b[49m\u001b[43m)\u001b[49m\n\u001b[1;32m    766\u001b[0m     \u001b[38;5;28;01mif\u001b[39;00m \u001b[38;5;129;01mnot\u001b[39;00m \u001b[38;5;28mself\u001b[39m\u001b[38;5;241m.\u001b[39mready():\n\u001b[1;32m    767\u001b[0m         \u001b[38;5;28;01mraise\u001b[39;00m \u001b[38;5;167;01mTimeoutError\u001b[39;00m\n",
      "File \u001b[0;32m/usr/local/Cellar/python@3.9/3.9.7/Frameworks/Python.framework/Versions/3.9/lib/python3.9/multiprocessing/pool.py:762\u001b[0m, in \u001b[0;36mApplyResult.wait\u001b[0;34m(self, timeout)\u001b[0m\n\u001b[1;32m    761\u001b[0m \u001b[38;5;28;01mdef\u001b[39;00m \u001b[38;5;21mwait\u001b[39m(\u001b[38;5;28mself\u001b[39m, timeout\u001b[38;5;241m=\u001b[39m\u001b[38;5;28;01mNone\u001b[39;00m):\n\u001b[0;32m--> 762\u001b[0m     \u001b[38;5;28;43mself\u001b[39;49m\u001b[38;5;241;43m.\u001b[39;49m\u001b[43m_event\u001b[49m\u001b[38;5;241;43m.\u001b[39;49m\u001b[43mwait\u001b[49m\u001b[43m(\u001b[49m\u001b[43mtimeout\u001b[49m\u001b[43m)\u001b[49m\n",
      "File \u001b[0;32m/usr/local/Cellar/python@3.9/3.9.7/Frameworks/Python.framework/Versions/3.9/lib/python3.9/threading.py:574\u001b[0m, in \u001b[0;36mEvent.wait\u001b[0;34m(self, timeout)\u001b[0m\n\u001b[1;32m    572\u001b[0m signaled \u001b[38;5;241m=\u001b[39m \u001b[38;5;28mself\u001b[39m\u001b[38;5;241m.\u001b[39m_flag\n\u001b[1;32m    573\u001b[0m \u001b[38;5;28;01mif\u001b[39;00m \u001b[38;5;129;01mnot\u001b[39;00m signaled:\n\u001b[0;32m--> 574\u001b[0m     signaled \u001b[38;5;241m=\u001b[39m \u001b[38;5;28;43mself\u001b[39;49m\u001b[38;5;241;43m.\u001b[39;49m\u001b[43m_cond\u001b[49m\u001b[38;5;241;43m.\u001b[39;49m\u001b[43mwait\u001b[49m\u001b[43m(\u001b[49m\u001b[43mtimeout\u001b[49m\u001b[43m)\u001b[49m\n\u001b[1;32m    575\u001b[0m \u001b[38;5;28;01mreturn\u001b[39;00m signaled\n",
      "File \u001b[0;32m/usr/local/Cellar/python@3.9/3.9.7/Frameworks/Python.framework/Versions/3.9/lib/python3.9/threading.py:312\u001b[0m, in \u001b[0;36mCondition.wait\u001b[0;34m(self, timeout)\u001b[0m\n\u001b[1;32m    310\u001b[0m \u001b[38;5;28;01mtry\u001b[39;00m:    \u001b[38;5;66;03m# restore state no matter what (e.g., KeyboardInterrupt)\u001b[39;00m\n\u001b[1;32m    311\u001b[0m     \u001b[38;5;28;01mif\u001b[39;00m timeout \u001b[38;5;129;01mis\u001b[39;00m \u001b[38;5;28;01mNone\u001b[39;00m:\n\u001b[0;32m--> 312\u001b[0m         \u001b[43mwaiter\u001b[49m\u001b[38;5;241;43m.\u001b[39;49m\u001b[43macquire\u001b[49m\u001b[43m(\u001b[49m\u001b[43m)\u001b[49m\n\u001b[1;32m    313\u001b[0m         gotit \u001b[38;5;241m=\u001b[39m \u001b[38;5;28;01mTrue\u001b[39;00m\n\u001b[1;32m    314\u001b[0m     \u001b[38;5;28;01melse\u001b[39;00m:\n",
      "\u001b[0;31mKeyboardInterrupt\u001b[0m: "
     ]
    }
   ],
   "source": [
    "for i in range(main_outer_niter):\n",
    "    random.seed(i)\n",
    "    basic = CsvBatch(KSModel(),\n",
    "                 [STAR, Plurality, PluralityTop2,\n",
    "                  Approval, ApprovalTop2, Irv, Minimax],\n",
    "                 nvot=base_nvot, ncand=base_ncand, niter=base_inner_niter,\n",
    "                 pickiness = base_pickiness, pollingError = base_pollingError)\n",
    "    basic.saveFile(\"output/base_scenario\")\n",
    "    print(f\"((Generated {base_inner_niter * (i+1)} {datetime.datetime.now()}))\")"
   ]
  },
  {
   "cell_type": "code",
   "execution_count": null,
   "id": "9fe17e43",
   "metadata": {},
   "outputs": [],
   "source": []
  },
  {
   "cell_type": "code",
   "execution_count": null,
   "id": "ab579039",
   "metadata": {
    "scrolled": true
   },
   "outputs": [],
   "source": [
    "for i in range(base_outer_niter):\n",
    "    random.seed(i)\n",
    "    basic = CsvBatch(RandomModel(),\n",
    "                 [STAR, Plurality, PluralityTop2,\n",
    "                  Approval, ApprovalTop2, Irv, Minimax],\n",
    "                 nvot=base_nvot, ncand=base_ncand, niter=base_inner_niter,\n",
    "                 pickiness = base_pickiness, pollingError = base_pollingError)\n",
    "    basic.saveFile(\"output/impartial_culture\")\n",
    "    print(f\"((Generated {base_inner_niter * (i+1)} {datetime.datetime.now()}))\")\n",
    "    del basic"
   ]
  },
  {
   "cell_type": "code",
   "execution_count": null,
   "id": "6e1f5bd5",
   "metadata": {},
   "outputs": [],
   "source": [
    "for i in range(base_outer_niter):\n",
    "    random.seed(i)\n",
    "    basic = CsvBatch(DimModel(ndims = 2, dimWeights=[1,1]),\n",
    "                 [STAR, Plurality, PluralityTop2,\n",
    "                  Approval, ApprovalTop2, Irv, Minimax],\n",
    "                 nvot=base_nvot, ncand=base_ncand, niter=base_inner_niter,\n",
    "                 pickiness = base_pickiness, pollingError = base_pollingError)\n",
    "    basic.saveFile(\"output/2d_model\")\n",
    "    print(f\"((Generated {base_inner_niter * (i+1)} {datetime.datetime.now()}))\")\n",
    "    del basic"
   ]
  },
  {
   "cell_type": "code",
   "execution_count": null,
   "id": "c4c0fe26",
   "metadata": {},
   "outputs": [],
   "source": [
    "for i in range(base_outer_niter):\n",
    "    random.seed(i)\n",
    "    basic = CsvBatch(DimModel(ndims = 3, dimWeights=[1,1,1]),\n",
    "                 [STAR, Plurality, PluralityTop2,\n",
    "                  Approval, ApprovalTop2, Irv, Minimax],\n",
    "                 nvot=base_nvot, ncand=base_ncand, niter=base_inner_niter,\n",
    "                 pickiness = base_pickiness, pollingError = base_pollingError)\n",
    "    basic.saveFile(\"output/3d_model\")\n",
    "    print(f\"((Generated {base_inner_niter * (i+1)} {datetime.datetime.now()}))\")\n",
    "    del basic"
   ]
  },
  {
   "cell_type": "code",
   "execution_count": null,
   "id": "75d9e9b4",
   "metadata": {},
   "outputs": [],
   "source": [
    "for i in range(base_outer_niter):\n",
    "    random.seed(i)\n",
    "    basic = CsvBatch(KSModel(),\n",
    "                 [STAR, Plurality, PluralityTop2,\n",
    "                  Approval, ApprovalTop2, Irv, Minimax],\n",
    "                 nvot=base_nvot, ncand=3, niter=base_inner_niter,\n",
    "                 pickiness = base_pickiness, pollingError = base_pollingError)\n",
    "    basic.saveFile(\"output/3cand\")\n",
    "    print(f\"((Generated {base_inner_niter * (i+1)} {datetime.datetime.now()}))\")\n",
    "    del basic"
   ]
  },
  {
   "cell_type": "code",
   "execution_count": null,
   "id": "a61bbadd",
   "metadata": {},
   "outputs": [],
   "source": [
    "for i in range(base_outer_niter):\n",
    "    random.seed(i)\n",
    "    basic = CsvBatch(KSModel(),\n",
    "                 [STAR, Plurality, PluralityTop2,\n",
    "                  Approval, ApprovalTop2, Irv, Minimax],\n",
    "                 nvot=base_nvot, ncand=9, niter=base_inner_niter,\n",
    "                 pickiness = base_pickiness, pollingError = base_pollingError)\n",
    "    basic.saveFile(\"output/9cand\")\n",
    "    print(f\"((Generated {base_inner_niter * (i+1)} {datetime.datetime.now()}))\")\n",
    "    del basic"
   ]
  },
  {
   "cell_type": "code",
   "execution_count": null,
   "id": "abcf0f64",
   "metadata": {},
   "outputs": [],
   "source": [
    "for i in range(base_outer_niter):\n",
    "    random.seed(i)\n",
    "    basic = CsvBatch(KSModel(),\n",
    "                 [STAR, Plurality, PluralityTop2,\n",
    "                  Approval, ApprovalTop2, Irv, Minimax],\n",
    "                 nvot=base_nvot, ncand=12, niter=base_inner_niter,\n",
    "                 pickiness = base_pickiness, pollingError = base_pollingError)\n",
    "    basic.saveFile(\"output/12cand\")\n",
    "    print(f\"((Generated {base_inner_niter * (i+1)} {datetime.datetime.now()}))\")\n",
    "    del basic"
   ]
  },
  {
   "cell_type": "code",
   "execution_count": null,
   "id": "65a8c815",
   "metadata": {},
   "outputs": [],
   "source": [
    "for i in range(base_outer_niter):\n",
    "    random.seed(i)\n",
    "    basic = CsvBatch(KSModel(),\n",
    "                 [STAR, Plurality, PluralityTop2,\n",
    "                  Approval, ApprovalTop2, Irv, Minimax],\n",
    "                 nvot=base_nvot, ncand=base_ncand, niter=base_inner_niter,\n",
    "                 pickiness = .99, pollingError = base_pollingError)\n",
    "    basic.saveFile(\"output/plurality_picky\")\n",
    "    print(f\"((Generated {base_inner_niter * (i+1)} {datetime.datetime.now()}))\")\n",
    "    del basic"
   ]
  },
  {
   "cell_type": "code",
   "execution_count": null,
   "id": "b3e3b750",
   "metadata": {},
   "outputs": [],
   "source": [
    "for i in range(base_outer_niter):\n",
    "    random.seed(i)\n",
    "    basic = CsvBatch(KSModel(),\n",
    "                 [STAR, Plurality, PluralityTop2,\n",
    "                  Approval, ApprovalTop2, Irv, Minimax],\n",
    "                 nvot=base_nvot, ncand=base_ncand, niter=base_inner_niter,\n",
    "                 pickiness = base_pickiness, pollingError = 0.0)\n",
    "    basic.saveFile(\"output/no_noise\")\n",
    "    print(f\"((Generated {base_inner_niter * (i+1)}))\")\n",
    "    del basic"
   ]
  },
  {
   "cell_type": "code",
   "execution_count": null,
   "id": "97270ba8",
   "metadata": {},
   "outputs": [],
   "source": [
    "%%time\n",
    "for i in range(base_outer_niter,main_outer_niter):\n",
    "    random.seed(i)\n",
    "    noStrats = CsvBatch(KSModel(),\n",
    "                 [(STAR, STAR.honBallot, [], {}), (STAR, STAR.vaBallot, [], {'pollingUncertainty':0.4}),\n",
    "                  (Plurality, Plurality.honBallot, [], {}), (Plurality, Plurality.vaBallot, [], {'pollingUncertainty':0.4}),\n",
    "                  (PluralityTop2, PluralityTop2.honBallot, [], {}), (PluralityTop2, PluralityTop2.vaBallot, [], {'pollingUncertainty':0.4}),\n",
    "                  (Approval, Approval.honBallot, [], {}), (Approval, Approval.vaBallot, [], {'pollingUncertainty':0.4}),\n",
    "                  (ApprovalTop2, ApprovalTop2.honBallot, [], {}), (ApprovalTop2, ApprovalTop2.vaBallot, [], {'pollingUncertainty':0.4}),\n",
    "                  (Irv, Irv.honBallot, [], {}), (Irv, Irv.vaBallot, [], {'pollingUncertainty':0.4}),\n",
    "                  (Minimax, Minimax.honBallot, [], {}), (Minimax, Minimax.vaBallot, [], {'pollingUncertainty':0.4})],\n",
    "                 nvot=5001, ncand=base_ncand, niter=base_inner_niter,\n",
    "                 pickiness = base_pickiness, pollingError = base_pollingError)\n",
    "    noStrats.saveFile(\"output/nostrats\")\n",
    "    print(f\"((Generated {base_inner_niter * (i+1)}))\")\n",
    "del noStrats"
   ]
  },
  {
   "cell_type": "code",
   "execution_count": null,
   "id": "8ace3b38",
   "metadata": {},
   "outputs": [],
   "source": [
    "import gc\n",
    "gc.collect()\n"
   ]
  },
  {
   "cell_type": "code",
   "execution_count": null,
   "id": "604167ec",
   "metadata": {},
   "outputs": [],
   "source": [
    "\n",
    "def tieFor2Estimate2(probs):\n",
    "    EXP = 2\n",
    "    unnormalized_part1 = [x*(1-x) for x in probs]\n",
    "    unnormalized_part2 = [(\n",
    "            sum(\n",
    "                    sum((y*z)**EXP if (y*z)**EXP > 1e-9 else 1e-10 for k, z in enumerate(probs) if i != k != j)\n",
    "                for j, y in enumerate(probs) if i != j)**(1/EXP)) for i, x in enumerate(probs)]\n",
    "    \n",
    "    unnormalized_part3 = [sum(y**EXP if y**EXP > 1e-9 else 1e-10 for j, y in enumerate(probs) if i != j)\n",
    "        **(1/EXP) for i, x in enumerate(probs)]\n",
    "        \n",
    "    \n",
    "    print(f\"p1:{[log(x) for x in unnormalized_part1]} , p2:{[log(x) for x in unnormalized_part2]} , p3:{[log(x) for x in unnormalized_part3]}\")\n",
    "    unnormalized = [unnormalized_part1[i]*unnormalized_part2[i] / unnormalized_part3[i] for i in range(len(unnormalized_part2)) ]\n",
    "    normFactor = sum(unnormalized)\n",
    "    return [u/normFactor for u in unnormalized]\n",
    "\n",
    "\n",
    "\n",
    "def tieFor2Estimate(probs):\n",
    "    EXP = 2\n",
    "    LOGEXP = np.log(EXP)\n",
    "    #print()\n",
    "\n",
    "    np.seterr(divide = 'ignore')\n",
    "    unnormalized_log_part1 = np.array([np.log(x*(1-x)) for i, x in enumerate(probs)])\n",
    "    np.seterr(divide = 'warn')\n",
    "    unnormalized_log_part1[unnormalized_log_part1 == -np.inf] = -1e9\n",
    "    unnormalized_log_part2 = np.array([ \n",
    "            logsumexp((np.array([\n",
    "                    [log(y)*EXP + log(z)*EXP for k, z in enumerate(probs) if i != k != j]\n",
    "                for j, y in enumerate(probs) if i != j])))/EXP\n",
    "        for i, x in enumerate(probs)])\n",
    "    unnormalized_log_part3 = np.array([\n",
    "            -logsumexp(np.array([log(y)*EXP for j, y in enumerate(probs) if i != j]))\n",
    "        /EXP for i, x in enumerate(probs)])\n",
    "    unnormalized_log = unnormalized_log_part1 + unnormalized_log_part2 + unnormalized_log_part3\n",
    "    print(f\"p1:{unnormalized_log_part1}, p2:{unnormalized_log_part2}, p3:{unnormalized_log_part3}\")\n",
    "    unnormalized = np.exp(unnormalized_log - np.max(unnormalized_log))\n",
    "\n",
    "    #print(unnormalized)\n",
    "    normFactor = sum(unnormalized)\n",
    "    return [u/normFactor for u in unnormalized]\n",
    "    \n",
    "    \n",
    "print(tieFor2Estimate([.495,.495,.01]))\n",
    "print(tieFor2Estimate2([.495,.495,.01]))"
   ]
  },
  {
   "cell_type": "code",
   "execution_count": null,
   "id": "5e0efe89",
   "metadata": {},
   "outputs": [],
   "source": [
    "tieFor2Estimate2([.495,.495,.005,.005])"
   ]
  },
  {
   "cell_type": "code",
   "execution_count": null,
   "id": "9a0f0f00",
   "metadata": {},
   "outputs": [],
   "source": [
    "tieFor2Estimate([.495,.495,.005,.005])"
   ]
  },
  {
   "cell_type": "code",
   "execution_count": null,
   "id": "0959656d",
   "metadata": {},
   "outputs": [],
   "source": []
  }
 ],
 "metadata": {
  "kernelspec": {
   "display_name": "Python 3 (ipykernel)",
   "language": "python",
   "name": "python3"
  },
  "language_info": {
   "codemirror_mode": {
    "name": "ipython",
    "version": 3
   },
   "file_extension": ".py",
   "mimetype": "text/x-python",
   "name": "python",
   "nbconvert_exporter": "python",
   "pygments_lexer": "ipython3",
   "version": "3.9.7"
  }
 },
 "nbformat": 4,
 "nbformat_minor": 5
}
